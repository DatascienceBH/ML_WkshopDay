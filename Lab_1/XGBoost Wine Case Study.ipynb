{
 "cells": [
  {
   "cell_type": "code",
   "execution_count": null,
   "metadata": {},
   "outputs": [],
   "source": []
  },
  {
   "cell_type": "code",
   "execution_count": null,
   "metadata": {},
   "outputs": [],
   "source": []
  },
  {
   "cell_type": "code",
   "execution_count": null,
   "metadata": {},
   "outputs": [],
   "source": []
  },
  {
   "cell_type": "code",
   "execution_count": null,
   "metadata": {},
   "outputs": [],
   "source": []
  },
  {
   "cell_type": "code",
   "execution_count": 1,
   "metadata": {},
   "outputs": [],
   "source": [
    "import numpy as np\n",
    "\n",
    "from scipy.stats import uniform, randint\n",
    "\n",
    "from sklearn.datasets import load_breast_cancer, load_diabetes, load_wine\n",
    "from sklearn.metrics import auc, accuracy_score, confusion_matrix, mean_squared_error\n",
    "from sklearn.model_selection import cross_val_score, GridSearchCV, KFold, RandomizedSearchCV, train_test_split\n",
    "\n",
    "import xgboost as xgb"
   ]
  },
  {
   "cell_type": "code",
   "execution_count": 2,
   "metadata": {},
   "outputs": [],
   "source": [
    "def display_scores(scores):\n",
    "    print(\"Scores: {0}\\nMean: {1:.3f}\\nStd: {2:.3f}\".format(scores, np.mean(scores), np.std(scores)))"
   ]
  },
  {
   "cell_type": "code",
   "execution_count": 3,
   "metadata": {},
   "outputs": [],
   "source": [
    "def report_best_scores(results, n_top=3):\n",
    "    for i in range(1, n_top + 1):\n",
    "        candidates = np.flatnonzero(results['rank_test_score'] == i)\n",
    "        for candidate in candidates:\n",
    "            print(\"Model with rank: {0}\".format(i))\n",
    "            print(\"Mean validation score: {0:.3f} (std: {1:.3f})\".format(\n",
    "                  results['mean_test_score'][candidate],\n",
    "                  results['std_test_score'][candidate]))\n",
    "            print(\"Parameters: {0}\".format(results['params'][candidate]))\n",
    "            print(\"\")"
   ]
  },
  {
   "cell_type": "code",
   "execution_count": 4,
   "metadata": {},
   "outputs": [
    {
     "name": "stdout",
     "output_type": "stream",
     "text": [
      "36.271203581682585\n"
     ]
    }
   ],
   "source": [
    "diabetes = load_diabetes()\n",
    "\n",
    "X = diabetes.data\n",
    "y = diabetes.target\n",
    "\n",
    "xgb_model = xgb.XGBRegressor(objective=\"reg:squarederror\", random_state=42)\n",
    "\n",
    "xgb_model.fit(X, y)\n",
    "\n",
    "y_pred = xgb_model.predict(X)\n",
    "\n",
    "mse=mean_squared_error(y, y_pred)\n",
    "\n",
    "print(np.sqrt(mse))"
   ]
  },
  {
   "cell_type": "code",
   "execution_count": 5,
   "metadata": {},
   "outputs": [
    {
     "data": {
      "text/plain": [
       "XGBRegressor(base_score=0.5, booster='gbtree', colsample_bylevel=1,\n",
       "       colsample_bynode=1, colsample_bytree=1, gamma=0,\n",
       "       importance_type='gain', learning_rate=0.1, max_delta_step=0,\n",
       "       max_depth=3, min_child_weight=1, missing=None, n_estimators=100,\n",
       "       n_jobs=1, nthread=None, objective='reg:squarederror',\n",
       "       random_state=42, reg_alpha=0, reg_lambda=1, scale_pos_weight=1,\n",
       "       seed=None, silent=None, subsample=1, verbosity=1)"
      ]
     },
     "execution_count": 5,
     "metadata": {},
     "output_type": "execute_result"
    }
   ],
   "source": [
    "xgb_model"
   ]
  },
  {
   "cell_type": "code",
   "execution_count": null,
   "metadata": {},
   "outputs": [],
   "source": []
  },
  {
   "cell_type": "code",
   "execution_count": null,
   "metadata": {},
   "outputs": [],
   "source": []
  },
  {
   "cell_type": "markdown",
   "metadata": {},
   "source": [
    "### Binary classification"
   ]
  },
  {
   "cell_type": "code",
   "execution_count": 6,
   "metadata": {},
   "outputs": [
    {
     "name": "stdout",
     "output_type": "stream",
     "text": [
      "[[212   0]\n",
      " [  0 357]]\n"
     ]
    }
   ],
   "source": [
    "cancer = load_breast_cancer()\n",
    "\n",
    "X = cancer.data\n",
    "y = cancer.target\n",
    "\n",
    "xgb_model = xgb.XGBClassifier(objective=\"binary:logistic\", random_state=42)\n",
    "xgb_model.fit(X, y)\n",
    "\n",
    "y_pred = xgb_model.predict(X)\n",
    "\n",
    "print(confusion_matrix(y, y_pred))"
   ]
  },
  {
   "cell_type": "markdown",
   "metadata": {},
   "source": [
    "### Multiclass classification"
   ]
  },
  {
   "cell_type": "code",
   "execution_count": 7,
   "metadata": {},
   "outputs": [
    {
     "name": "stdout",
     "output_type": "stream",
     "text": [
      "[[59  0  0]\n",
      " [ 0 71  0]\n",
      " [ 0  0 48]]\n"
     ]
    }
   ],
   "source": [
    "wine = load_wine()\n",
    "\n",
    "X = wine.data\n",
    "y = wine.target\n",
    "\n",
    "xgb_model = xgb.XGBClassifier(objective=\"multi:softprob\", random_state=42)\n",
    "xgb_model.fit(X, y)\n",
    "\n",
    "y_pred = xgb_model.predict(X)\n",
    "\n",
    "print(confusion_matrix(y, y_pred))"
   ]
  },
  {
   "cell_type": "markdown",
   "metadata": {},
   "source": [
    "### Cross validation"
   ]
  },
  {
   "cell_type": "code",
   "execution_count": 8,
   "metadata": {},
   "outputs": [
    {
     "name": "stdout",
     "output_type": "stream",
     "text": [
      "Scores: [55.30444573 55.59151472 63.44642064 57.82986083 58.71808276]\n",
      "Mean: 58.178\n",
      "Std: 2.937\n"
     ]
    }
   ],
   "source": [
    "diabetes = load_diabetes()\n",
    "\n",
    "X = diabetes.data\n",
    "y = diabetes.target\n",
    "\n",
    "kfold = KFold(n_splits=5, shuffle=True, random_state=42)\n",
    "\n",
    "scores = []\n",
    "\n",
    "for train_index, test_index in kfold.split(X):   \n",
    "    X_train, X_test = X[train_index], X[test_index]\n",
    "    y_train, y_test = y[train_index], y[test_index]\n",
    "\n",
    "    xgb_model = xgb.XGBRegressor(objective=\"reg:squarederror\")\n",
    "    xgb_model.fit(X_train, y_train)\n",
    "    \n",
    "    y_pred = xgb_model.predict(X_test)\n",
    "    \n",
    "    scores.append(mean_squared_error(y_test, y_pred))\n",
    "    \n",
    "display_scores(np.sqrt(scores))"
   ]
  },
  {
   "cell_type": "code",
   "execution_count": 9,
   "metadata": {
    "scrolled": true
   },
   "outputs": [
    {
     "name": "stdout",
     "output_type": "stream",
     "text": [
      "Scores: [56.04057166 56.14039793 60.3213523  59.67532995 60.7722925 ]\n",
      "Mean: 58.590\n",
      "Std: 2.071\n"
     ]
    }
   ],
   "source": [
    "xgb_model = xgb.XGBRegressor(objective=\"reg:squarederror\", random_state=42)\n",
    "\n",
    "scores = cross_val_score(xgb_model, X, y, scoring=\"neg_mean_squared_error\", cv=5)\n",
    "\n",
    "display_scores(np.sqrt(-scores))"
   ]
  },
  {
   "cell_type": "markdown",
   "metadata": {},
   "source": [
    "### Hyperparameter searching"
   ]
  },
  {
   "cell_type": "code",
   "execution_count": 10,
   "metadata": {},
   "outputs": [
    {
     "name": "stdout",
     "output_type": "stream",
     "text": [
      "Fitting 3 folds for each of 200 candidates, totalling 600 fits\n"
     ]
    },
    {
     "name": "stderr",
     "output_type": "stream",
     "text": [
      "[Parallel(n_jobs=1)]: Using backend SequentialBackend with 1 concurrent workers.\n"
     ]
    },
    {
     "name": "stdout",
     "output_type": "stream",
     "text": [
      "Model with rank: 1\n",
      "Mean validation score: 0.471 (std: 0.003)\n",
      "Parameters: {'colsample_bytree': 0.9521318895941269, 'gamma': 0.45534309912785653, 'learning_rate': 0.06684323455372013, 'max_depth': 2, 'n_estimators': 120, 'subsample': 0.6662082041469158}\n",
      "\n"
     ]
    },
    {
     "name": "stderr",
     "output_type": "stream",
     "text": [
      "[Parallel(n_jobs=1)]: Done 600 out of 600 | elapsed:   35.5s finished\n",
      "/Users/anaconda3/lib/python3.7/site-packages/sklearn/model_selection/_search.py:841: DeprecationWarning: The default of the `iid` parameter will change from True to False in version 0.22 and will be removed in 0.24. This will change numeric results when test-set sizes are unequal.\n",
      "  DeprecationWarning)\n"
     ]
    }
   ],
   "source": [
    "diabetes = load_diabetes()\n",
    "\n",
    "X = diabetes.data\n",
    "y = diabetes.target\n",
    "\n",
    "xgb_model = xgb.XGBRegressor(objective=\"reg:squarederror\", random_state=42)\n",
    "\n",
    "\n",
    "params = {\n",
    "    \"colsample_bytree\": uniform(0.7, 0.3),\n",
    "    \"gamma\": uniform(0, 0.5),\n",
    "    \"learning_rate\": uniform(0.03, 0.3), # default 0.1 \n",
    "    \"max_depth\": randint(2, 6), # default 3\n",
    "    \"n_estimators\": randint(100, 150), # default 100\n",
    "    \"subsample\": uniform(0.6, 0.4)\n",
    "}\n",
    "\n",
    "search = RandomizedSearchCV(xgb_model, param_distributions=params, random_state=42, n_iter=200, cv=3, verbose=1, n_jobs=1, return_train_score=True)\n",
    "\n",
    "search.fit(X, y)\n",
    "\n",
    "report_best_scores(search.cv_results_, 1)"
   ]
  },
  {
   "cell_type": "code",
   "execution_count": null,
   "metadata": {},
   "outputs": [],
   "source": []
  },
  {
   "cell_type": "code",
   "execution_count": null,
   "metadata": {},
   "outputs": [],
   "source": []
  },
  {
   "cell_type": "code",
   "execution_count": 16,
   "metadata": {},
   "outputs": [
    {
     "name": "stdout",
     "output_type": "stream",
     "text": [
      "[0]\tvalidation_0-auc:0.964315\n",
      "Will train until validation_0-auc hasn't improved in 5 rounds.\n",
      "[1]\tvalidation_0-auc:0.970662\n",
      "[2]\tvalidation_0-auc:0.976176\n",
      "[3]\tvalidation_0-auc:0.976176\n",
      "[4]\tvalidation_0-auc:0.977216\n",
      "[5]\tvalidation_0-auc:0.977008\n",
      "[6]\tvalidation_0-auc:0.97732\n",
      "[7]\tvalidation_0-auc:0.97732\n",
      "[8]\tvalidation_0-auc:0.973575\n",
      "[9]\tvalidation_0-auc:0.973575\n",
      "[10]\tvalidation_0-auc:0.973575\n",
      "[11]\tvalidation_0-auc:0.973575\n",
      "Stopping. Best iteration:\n",
      "[6]\tvalidation_0-auc:0.97732\n",
      "\n"
     ]
    },
    {
     "data": {
      "text/plain": [
       "0.958041958041958"
      ]
     },
     "execution_count": 16,
     "metadata": {},
     "output_type": "execute_result"
    }
   ],
   "source": [
    "cancer = load_breast_cancer()\n",
    "\n",
    "X = cancer.data\n",
    "y = cancer.target\n",
    "\n",
    "# if more than one evaluation metric are given the last one is used for early stopping\n",
    "xgb_model = xgb.XGBClassifier(objective=\"binary:logistic\", random_state=42, eval_metric=\"auc\")\n",
    "\n",
    "X_train, X_test, y_train, y_test = train_test_split(X, y, random_state=42)\n",
    "\n",
    "xgb_model.fit(X_train, y_train, early_stopping_rounds=5, eval_set=[(X_test, y_test)])\n",
    "\n",
    "y_pred = xgb_model.predict(X_test)\n",
    "\n",
    "accuracy_score(y_test, y_pred)"
   ]
  },
  {
   "cell_type": "markdown",
   "metadata": {},
   "source": [
    "- xgb_model.fit() will produce a model from the last iteration, not the best one, so to get the optimum model consider retraining over xgb_model.best_iteration rounds."
   ]
  },
  {
   "cell_type": "code",
   "execution_count": 17,
   "metadata": {},
   "outputs": [
    {
     "name": "stdout",
     "output_type": "stream",
     "text": [
      "best score: 0.97732, best iteration: 6, best ntree limit 7\n"
     ]
    }
   ],
   "source": [
    "print(\"best score: {0}, best iteration: {1}, best ntree limit {2}\".format(xgb_model.best_score, xgb_model.best_iteration, xgb_model.best_ntree_limit))"
   ]
  },
  {
   "cell_type": "markdown",
   "metadata": {},
   "source": [
    "### Evaluations"
   ]
  },
  {
   "cell_type": "code",
   "execution_count": 18,
   "metadata": {},
   "outputs": [
    {
     "name": "stdout",
     "output_type": "stream",
     "text": [
      "[0]\tvalidation_0-auc:0.964315\tvalidation_0-error:0.048951\tvalidation_0-error@0.6:0.622378\n",
      "[1]\tvalidation_0-auc:0.970662\tvalidation_0-error:0.048951\tvalidation_0-error@0.6:0.622378\n",
      "[2]\tvalidation_0-auc:0.976176\tvalidation_0-error:0.041958\tvalidation_0-error@0.6:0.104895\n",
      "[3]\tvalidation_0-auc:0.976176\tvalidation_0-error:0.041958\tvalidation_0-error@0.6:0.076923\n",
      "[4]\tvalidation_0-auc:0.977216\tvalidation_0-error:0.041958\tvalidation_0-error@0.6:0.062937\n",
      "[5]\tvalidation_0-auc:0.977008\tvalidation_0-error:0.041958\tvalidation_0-error@0.6:0.062937\n",
      "[6]\tvalidation_0-auc:0.97732\tvalidation_0-error:0.041958\tvalidation_0-error@0.6:0.055944\n",
      "[7]\tvalidation_0-auc:0.97732\tvalidation_0-error:0.048951\tvalidation_0-error@0.6:0.048951\n",
      "[8]\tvalidation_0-auc:0.973575\tvalidation_0-error:0.048951\tvalidation_0-error@0.6:0.048951\n",
      "[9]\tvalidation_0-auc:0.973575\tvalidation_0-error:0.048951\tvalidation_0-error@0.6:0.048951\n",
      "[10]\tvalidation_0-auc:0.973575\tvalidation_0-error:0.048951\tvalidation_0-error@0.6:0.048951\n",
      "[11]\tvalidation_0-auc:0.973575\tvalidation_0-error:0.048951\tvalidation_0-error@0.6:0.048951\n",
      "[12]\tvalidation_0-auc:0.973575\tvalidation_0-error:0.041958\tvalidation_0-error@0.6:0.048951\n",
      "[13]\tvalidation_0-auc:0.979089\tvalidation_0-error:0.041958\tvalidation_0-error@0.6:0.048951\n",
      "[14]\tvalidation_0-auc:0.978777\tvalidation_0-error:0.041958\tvalidation_0-error@0.6:0.048951\n",
      "[15]\tvalidation_0-auc:0.986059\tvalidation_0-error:0.041958\tvalidation_0-error@0.6:0.041958\n",
      "[16]\tvalidation_0-auc:0.98866\tvalidation_0-error:0.034965\tvalidation_0-error@0.6:0.048951\n",
      "[17]\tvalidation_0-auc:0.989284\tvalidation_0-error:0.034965\tvalidation_0-error@0.6:0.041958\n",
      "[18]\tvalidation_0-auc:0.989284\tvalidation_0-error:0.034965\tvalidation_0-error@0.6:0.041958\n",
      "[19]\tvalidation_0-auc:0.991261\tvalidation_0-error:0.034965\tvalidation_0-error@0.6:0.041958\n"
     ]
    }
   ],
   "source": [
    "cancer = load_breast_cancer()\n",
    "\n",
    "X = cancer.data\n",
    "y = cancer.target\n",
    "\n",
    "xgb_model = xgb.XGBClassifier(objective=\"binary:logistic\", n_estimators=20, random_state=42, eval_metric=[\"auc\", \"error\", \"error@0.6\"])\n",
    "\n",
    "X_train, X_test, y_train, y_test = train_test_split(X, y, random_state=42)\n",
    "\n",
    "xgb_model.fit(X_train, y_train, eval_set=[(X_test, y_test)])\n",
    "\n",
    "y_pred = xgb_model.predict(X_test)"
   ]
  },
  {
   "cell_type": "markdown",
   "metadata": {},
   "source": [
    "### Plotting"
   ]
  },
  {
   "cell_type": "code",
   "execution_count": 20,
   "metadata": {},
   "outputs": [
    {
     "data": {
      "text/plain": [
       "<matplotlib.axes._subplots.AxesSubplot at 0x1206be128>"
      ]
     },
     "execution_count": 20,
     "metadata": {},
     "output_type": "execute_result"
    },
    {
     "data": {
      "image/png": "[encoded data removed]",
      "text/plain": [
       "<Figure size 432x288 with 1 Axes>"
      ]
     },
     "metadata": {
      "needs_background": "light"
     },
     "output_type": "display_data"
    }
   ],
   "source": [
    "# requires graphviz and python-graphviz conda packages\n",
    "import graphviz\n",
    "\n",
    "cancer = load_breast_cancer()\n",
    "\n",
    "X = cancer.data\n",
    "y = cancer.target\n",
    "\n",
    "xgb_model = xgb.XGBClassifier(objective=\"binary:logistic\", random_state=42, eval_metric=\"auc\")\n",
    "\n",
    "X_train, X_test, y_train, y_test = train_test_split(X, y, random_state=42)\n",
    "\n",
    "xgb_model.fit(X_train, y_train, early_stopping_rounds=10, eval_set=[(X_test, y_test)], verbose=False)\n",
    "\n",
    "xgb.plot_importance(xgb_model)\n",
    "\n"
   ]
  },
  {
   "cell_type": "code",
   "execution_count": 21,
   "metadata": {},
   "outputs": [
    {
     "data": {
      "image/svg+xml": [
       "<?xml version=\"1.0\" encoding=\"UTF-8\" standalone=\"no\"?>\n",
       "<!DOCTYPE svg PUBLIC \"-//W3C//DTD SVG 1.1//EN\"\n",
       " \"http://www.w3.org/Graphics/SVG/1.1/DTD/svg11.dtd\">\n",
       "<!-- Generated by graphviz version 2.43.0 (0)\n",
       " -->\n",
       "<!-- Title: %3 Pages: 1 -->\n",
       "<svg width=\"678pt\" height=\"302pt\"\n",
       " viewBox=\"0.00 0.00 677.92 302.00\" xmlns=\"http://www.w3.org/2000/svg\" xmlns:xlink=\"http://www.w3.org/1999/xlink\">\n",
       "<g id=\"graph0\" class=\"graph\" transform=\"scale(1 1) rotate(0) translate(4 298)\">\n",
       "<title>%3</title>\n",
       "<polygon fill=\"white\" stroke=\"transparent\" points=\"-4,4 -4,-298 673.92,-298 673.92,4 -4,4\"/>\n",
       "<!-- 0 -->\n",
       "<g id=\"node1\" class=\"node\">\n",
       "<title>0</title>\n",
       "<ellipse fill=\"none\" stroke=\"black\" cx=\"333.77\" cy=\"-276\" rx=\"73.12\" ry=\"18\"/>\n",
       "<text text-anchor=\"middle\" x=\"333.77\" y=\"-271.8\" font-family=\"Times,serif\" font-size=\"14.00\">f26&lt;0.208200008</text>\n",
       "</g>\n",
       "<!-- 1 -->\n",
       "<g id=\"node2\" class=\"node\">\n",
       "<title>1</title>\n",
       "<ellipse fill=\"none\" stroke=\"black\" cx=\"249.77\" cy=\"-190\" rx=\"68.78\" ry=\"18\"/>\n",
       "<text text-anchor=\"middle\" x=\"249.77\" y=\"-185.8\" font-family=\"Times,serif\" font-size=\"14.00\">f13&lt;42.8250008</text>\n",
       "</g>\n",
       "<!-- 0&#45;&gt;1 -->\n",
       "<g id=\"edge1\" class=\"edge\">\n",
       "<title>0&#45;&gt;1</title>\n",
       "<path fill=\"none\" stroke=\"#0000ff\" d=\"M317.18,-258.4C304.75,-245.98 287.58,-228.8 273.67,-214.9\"/>\n",
       "<polygon fill=\"#0000ff\" stroke=\"#0000ff\" points=\"275.88,-212.16 266.34,-207.56 270.93,-217.11 275.88,-212.16\"/>\n",
       "<text text-anchor=\"middle\" x=\"332.39\" y=\"-228.8\" font-family=\"Times,serif\" font-size=\"14.00\">yes, missing</text>\n",
       "</g>\n",
       "<!-- 2 -->\n",
       "<g id=\"node3\" class=\"node\">\n",
       "<title>2</title>\n",
       "<ellipse fill=\"none\" stroke=\"black\" cx=\"418.77\" cy=\"-190\" rx=\"68.78\" ry=\"18\"/>\n",
       "<text text-anchor=\"middle\" x=\"418.77\" y=\"-185.8\" font-family=\"Times,serif\" font-size=\"14.00\">f23&lt;953.700012</text>\n",
       "</g>\n",
       "<!-- 0&#45;&gt;2 -->\n",
       "<g id=\"edge2\" class=\"edge\">\n",
       "<title>0&#45;&gt;2</title>\n",
       "<path fill=\"none\" stroke=\"#ff0000\" d=\"M351.6,-258.4C357.72,-252.63 364.59,-246.07 370.77,-240 378.8,-232.11 387.44,-223.37 395.15,-215.48\"/>\n",
       "<polygon fill=\"#ff0000\" stroke=\"#ff0000\" points=\"398.03,-217.55 402.49,-207.94 393.01,-212.66 398.03,-217.55\"/>\n",
       "<text text-anchor=\"middle\" x=\"391.77\" y=\"-228.8\" font-family=\"Times,serif\" font-size=\"14.00\">no</text>\n",
       "</g>\n",
       "<!-- 3 -->\n",
       "<g id=\"node4\" class=\"node\">\n",
       "<title>3</title>\n",
       "<ellipse fill=\"none\" stroke=\"black\" cx=\"74.77\" cy=\"-104\" rx=\"74.55\" ry=\"18\"/>\n",
       "<text text-anchor=\"middle\" x=\"74.77\" y=\"-99.8\" font-family=\"Times,serif\" font-size=\"14.00\">leaf=0.090577662</text>\n",
       "</g>\n",
       "<!-- 1&#45;&gt;3 -->\n",
       "<g id=\"edge3\" class=\"edge\">\n",
       "<title>1&#45;&gt;3</title>\n",
       "<path fill=\"none\" stroke=\"#0000ff\" d=\"M218.05,-173.86C205.16,-167.71 190.14,-160.52 176.55,-154 156.58,-144.42 134.43,-133.76 115.9,-124.83\"/>\n",
       "<polygon fill=\"#0000ff\" stroke=\"#0000ff\" points=\"117.38,-121.66 106.85,-120.47 114.34,-127.97 117.38,-121.66\"/>\n",
       "<text text-anchor=\"middle\" x=\"211.39\" y=\"-142.8\" font-family=\"Times,serif\" font-size=\"14.00\">yes, missing</text>\n",
       "</g>\n",
       "<!-- 4 -->\n",
       "<g id=\"node5\" class=\"node\">\n",
       "<title>4</title>\n",
       "<ellipse fill=\"none\" stroke=\"black\" cx=\"249.77\" cy=\"-104\" rx=\"82.28\" ry=\"18\"/>\n",
       "<text text-anchor=\"middle\" x=\"249.77\" y=\"-99.8\" font-family=\"Times,serif\" font-size=\"14.00\">leaf=&#45;0.0125452532</text>\n",
       "</g>\n",
       "<!-- 1&#45;&gt;4 -->\n",
       "<g id=\"edge4\" class=\"edge\">\n",
       "<title>1&#45;&gt;4</title>\n",
       "<path fill=\"none\" stroke=\"#ff0000\" d=\"M249.77,-171.6C249.77,-160.26 249.77,-145.23 249.77,-132.32\"/>\n",
       "<polygon fill=\"#ff0000\" stroke=\"#ff0000\" points=\"253.27,-132.1 249.77,-122.1 246.27,-132.1 253.27,-132.1\"/>\n",
       "<text text-anchor=\"middle\" x=\"256.77\" y=\"-142.8\" font-family=\"Times,serif\" font-size=\"14.00\">no</text>\n",
       "</g>\n",
       "<!-- 5 -->\n",
       "<g id=\"node6\" class=\"node\">\n",
       "<title>5</title>\n",
       "<ellipse fill=\"none\" stroke=\"black\" cx=\"418.77\" cy=\"-104\" rx=\"68.78\" ry=\"18\"/>\n",
       "<text text-anchor=\"middle\" x=\"418.77\" y=\"-99.8\" font-family=\"Times,serif\" font-size=\"14.00\">f21&lt;27.4300003</text>\n",
       "</g>\n",
       "<!-- 2&#45;&gt;5 -->\n",
       "<g id=\"edge5\" class=\"edge\">\n",
       "<title>2&#45;&gt;5</title>\n",
       "<path fill=\"none\" stroke=\"#0000ff\" d=\"M418.77,-171.6C418.77,-160.26 418.77,-145.23 418.77,-132.32\"/>\n",
       "<polygon fill=\"#0000ff\" stroke=\"#0000ff\" points=\"422.27,-132.1 418.77,-122.1 415.27,-132.1 422.27,-132.1\"/>\n",
       "<text text-anchor=\"middle\" x=\"453.39\" y=\"-142.8\" font-family=\"Times,serif\" font-size=\"14.00\">yes, missing</text>\n",
       "</g>\n",
       "<!-- 6 -->\n",
       "<g id=\"node7\" class=\"node\">\n",
       "<title>6</title>\n",
       "<ellipse fill=\"none\" stroke=\"black\" cx=\"587.77\" cy=\"-104\" rx=\"82.28\" ry=\"18\"/>\n",
       "<text text-anchor=\"middle\" x=\"587.77\" y=\"-99.8\" font-family=\"Times,serif\" font-size=\"14.00\">leaf=&#45;0.0867691636</text>\n",
       "</g>\n",
       "<!-- 2&#45;&gt;6 -->\n",
       "<g id=\"edge6\" class=\"edge\">\n",
       "<title>2&#45;&gt;6</title>\n",
       "<path fill=\"none\" stroke=\"#ff0000\" d=\"M450.48,-174.01C463.33,-167.88 478.3,-160.67 491.77,-154 510.31,-144.83 530.74,-134.44 547.97,-125.6\"/>\n",
       "<polygon fill=\"#ff0000\" stroke=\"#ff0000\" points=\"549.88,-128.55 557.18,-120.86 546.68,-122.32 549.88,-128.55\"/>\n",
       "<text text-anchor=\"middle\" x=\"525.77\" y=\"-142.8\" font-family=\"Times,serif\" font-size=\"14.00\">no</text>\n",
       "</g>\n",
       "<!-- 7 -->\n",
       "<g id=\"node8\" class=\"node\">\n",
       "<title>7</title>\n",
       "<ellipse fill=\"none\" stroke=\"black\" cx=\"329.77\" cy=\"-18\" rx=\"79.39\" ry=\"18\"/>\n",
       "<text text-anchor=\"middle\" x=\"329.77\" y=\"-13.8\" font-family=\"Times,serif\" font-size=\"14.00\">leaf=0.0644017607</text>\n",
       "</g>\n",
       "<!-- 5&#45;&gt;7 -->\n",
       "<g id=\"edge7\" class=\"edge\">\n",
       "<title>5&#45;&gt;7</title>\n",
       "<path fill=\"none\" stroke=\"#0000ff\" d=\"M401.19,-86.4C387.9,-73.86 369.49,-56.48 354.69,-42.51\"/>\n",
       "<polygon fill=\"#0000ff\" stroke=\"#0000ff\" points=\"357,-39.88 347.32,-35.56 352.19,-44.97 357,-39.88\"/>\n",
       "<text text-anchor=\"middle\" x=\"414.39\" y=\"-56.8\" font-family=\"Times,serif\" font-size=\"14.00\">yes, missing</text>\n",
       "</g>\n",
       "<!-- 8 -->\n",
       "<g id=\"node9\" class=\"node\">\n",
       "<title>8</title>\n",
       "<ellipse fill=\"none\" stroke=\"black\" cx=\"508.77\" cy=\"-18\" rx=\"82.28\" ry=\"18\"/>\n",
       "<text text-anchor=\"middle\" x=\"508.77\" y=\"-13.8\" font-family=\"Times,serif\" font-size=\"14.00\">leaf=&#45;0.0561203919</text>\n",
       "</g>\n",
       "<!-- 5&#45;&gt;8 -->\n",
       "<g id=\"edge8\" class=\"edge\">\n",
       "<title>5&#45;&gt;8</title>\n",
       "<path fill=\"none\" stroke=\"#ff0000\" d=\"M436.56,-86.4C449.9,-73.95 468.37,-56.71 483.29,-42.79\"/>\n",
       "<polygon fill=\"#ff0000\" stroke=\"#ff0000\" points=\"485.8,-45.23 490.72,-35.85 481.02,-40.11 485.8,-45.23\"/>\n",
       "<text text-anchor=\"middle\" x=\"476.77\" y=\"-56.8\" font-family=\"Times,serif\" font-size=\"14.00\">no</text>\n",
       "</g>\n",
       "</g>\n",
       "</svg>\n"
      ],
      "text/plain": [
       "<graphviz.dot.Digraph at 0x12068c898>"
      ]
     },
     "execution_count": 21,
     "metadata": {},
     "output_type": "execute_result"
    }
   ],
   "source": [
    "# plot the output tree via matplotlib, specifying the ordinal number of the target tree\n",
    "# xgb.plot_tree(xgb_model, num_trees=xgb_model.best_iteration)\n",
    "\n",
    "# converts the target tree to a graphviz instance\n",
    "xgb.to_graphviz(xgb_model, num_trees=xgb_model.best_iteration)"
   ]
  },
  {
   "cell_type": "code",
   "execution_count": null,
   "metadata": {},
   "outputs": [],
   "source": []
  }
 ],
 "metadata": {
  "kernelspec": {
   "display_name": "Python 3",
   "language": "python",
   "name": "python3"
  },
  "language_info": {
   "codemirror_mode": {
    "name": "ipython",
    "version": 3
   },
   "file_extension": ".py",
   "mimetype": "text/x-python",
   "name": "python",
   "nbconvert_exporter": "python",
   "pygments_lexer": "ipython3",
   "version": "3.7.1"
  }
 },
 "nbformat": 4,
 "nbformat_minor": 2
}
