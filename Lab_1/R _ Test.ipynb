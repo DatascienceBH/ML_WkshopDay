{
 "cells": [
  {
   "cell_type": "code",
   "execution_count": null,
   "metadata": {},
   "outputs": [],
   "source": []
  },
  {
   "cell_type": "markdown",
   "metadata": {},
   "source": [
    "# Gather function"
   ]
  },
  {
   "cell_type": "code",
   "execution_count": 5,
   "metadata": {},
   "outputs": [],
   "source": [
    "data('iris')"
   ]
  },
  {
   "cell_type": "code",
   "execution_count": 6,
   "metadata": {},
   "outputs": [
    {
     "name": "stdout",
     "output_type": "stream",
     "text": [
      "'data.frame':\t150 obs. of  5 variables:\n",
      " $ Sepal.Length: num  5.1 4.9 4.7 4.6 5 5.4 4.6 5 4.4 4.9 ...\n",
      " $ Sepal.Width : num  3.5 3 3.2 3.1 3.6 3.9 3.4 3.4 2.9 3.1 ...\n",
      " $ Petal.Length: num  1.4 1.4 1.3 1.5 1.4 1.7 1.4 1.5 1.4 1.5 ...\n",
      " $ Petal.Width : num  0.2 0.2 0.2 0.2 0.2 0.4 0.3 0.2 0.2 0.1 ...\n",
      " $ Species     : Factor w/ 3 levels \"setosa\",\"versicolor\",..: 1 1 1 1 1 1 1 1 1 1 ...\n"
     ]
    }
   ],
   "source": [
    "str(iris)"
   ]
  },
  {
   "cell_type": "code",
   "execution_count": 7,
   "metadata": {},
   "outputs": [
    {
     "data": {
      "text/html": [
       "<table>\n",
       "<caption>A data.frame: 6 × 5</caption>\n",
       "<thead>\n",
       "\t<tr><th></th><th scope=col>Sepal.Length</th><th scope=col>Sepal.Width</th><th scope=col>Petal.Length</th><th scope=col>Petal.Width</th><th scope=col>Species</th></tr>\n",
       "\t<tr><th></th><th scope=col>&lt;dbl&gt;</th><th scope=col>&lt;dbl&gt;</th><th scope=col>&lt;dbl&gt;</th><th scope=col>&lt;dbl&gt;</th><th scope=col>&lt;fct&gt;</th></tr>\n",
       "</thead>\n",
       "<tbody>\n",
       "\t<tr><th scope=row>1</th><td>5.1</td><td>3.5</td><td>1.4</td><td>0.2</td><td>setosa</td></tr>\n",
       "\t<tr><th scope=row>2</th><td>4.9</td><td>3.0</td><td>1.4</td><td>0.2</td><td>setosa</td></tr>\n",
       "\t<tr><th scope=row>3</th><td>4.7</td><td>3.2</td><td>1.3</td><td>0.2</td><td>setosa</td></tr>\n",
       "\t<tr><th scope=row>4</th><td>4.6</td><td>3.1</td><td>1.5</td><td>0.2</td><td>setosa</td></tr>\n",
       "\t<tr><th scope=row>5</th><td>5.0</td><td>3.6</td><td>1.4</td><td>0.2</td><td>setosa</td></tr>\n",
       "\t<tr><th scope=row>6</th><td>5.4</td><td>3.9</td><td>1.7</td><td>0.4</td><td>setosa</td></tr>\n",
       "</tbody>\n",
       "</table>\n"
      ],
      "text/latex": [
       "A data.frame: 6 × 5\n",
       "\\begin{tabular}{r|lllll}\n",
       "  & Sepal.Length & Sepal.Width & Petal.Length & Petal.Width & Species\\\\\n",
       "  & <dbl> & <dbl> & <dbl> & <dbl> & <fct>\\\\\n",
       "\\hline\n",
       "\t1 & 5.1 & 3.5 & 1.4 & 0.2 & setosa\\\\\n",
       "\t2 & 4.9 & 3.0 & 1.4 & 0.2 & setosa\\\\\n",
       "\t3 & 4.7 & 3.2 & 1.3 & 0.2 & setosa\\\\\n",
       "\t4 & 4.6 & 3.1 & 1.5 & 0.2 & setosa\\\\\n",
       "\t5 & 5.0 & 3.6 & 1.4 & 0.2 & setosa\\\\\n",
       "\t6 & 5.4 & 3.9 & 1.7 & 0.4 & setosa\\\\\n",
       "\\end{tabular}\n"
      ],
      "text/markdown": [
       "\n",
       "A data.frame: 6 × 5\n",
       "\n",
       "| <!--/--> | Sepal.Length &lt;dbl&gt; | Sepal.Width &lt;dbl&gt; | Petal.Length &lt;dbl&gt; | Petal.Width &lt;dbl&gt; | Species &lt;fct&gt; |\n",
       "|---|---|---|---|---|---|\n",
       "| 1 | 5.1 | 3.5 | 1.4 | 0.2 | setosa |\n",
       "| 2 | 4.9 | 3.0 | 1.4 | 0.2 | setosa |\n",
       "| 3 | 4.7 | 3.2 | 1.3 | 0.2 | setosa |\n",
       "| 4 | 4.6 | 3.1 | 1.5 | 0.2 | setosa |\n",
       "| 5 | 5.0 | 3.6 | 1.4 | 0.2 | setosa |\n",
       "| 6 | 5.4 | 3.9 | 1.7 | 0.4 | setosa |\n",
       "\n"
      ],
      "text/plain": [
       "  Sepal.Length Sepal.Width Petal.Length Petal.Width Species\n",
       "1 5.1          3.5         1.4          0.2         setosa \n",
       "2 4.9          3.0         1.4          0.2         setosa \n",
       "3 4.7          3.2         1.3          0.2         setosa \n",
       "4 4.6          3.1         1.5          0.2         setosa \n",
       "5 5.0          3.6         1.4          0.2         setosa \n",
       "6 5.4          3.9         1.7          0.4         setosa "
      ]
     },
     "metadata": {},
     "output_type": "display_data"
    }
   ],
   "source": [
    "head(iris)"
   ]
  },
  {
   "cell_type": "code",
   "execution_count": 8,
   "metadata": {},
   "outputs": [],
   "source": [
    "iris$id<- formatC(1:nrow(iris), width=2, flag='0')"
   ]
  },
  {
   "cell_type": "code",
   "execution_count": 9,
   "metadata": {},
   "outputs": [
    {
     "data": {
      "text/html": [
       "<table>\n",
       "<caption>A data.frame: 6 × 6</caption>\n",
       "<thead>\n",
       "\t<tr><th></th><th scope=col>Sepal.Length</th><th scope=col>Sepal.Width</th><th scope=col>Petal.Length</th><th scope=col>Petal.Width</th><th scope=col>Species</th><th scope=col>id</th></tr>\n",
       "\t<tr><th></th><th scope=col>&lt;dbl&gt;</th><th scope=col>&lt;dbl&gt;</th><th scope=col>&lt;dbl&gt;</th><th scope=col>&lt;dbl&gt;</th><th scope=col>&lt;fct&gt;</th><th scope=col>&lt;chr&gt;</th></tr>\n",
       "</thead>\n",
       "<tbody>\n",
       "\t<tr><th scope=row>1</th><td>5.1</td><td>3.5</td><td>1.4</td><td>0.2</td><td>setosa</td><td>01</td></tr>\n",
       "\t<tr><th scope=row>2</th><td>4.9</td><td>3.0</td><td>1.4</td><td>0.2</td><td>setosa</td><td>02</td></tr>\n",
       "\t<tr><th scope=row>3</th><td>4.7</td><td>3.2</td><td>1.3</td><td>0.2</td><td>setosa</td><td>03</td></tr>\n",
       "\t<tr><th scope=row>4</th><td>4.6</td><td>3.1</td><td>1.5</td><td>0.2</td><td>setosa</td><td>04</td></tr>\n",
       "\t<tr><th scope=row>5</th><td>5.0</td><td>3.6</td><td>1.4</td><td>0.2</td><td>setosa</td><td>05</td></tr>\n",
       "\t<tr><th scope=row>6</th><td>5.4</td><td>3.9</td><td>1.7</td><td>0.4</td><td>setosa</td><td>06</td></tr>\n",
       "</tbody>\n",
       "</table>\n"
      ],
      "text/latex": [
       "A data.frame: 6 × 6\n",
       "\\begin{tabular}{r|llllll}\n",
       "  & Sepal.Length & Sepal.Width & Petal.Length & Petal.Width & Species & id\\\\\n",
       "  & <dbl> & <dbl> & <dbl> & <dbl> & <fct> & <chr>\\\\\n",
       "\\hline\n",
       "\t1 & 5.1 & 3.5 & 1.4 & 0.2 & setosa & 01\\\\\n",
       "\t2 & 4.9 & 3.0 & 1.4 & 0.2 & setosa & 02\\\\\n",
       "\t3 & 4.7 & 3.2 & 1.3 & 0.2 & setosa & 03\\\\\n",
       "\t4 & 4.6 & 3.1 & 1.5 & 0.2 & setosa & 04\\\\\n",
       "\t5 & 5.0 & 3.6 & 1.4 & 0.2 & setosa & 05\\\\\n",
       "\t6 & 5.4 & 3.9 & 1.7 & 0.4 & setosa & 06\\\\\n",
       "\\end{tabular}\n"
      ],
      "text/markdown": [
       "\n",
       "A data.frame: 6 × 6\n",
       "\n",
       "| <!--/--> | Sepal.Length &lt;dbl&gt; | Sepal.Width &lt;dbl&gt; | Petal.Length &lt;dbl&gt; | Petal.Width &lt;dbl&gt; | Species &lt;fct&gt; | id &lt;chr&gt; |\n",
       "|---|---|---|---|---|---|---|\n",
       "| 1 | 5.1 | 3.5 | 1.4 | 0.2 | setosa | 01 |\n",
       "| 2 | 4.9 | 3.0 | 1.4 | 0.2 | setosa | 02 |\n",
       "| 3 | 4.7 | 3.2 | 1.3 | 0.2 | setosa | 03 |\n",
       "| 4 | 4.6 | 3.1 | 1.5 | 0.2 | setosa | 04 |\n",
       "| 5 | 5.0 | 3.6 | 1.4 | 0.2 | setosa | 05 |\n",
       "| 6 | 5.4 | 3.9 | 1.7 | 0.4 | setosa | 06 |\n",
       "\n"
      ],
      "text/plain": [
       "  Sepal.Length Sepal.Width Petal.Length Petal.Width Species id\n",
       "1 5.1          3.5         1.4          0.2         setosa  01\n",
       "2 4.9          3.0         1.4          0.2         setosa  02\n",
       "3 4.7          3.2         1.3          0.2         setosa  03\n",
       "4 4.6          3.1         1.5          0.2         setosa  04\n",
       "5 5.0          3.6         1.4          0.2         setosa  05\n",
       "6 5.4          3.9         1.7          0.4         setosa  06"
      ]
     },
     "metadata": {},
     "output_type": "display_data"
    }
   ],
   "source": [
    "head(iris)"
   ]
  },
  {
   "cell_type": "code",
   "execution_count": 12,
   "metadata": {},
   "outputs": [
    {
     "name": "stderr",
     "output_type": "stream",
     "text": [
      "Warning message:\n",
      "“package ‘tidyr’ was built under R version 3.4.4”\n"
     ]
    }
   ],
   "source": [
    "library(dplyr)\n",
    "library(tidyr)"
   ]
  },
  {
   "cell_type": "code",
   "execution_count": 13,
   "metadata": {},
   "outputs": [],
   "source": [
    "iris.gather<- gather(iris, key=part_attr, val=measure,  -Species, -id)\n",
    "    "
   ]
  },
  {
   "cell_type": "code",
   "execution_count": 14,
   "metadata": {},
   "outputs": [
    {
     "data": {
      "text/html": [
       "<table>\n",
       "<caption>A data.frame: 6 × 4</caption>\n",
       "<thead>\n",
       "\t<tr><th></th><th scope=col>Species</th><th scope=col>id</th><th scope=col>part_attr</th><th scope=col>measure</th></tr>\n",
       "\t<tr><th></th><th scope=col>&lt;fct&gt;</th><th scope=col>&lt;chr&gt;</th><th scope=col>&lt;chr&gt;</th><th scope=col>&lt;dbl&gt;</th></tr>\n",
       "</thead>\n",
       "<tbody>\n",
       "\t<tr><th scope=row>1</th><td>setosa</td><td>01</td><td>Sepal.Length</td><td>5.1</td></tr>\n",
       "\t<tr><th scope=row>2</th><td>setosa</td><td>02</td><td>Sepal.Length</td><td>4.9</td></tr>\n",
       "\t<tr><th scope=row>3</th><td>setosa</td><td>03</td><td>Sepal.Length</td><td>4.7</td></tr>\n",
       "\t<tr><th scope=row>4</th><td>setosa</td><td>04</td><td>Sepal.Length</td><td>4.6</td></tr>\n",
       "\t<tr><th scope=row>5</th><td>setosa</td><td>05</td><td>Sepal.Length</td><td>5.0</td></tr>\n",
       "\t<tr><th scope=row>6</th><td>setosa</td><td>06</td><td>Sepal.Length</td><td>5.4</td></tr>\n",
       "</tbody>\n",
       "</table>\n"
      ],
      "text/latex": [
       "A data.frame: 6 × 4\n",
       "\\begin{tabular}{r|llll}\n",
       "  & Species & id & part\\_attr & measure\\\\\n",
       "  & <fct> & <chr> & <chr> & <dbl>\\\\\n",
       "\\hline\n",
       "\t1 & setosa & 01 & Sepal.Length & 5.1\\\\\n",
       "\t2 & setosa & 02 & Sepal.Length & 4.9\\\\\n",
       "\t3 & setosa & 03 & Sepal.Length & 4.7\\\\\n",
       "\t4 & setosa & 04 & Sepal.Length & 4.6\\\\\n",
       "\t5 & setosa & 05 & Sepal.Length & 5.0\\\\\n",
       "\t6 & setosa & 06 & Sepal.Length & 5.4\\\\\n",
       "\\end{tabular}\n"
      ],
      "text/markdown": [
       "\n",
       "A data.frame: 6 × 4\n",
       "\n",
       "| <!--/--> | Species &lt;fct&gt; | id &lt;chr&gt; | part_attr &lt;chr&gt; | measure &lt;dbl&gt; |\n",
       "|---|---|---|---|---|\n",
       "| 1 | setosa | 01 | Sepal.Length | 5.1 |\n",
       "| 2 | setosa | 02 | Sepal.Length | 4.9 |\n",
       "| 3 | setosa | 03 | Sepal.Length | 4.7 |\n",
       "| 4 | setosa | 04 | Sepal.Length | 4.6 |\n",
       "| 5 | setosa | 05 | Sepal.Length | 5.0 |\n",
       "| 6 | setosa | 06 | Sepal.Length | 5.4 |\n",
       "\n"
      ],
      "text/plain": [
       "  Species id part_attr    measure\n",
       "1 setosa  01 Sepal.Length 5.1    \n",
       "2 setosa  02 Sepal.Length 4.9    \n",
       "3 setosa  03 Sepal.Length 4.7    \n",
       "4 setosa  04 Sepal.Length 4.6    \n",
       "5 setosa  05 Sepal.Length 5.0    \n",
       "6 setosa  06 Sepal.Length 5.4    "
      ]
     },
     "metadata": {},
     "output_type": "display_data"
    }
   ],
   "source": [
    "head(iris.gather)"
   ]
  },
  {
   "cell_type": "code",
   "execution_count": 15,
   "metadata": {},
   "outputs": [],
   "source": [
    "iris.gathered.tidier <- iris.gather %>% \n",
    "    separate( col=part_attr, into=c( \"Part\", \"Attr\"), sep=\"\\\\.\") \n",
    "    "
   ]
  },
  {
   "cell_type": "code",
   "execution_count": 16,
   "metadata": {},
   "outputs": [
    {
     "data": {
      "text/html": [
       "<table>\n",
       "<caption>A data.frame: 6 × 5</caption>\n",
       "<thead>\n",
       "\t<tr><th></th><th scope=col>Species</th><th scope=col>id</th><th scope=col>Part</th><th scope=col>Attr</th><th scope=col>measure</th></tr>\n",
       "\t<tr><th></th><th scope=col>&lt;fct&gt;</th><th scope=col>&lt;chr&gt;</th><th scope=col>&lt;chr&gt;</th><th scope=col>&lt;chr&gt;</th><th scope=col>&lt;dbl&gt;</th></tr>\n",
       "</thead>\n",
       "<tbody>\n",
       "\t<tr><th scope=row>1</th><td>setosa</td><td>01</td><td>Sepal</td><td>Length</td><td>5.1</td></tr>\n",
       "\t<tr><th scope=row>2</th><td>setosa</td><td>02</td><td>Sepal</td><td>Length</td><td>4.9</td></tr>\n",
       "\t<tr><th scope=row>3</th><td>setosa</td><td>03</td><td>Sepal</td><td>Length</td><td>4.7</td></tr>\n",
       "\t<tr><th scope=row>4</th><td>setosa</td><td>04</td><td>Sepal</td><td>Length</td><td>4.6</td></tr>\n",
       "\t<tr><th scope=row>5</th><td>setosa</td><td>05</td><td>Sepal</td><td>Length</td><td>5.0</td></tr>\n",
       "\t<tr><th scope=row>6</th><td>setosa</td><td>06</td><td>Sepal</td><td>Length</td><td>5.4</td></tr>\n",
       "</tbody>\n",
       "</table>\n"
      ],
      "text/latex": [
       "A data.frame: 6 × 5\n",
       "\\begin{tabular}{r|lllll}\n",
       "  & Species & id & Part & Attr & measure\\\\\n",
       "  & <fct> & <chr> & <chr> & <chr> & <dbl>\\\\\n",
       "\\hline\n",
       "\t1 & setosa & 01 & Sepal & Length & 5.1\\\\\n",
       "\t2 & setosa & 02 & Sepal & Length & 4.9\\\\\n",
       "\t3 & setosa & 03 & Sepal & Length & 4.7\\\\\n",
       "\t4 & setosa & 04 & Sepal & Length & 4.6\\\\\n",
       "\t5 & setosa & 05 & Sepal & Length & 5.0\\\\\n",
       "\t6 & setosa & 06 & Sepal & Length & 5.4\\\\\n",
       "\\end{tabular}\n"
      ],
      "text/markdown": [
       "\n",
       "A data.frame: 6 × 5\n",
       "\n",
       "| <!--/--> | Species &lt;fct&gt; | id &lt;chr&gt; | Part &lt;chr&gt; | Attr &lt;chr&gt; | measure &lt;dbl&gt; |\n",
       "|---|---|---|---|---|---|\n",
       "| 1 | setosa | 01 | Sepal | Length | 5.1 |\n",
       "| 2 | setosa | 02 | Sepal | Length | 4.9 |\n",
       "| 3 | setosa | 03 | Sepal | Length | 4.7 |\n",
       "| 4 | setosa | 04 | Sepal | Length | 4.6 |\n",
       "| 5 | setosa | 05 | Sepal | Length | 5.0 |\n",
       "| 6 | setosa | 06 | Sepal | Length | 5.4 |\n",
       "\n"
      ],
      "text/plain": [
       "  Species id Part  Attr   measure\n",
       "1 setosa  01 Sepal Length 5.1    \n",
       "2 setosa  02 Sepal Length 4.9    \n",
       "3 setosa  03 Sepal Length 4.7    \n",
       "4 setosa  04 Sepal Length 4.6    \n",
       "5 setosa  05 Sepal Length 5.0    \n",
       "6 setosa  06 Sepal Length 5.4    "
      ]
     },
     "metadata": {},
     "output_type": "display_data"
    }
   ],
   "source": [
    "head(iris.gathered.tidier)"
   ]
  },
  {
   "cell_type": "code",
   "execution_count": 17,
   "metadata": {},
   "outputs": [
    {
     "data": {
      "text/html": [
       "<table>\n",
       "<caption>A grouped_df: 9 × 5</caption>\n",
       "<thead>\n",
       "\t<tr><th scope=col>Species</th><th scope=col>id</th><th scope=col>Part</th><th scope=col>Attr</th><th scope=col>measure</th></tr>\n",
       "\t<tr><th scope=col>&lt;fct&gt;</th><th scope=col>&lt;chr&gt;</th><th scope=col>&lt;chr&gt;</th><th scope=col>&lt;chr&gt;</th><th scope=col>&lt;dbl&gt;</th></tr>\n",
       "</thead>\n",
       "<tbody>\n",
       "\t<tr><td>setosa    </td><td>50 </td><td>Petal</td><td>Width </td><td>0.2</td></tr>\n",
       "\t<tr><td>setosa    </td><td>42 </td><td>Sepal</td><td>Length</td><td>4.5</td></tr>\n",
       "\t<tr><td>setosa    </td><td>28 </td><td>Petal</td><td>Width </td><td>0.2</td></tr>\n",
       "\t<tr><td>versicolor</td><td>62 </td><td>Petal</td><td>Length</td><td>4.2</td></tr>\n",
       "\t<tr><td>versicolor</td><td>91 </td><td>Petal</td><td>Width </td><td>1.2</td></tr>\n",
       "\t<tr><td>versicolor</td><td>54 </td><td>Sepal</td><td>Length</td><td>5.5</td></tr>\n",
       "\t<tr><td>virginica </td><td>150</td><td>Sepal</td><td>Length</td><td>5.9</td></tr>\n",
       "\t<tr><td>virginica </td><td>146</td><td>Sepal</td><td>Length</td><td>6.7</td></tr>\n",
       "\t<tr><td>virginica </td><td>123</td><td>Sepal</td><td>Width </td><td>2.8</td></tr>\n",
       "</tbody>\n",
       "</table>\n"
      ],
      "text/latex": [
       "A grouped_df: 9 × 5\n",
       "\\begin{tabular}{lllll}\n",
       " Species & id & Part & Attr & measure\\\\\n",
       " <fct> & <chr> & <chr> & <chr> & <dbl>\\\\\n",
       "\\hline\n",
       "\t setosa     & 50  & Petal & Width  & 0.2\\\\\n",
       "\t setosa     & 42  & Sepal & Length & 4.5\\\\\n",
       "\t setosa     & 28  & Petal & Width  & 0.2\\\\\n",
       "\t versicolor & 62  & Petal & Length & 4.2\\\\\n",
       "\t versicolor & 91  & Petal & Width  & 1.2\\\\\n",
       "\t versicolor & 54  & Sepal & Length & 5.5\\\\\n",
       "\t virginica  & 150 & Sepal & Length & 5.9\\\\\n",
       "\t virginica  & 146 & Sepal & Length & 6.7\\\\\n",
       "\t virginica  & 123 & Sepal & Width  & 2.8\\\\\n",
       "\\end{tabular}\n"
      ],
      "text/markdown": [
       "\n",
       "A grouped_df: 9 × 5\n",
       "\n",
       "| Species &lt;fct&gt; | id &lt;chr&gt; | Part &lt;chr&gt; | Attr &lt;chr&gt; | measure &lt;dbl&gt; |\n",
       "|---|---|---|---|---|\n",
       "| setosa     | 50  | Petal | Width  | 0.2 |\n",
       "| setosa     | 42  | Sepal | Length | 4.5 |\n",
       "| setosa     | 28  | Petal | Width  | 0.2 |\n",
       "| versicolor | 62  | Petal | Length | 4.2 |\n",
       "| versicolor | 91  | Petal | Width  | 1.2 |\n",
       "| versicolor | 54  | Sepal | Length | 5.5 |\n",
       "| virginica  | 150 | Sepal | Length | 5.9 |\n",
       "| virginica  | 146 | Sepal | Length | 6.7 |\n",
       "| virginica  | 123 | Sepal | Width  | 2.8 |\n",
       "\n"
      ],
      "text/plain": [
       "  Species    id  Part  Attr   measure\n",
       "1 setosa     50  Petal Width  0.2    \n",
       "2 setosa     42  Sepal Length 4.5    \n",
       "3 setosa     28  Petal Width  0.2    \n",
       "4 versicolor 62  Petal Length 4.2    \n",
       "5 versicolor 91  Petal Width  1.2    \n",
       "6 versicolor 54  Sepal Length 5.5    \n",
       "7 virginica  150 Sepal Length 5.9    \n",
       "8 virginica  146 Sepal Length 6.7    \n",
       "9 virginica  123 Sepal Width  2.8    "
      ]
     },
     "metadata": {},
     "output_type": "display_data"
    }
   ],
   "source": [
    "iris.gathered.tidier %>%\n",
    "    group_by(Species) %>%\n",
    "    sample_n(3)"
   ]
  },
  {
   "cell_type": "code",
   "execution_count": 25,
   "metadata": {},
   "outputs": [
    {
     "data": {
      "text/html": [
       "<table>\n",
       "<caption>A data.frame: 4 × 5</caption>\n",
       "<thead>\n",
       "\t<tr><th scope=col>Species</th><th scope=col>id</th><th scope=col>Part</th><th scope=col>Length</th><th scope=col>Width</th></tr>\n",
       "\t<tr><th scope=col>&lt;fct&gt;</th><th scope=col>&lt;chr&gt;</th><th scope=col>&lt;chr&gt;</th><th scope=col>&lt;dbl&gt;</th><th scope=col>&lt;dbl&gt;</th></tr>\n",
       "</thead>\n",
       "<tbody>\n",
       "\t<tr><td>setosa</td><td>01</td><td>Petal</td><td>1.4</td><td>0.2</td></tr>\n",
       "\t<tr><td>setosa</td><td>01</td><td>Sepal</td><td>5.1</td><td>3.5</td></tr>\n",
       "\t<tr><td>setosa</td><td>02</td><td>Petal</td><td>1.4</td><td>0.2</td></tr>\n",
       "\t<tr><td>setosa</td><td>02</td><td>Sepal</td><td>4.9</td><td>3.0</td></tr>\n",
       "</tbody>\n",
       "</table>\n"
      ],
      "text/latex": [
       "A data.frame: 4 × 5\n",
       "\\begin{tabular}{lllll}\n",
       " Species & id & Part & Length & Width\\\\\n",
       " <fct> & <chr> & <chr> & <dbl> & <dbl>\\\\\n",
       "\\hline\n",
       "\t setosa & 01 & Petal & 1.4 & 0.2\\\\\n",
       "\t setosa & 01 & Sepal & 5.1 & 3.5\\\\\n",
       "\t setosa & 02 & Petal & 1.4 & 0.2\\\\\n",
       "\t setosa & 02 & Sepal & 4.9 & 3.0\\\\\n",
       "\\end{tabular}\n"
      ],
      "text/markdown": [
       "\n",
       "A data.frame: 4 × 5\n",
       "\n",
       "| Species &lt;fct&gt; | id &lt;chr&gt; | Part &lt;chr&gt; | Length &lt;dbl&gt; | Width &lt;dbl&gt; |\n",
       "|---|---|---|---|---|\n",
       "| setosa | 01 | Petal | 1.4 | 0.2 |\n",
       "| setosa | 01 | Sepal | 5.1 | 3.5 |\n",
       "| setosa | 02 | Petal | 1.4 | 0.2 |\n",
       "| setosa | 02 | Sepal | 4.9 | 3.0 |\n",
       "\n"
      ],
      "text/plain": [
       "  Species id Part  Length Width\n",
       "1 setosa  01 Petal 1.4    0.2  \n",
       "2 setosa  01 Sepal 5.1    3.5  \n",
       "3 setosa  02 Petal 1.4    0.2  \n",
       "4 setosa  02 Sepal 4.9    3.0  "
      ]
     },
     "metadata": {},
     "output_type": "display_data"
    }
   ],
   "source": [
    "iris.gathered.tidier %>%\n",
    "    spread(Attr, measure)%>%slice(1:4)"
   ]
  },
  {
   "cell_type": "code",
   "execution_count": 1,
   "metadata": {},
   "outputs": [
    {
     "name": "stderr",
     "output_type": "stream",
     "text": [
      "\n",
      "Attaching package: ‘dplyr’\n",
      "\n",
      "\n",
      "The following objects are masked from ‘package:stats’:\n",
      "\n",
      "    filter, lag\n",
      "\n",
      "\n",
      "The following objects are masked from ‘package:base’:\n",
      "\n",
      "    intersect, setdiff, setequal, union\n",
      "\n",
      "\n"
     ]
    },
    {
     "data": {
      "text/html": [
       "<ol class=list-inline>\n",
       "\t<li>'name'</li>\n",
       "\t<li>'height'</li>\n",
       "\t<li>'mass'</li>\n",
       "\t<li>'hair_color'</li>\n",
       "\t<li>'skin_color'</li>\n",
       "\t<li>'eye_color'</li>\n",
       "\t<li>'birth_year'</li>\n",
       "\t<li>'gender'</li>\n",
       "\t<li>'homeworld'</li>\n",
       "\t<li>'species'</li>\n",
       "\t<li>'films'</li>\n",
       "\t<li>'vehicles'</li>\n",
       "\t<li>'starships'</li>\n",
       "</ol>\n"
      ],
      "text/latex": [
       "\\begin{enumerate*}\n",
       "\\item 'name'\n",
       "\\item 'height'\n",
       "\\item 'mass'\n",
       "\\item 'hair\\_color'\n",
       "\\item 'skin\\_color'\n",
       "\\item 'eye\\_color'\n",
       "\\item 'birth\\_year'\n",
       "\\item 'gender'\n",
       "\\item 'homeworld'\n",
       "\\item 'species'\n",
       "\\item 'films'\n",
       "\\item 'vehicles'\n",
       "\\item 'starships'\n",
       "\\end{enumerate*}\n"
      ],
      "text/markdown": [
       "1. 'name'\n",
       "2. 'height'\n",
       "3. 'mass'\n",
       "4. 'hair_color'\n",
       "5. 'skin_color'\n",
       "6. 'eye_color'\n",
       "7. 'birth_year'\n",
       "8. 'gender'\n",
       "9. 'homeworld'\n",
       "10. 'species'\n",
       "11. 'films'\n",
       "12. 'vehicles'\n",
       "13. 'starships'\n",
       "\n",
       "\n"
      ],
      "text/plain": [
       " [1] \"name\"       \"height\"     \"mass\"       \"hair_color\" \"skin_color\"\n",
       " [6] \"eye_color\"  \"birth_year\" \"gender\"     \"homeworld\"  \"species\"   \n",
       "[11] \"films\"      \"vehicles\"   \"starships\" "
      ]
     },
     "metadata": {},
     "output_type": "display_data"
    }
   ],
   "source": [
    "library(\"dplyr\")\n",
    "names(starwars)   "
   ]
  },
  {
   "cell_type": "code",
   "execution_count": 3,
   "metadata": {},
   "outputs": [
    {
     "data": {
      "text/html": [
       "<table>\n",
       "<caption>A tibble: 6 × 13</caption>\n",
       "<thead>\n",
       "\t<tr><th scope=col>name</th><th scope=col>height</th><th scope=col>mass</th><th scope=col>hair_color</th><th scope=col>skin_color</th><th scope=col>eye_color</th><th scope=col>birth_year</th><th scope=col>gender</th><th scope=col>homeworld</th><th scope=col>species</th><th scope=col>films</th><th scope=col>vehicles</th><th scope=col>starships</th></tr>\n",
       "\t<tr><th scope=col>&lt;chr&gt;</th><th scope=col>&lt;int&gt;</th><th scope=col>&lt;dbl&gt;</th><th scope=col>&lt;chr&gt;</th><th scope=col>&lt;chr&gt;</th><th scope=col>&lt;chr&gt;</th><th scope=col>&lt;dbl&gt;</th><th scope=col>&lt;chr&gt;</th><th scope=col>&lt;chr&gt;</th><th scope=col>&lt;chr&gt;</th><th scope=col>&lt;list&gt;</th><th scope=col>&lt;list&gt;</th><th scope=col>&lt;list&gt;</th></tr>\n",
       "</thead>\n",
       "<tbody>\n",
       "\t<tr><td>Luke Skywalker</td><td>172</td><td> 77</td><td>blond      </td><td>fair       </td><td>blue  </td><td> 19.0</td><td>male  </td><td>Tatooine</td><td>Human</td><td>Revenge of the Sith    , Return of the Jedi     , The Empire Strikes Back, A New Hope             , The Force Awakens      </td><td>Snowspeeder          , Imperial Speeder Bike</td><td>X-wing          , Imperial shuttle</td></tr>\n",
       "\t<tr><td>C-3PO         </td><td>167</td><td> 75</td><td>NA         </td><td>gold       </td><td>yellow</td><td>112.0</td><td>NA    </td><td>Tatooine</td><td>Droid</td><td>Attack of the Clones   , The Phantom Menace     , Revenge of the Sith    , Return of the Jedi     , The Empire Strikes Back, A New Hope             </td><td></td><td></td></tr>\n",
       "\t<tr><td>R2-D2         </td><td> 96</td><td> 32</td><td>NA         </td><td>white, blue</td><td>red   </td><td> 33.0</td><td>NA    </td><td>Naboo   </td><td>Droid</td><td>Attack of the Clones   , The Phantom Menace     , Revenge of the Sith    , Return of the Jedi     , The Empire Strikes Back, A New Hope             , The Force Awakens      </td><td></td><td></td></tr>\n",
       "\t<tr><td>Darth Vader   </td><td>202</td><td>136</td><td>none       </td><td>white      </td><td>yellow</td><td> 41.9</td><td>male  </td><td>Tatooine</td><td>Human</td><td>Revenge of the Sith    , Return of the Jedi     , The Empire Strikes Back, A New Hope             </td><td></td><td>TIE Advanced x1</td></tr>\n",
       "\t<tr><td>Leia Organa   </td><td>150</td><td> 49</td><td>brown      </td><td>light      </td><td>brown </td><td> 19.0</td><td>female</td><td>Alderaan</td><td>Human</td><td>Revenge of the Sith    , Return of the Jedi     , The Empire Strikes Back, A New Hope             , The Force Awakens      </td><td>Imperial Speeder Bike</td><td></td></tr>\n",
       "\t<tr><td>Owen Lars     </td><td>178</td><td>120</td><td>brown, grey</td><td>light      </td><td>blue  </td><td> 52.0</td><td>male  </td><td>Tatooine</td><td>Human</td><td>Attack of the Clones, Revenge of the Sith , A New Hope          </td><td></td><td></td></tr>\n",
       "</tbody>\n",
       "</table>\n"
      ],
      "text/latex": [
       "A tibble: 6 × 13\n",
       "\\begin{tabular}{lllllllllllll}\n",
       " name & height & mass & hair\\_color & skin\\_color & eye\\_color & birth\\_year & gender & homeworld & species & films & vehicles & starships\\\\\n",
       " <chr> & <int> & <dbl> & <chr> & <chr> & <chr> & <dbl> & <chr> & <chr> & <chr> & <list> & <list> & <list>\\\\\n",
       "\\hline\n",
       "\t Luke Skywalker & 172 &  77 & blond       & fair        & blue   &  19.0 & male   & Tatooine & Human & Revenge of the Sith    , Return of the Jedi     , The Empire Strikes Back, A New Hope             , The Force Awakens       & Snowspeeder          , Imperial Speeder Bike & X-wing          , Imperial shuttle\\\\\n",
       "\t C-3PO          & 167 &  75 & NA          & gold        & yellow & 112.0 & NA     & Tatooine & Droid & Attack of the Clones   , The Phantom Menace     , Revenge of the Sith    , Return of the Jedi     , The Empire Strikes Back, A New Hope              &  & \\\\\n",
       "\t R2-D2          &  96 &  32 & NA          & white, blue & red    &  33.0 & NA     & Naboo    & Droid & Attack of the Clones   , The Phantom Menace     , Revenge of the Sith    , Return of the Jedi     , The Empire Strikes Back, A New Hope             , The Force Awakens       &  & \\\\\n",
       "\t Darth Vader    & 202 & 136 & none        & white       & yellow &  41.9 & male   & Tatooine & Human & Revenge of the Sith    , Return of the Jedi     , The Empire Strikes Back, A New Hope              &  & TIE Advanced x1\\\\\n",
       "\t Leia Organa    & 150 &  49 & brown       & light       & brown  &  19.0 & female & Alderaan & Human & Revenge of the Sith    , Return of the Jedi     , The Empire Strikes Back, A New Hope             , The Force Awakens       & Imperial Speeder Bike & \\\\\n",
       "\t Owen Lars      & 178 & 120 & brown, grey & light       & blue   &  52.0 & male   & Tatooine & Human & Attack of the Clones, Revenge of the Sith , A New Hope           &  & \\\\\n",
       "\\end{tabular}\n"
      ],
      "text/markdown": [
       "\n",
       "A tibble: 6 × 13\n",
       "\n",
       "| name &lt;chr&gt; | height &lt;int&gt; | mass &lt;dbl&gt; | hair_color &lt;chr&gt; | skin_color &lt;chr&gt; | eye_color &lt;chr&gt; | birth_year &lt;dbl&gt; | gender &lt;chr&gt; | homeworld &lt;chr&gt; | species &lt;chr&gt; | films &lt;list&gt; | vehicles &lt;list&gt; | starships &lt;list&gt; |\n",
       "|---|---|---|---|---|---|---|---|---|---|---|---|---|\n",
       "| Luke Skywalker | 172 |  77 | blond       | fair        | blue   |  19.0 | male   | Tatooine | Human | Revenge of the Sith    , Return of the Jedi     , The Empire Strikes Back, A New Hope             , The Force Awakens       | Snowspeeder          , Imperial Speeder Bike | X-wing          , Imperial shuttle |\n",
       "| C-3PO          | 167 |  75 | NA          | gold        | yellow | 112.0 | NA     | Tatooine | Droid | Attack of the Clones   , The Phantom Menace     , Revenge of the Sith    , Return of the Jedi     , The Empire Strikes Back, A New Hope              | <!----> | <!----> |\n",
       "| R2-D2          |  96 |  32 | NA          | white, blue | red    |  33.0 | NA     | Naboo    | Droid | Attack of the Clones   , The Phantom Menace     , Revenge of the Sith    , Return of the Jedi     , The Empire Strikes Back, A New Hope             , The Force Awakens       | <!----> | <!----> |\n",
       "| Darth Vader    | 202 | 136 | none        | white       | yellow |  41.9 | male   | Tatooine | Human | Revenge of the Sith    , Return of the Jedi     , The Empire Strikes Back, A New Hope              | <!----> | TIE Advanced x1 |\n",
       "| Leia Organa    | 150 |  49 | brown       | light       | brown  |  19.0 | female | Alderaan | Human | Revenge of the Sith    , Return of the Jedi     , The Empire Strikes Back, A New Hope             , The Force Awakens       | Imperial Speeder Bike | <!----> |\n",
       "| Owen Lars      | 178 | 120 | brown, grey | light       | blue   |  52.0 | male   | Tatooine | Human | Attack of the Clones, Revenge of the Sith , A New Hope           | <!----> | <!----> |\n",
       "\n"
      ],
      "text/plain": [
       "  name           height mass hair_color  skin_color  eye_color birth_year\n",
       "1 Luke Skywalker 172     77  blond       fair        blue       19.0     \n",
       "2 C-3PO          167     75  NA          gold        yellow    112.0     \n",
       "3 R2-D2           96     32  NA          white, blue red        33.0     \n",
       "4 Darth Vader    202    136  none        white       yellow     41.9     \n",
       "5 Leia Organa    150     49  brown       light       brown      19.0     \n",
       "6 Owen Lars      178    120  brown, grey light       blue       52.0     \n",
       "  gender homeworld species\n",
       "1 male   Tatooine  Human  \n",
       "2 NA     Tatooine  Droid  \n",
       "3 NA     Naboo     Droid  \n",
       "4 male   Tatooine  Human  \n",
       "5 female Alderaan  Human  \n",
       "6 male   Tatooine  Human  \n",
       "  films                                                                                                                                                                        \n",
       "1 Revenge of the Sith    , Return of the Jedi     , The Empire Strikes Back, A New Hope             , The Force Awakens                                                        \n",
       "2 Attack of the Clones   , The Phantom Menace     , Revenge of the Sith    , Return of the Jedi     , The Empire Strikes Back, A New Hope                                      \n",
       "3 Attack of the Clones   , The Phantom Menace     , Revenge of the Sith    , Return of the Jedi     , The Empire Strikes Back, A New Hope             , The Force Awakens      \n",
       "4 Revenge of the Sith    , Return of the Jedi     , The Empire Strikes Back, A New Hope                                                                                        \n",
       "5 Revenge of the Sith    , Return of the Jedi     , The Empire Strikes Back, A New Hope             , The Force Awakens                                                        \n",
       "6 Attack of the Clones, Revenge of the Sith , A New Hope                                                                                                                       \n",
       "  vehicles                                    \n",
       "1 Snowspeeder          , Imperial Speeder Bike\n",
       "2                                             \n",
       "3                                             \n",
       "4                                             \n",
       "5 Imperial Speeder Bike                       \n",
       "6                                             \n",
       "  starships                         \n",
       "1 X-wing          , Imperial shuttle\n",
       "2                                   \n",
       "3                                   \n",
       "4 TIE Advanced x1                   \n",
       "5                                   \n",
       "6                                   "
      ]
     },
     "metadata": {},
     "output_type": "display_data"
    }
   ],
   "source": [
    "head(starwars)"
   ]
  },
  {
   "cell_type": "code",
   "execution_count": 5,
   "metadata": {},
   "outputs": [
    {
     "data": {
      "text/html": [
       "<table>\n",
       "<caption>A tibble: 1 × 2</caption>\n",
       "<thead>\n",
       "\t<tr><th scope=col>mean(mass)</th><th scope=col>median(height)</th></tr>\n",
       "\t<tr><th scope=col>&lt;dbl&gt;</th><th scope=col>&lt;dbl&gt;</th></tr>\n",
       "</thead>\n",
       "<tbody>\n",
       "\t<tr><td>65.9931</td><td>178</td></tr>\n",
       "</tbody>\n",
       "</table>\n"
      ],
      "text/latex": [
       "A tibble: 1 × 2\n",
       "\\begin{tabular}{ll}\n",
       " mean(mass) & median(height)\\\\\n",
       " <dbl> & <dbl>\\\\\n",
       "\\hline\n",
       "\t 65.9931 & 178\\\\\n",
       "\\end{tabular}\n"
      ],
      "text/markdown": [
       "\n",
       "A tibble: 1 × 2\n",
       "\n",
       "| mean(mass) &lt;dbl&gt; | median(height) &lt;dbl&gt; |\n",
       "|---|---|\n",
       "| 65.9931 | 178 |\n",
       "\n"
      ],
      "text/plain": [
       "  mean(mass) median(height)\n",
       "1 65.9931    178           "
      ]
     },
     "metadata": {},
     "output_type": "display_data"
    }
   ],
   "source": [
    "starwars[is.na(starwars)] <- 0  # Replacing NA values with 0\n",
    "  starwars %>%                    # Passing the Starwars dataset to next function\n",
    "  summarize( mean(mass), median(height))"
   ]
  },
  {
   "cell_type": "code",
   "execution_count": 7,
   "metadata": {},
   "outputs": [
    {
     "data": {
      "text/html": [
       "<table>\n",
       "<caption>A tibble: 6 × 3</caption>\n",
       "<thead>\n",
       "\t<tr><th scope=col>species</th><th scope=col>mean(mass)</th><th scope=col>median(height)</th></tr>\n",
       "\t<tr><th scope=col>&lt;chr&gt;</th><th scope=col>&lt;dbl&gt;</th><th scope=col>&lt;dbl&gt;</th></tr>\n",
       "</thead>\n",
       "<tbody>\n",
       "\t<tr><td>0       </td><td>  9.6</td><td>178</td></tr>\n",
       "\t<tr><td>Aleena  </td><td> 15.0</td><td> 79</td></tr>\n",
       "\t<tr><td>Besalisk</td><td>102.0</td><td>198</td></tr>\n",
       "\t<tr><td>Cerean  </td><td> 82.0</td><td>198</td></tr>\n",
       "\t<tr><td>Chagrian</td><td>  0.0</td><td>196</td></tr>\n",
       "\t<tr><td>Clawdite</td><td> 55.0</td><td>168</td></tr>\n",
       "</tbody>\n",
       "</table>\n"
      ],
      "text/latex": [
       "A tibble: 6 × 3\n",
       "\\begin{tabular}{lll}\n",
       " species & mean(mass) & median(height)\\\\\n",
       " <chr> & <dbl> & <dbl>\\\\\n",
       "\\hline\n",
       "\t 0        &   9.6 & 178\\\\\n",
       "\t Aleena   &  15.0 &  79\\\\\n",
       "\t Besalisk & 102.0 & 198\\\\\n",
       "\t Cerean   &  82.0 & 198\\\\\n",
       "\t Chagrian &   0.0 & 196\\\\\n",
       "\t Clawdite &  55.0 & 168\\\\\n",
       "\\end{tabular}\n"
      ],
      "text/markdown": [
       "\n",
       "A tibble: 6 × 3\n",
       "\n",
       "| species &lt;chr&gt; | mean(mass) &lt;dbl&gt; | median(height) &lt;dbl&gt; |\n",
       "|---|---|---|\n",
       "| 0        |   9.6 | 178 |\n",
       "| Aleena   |  15.0 |  79 |\n",
       "| Besalisk | 102.0 | 198 |\n",
       "| Cerean   |  82.0 | 198 |\n",
       "| Chagrian |   0.0 | 196 |\n",
       "| Clawdite |  55.0 | 168 |\n",
       "\n"
      ],
      "text/plain": [
       "  species  mean(mass) median(height)\n",
       "1 0          9.6      178           \n",
       "2 Aleena    15.0       79           \n",
       "3 Besalisk 102.0      198           \n",
       "4 Cerean    82.0      198           \n",
       "5 Chagrian   0.0      196           \n",
       "6 Clawdite  55.0      168           "
      ]
     },
     "metadata": {},
     "output_type": "display_data"
    }
   ],
   "source": [
    "starwars[is.na(starwars)] <- 0  # Replacing NA values with 0\n",
    "  starwars %>%                    # Passing the Starwars dataset to next function\n",
    "  group_by(species) %>%          # Grouping by species\n",
    "  summarize( mean(mass), median(height))%>% head()"
   ]
  },
  {
   "cell_type": "code",
   "execution_count": 9,
   "metadata": {},
   "outputs": [
    {
     "data": {
      "text/html": [
       "<table>\n",
       "<caption>A grouped_df: 6 × 4</caption>\n",
       "<thead>\n",
       "\t<tr><th scope=col>species</th><th scope=col>gender</th><th scope=col>mean(mass)</th><th scope=col>median(height)</th></tr>\n",
       "\t<tr><th scope=col>&lt;chr&gt;</th><th scope=col>&lt;chr&gt;</th><th scope=col>&lt;dbl&gt;</th><th scope=col>&lt;dbl&gt;</th></tr>\n",
       "</thead>\n",
       "<tbody>\n",
       "\t<tr><td>0       </td><td>female</td><td> 16</td><td> 96</td></tr>\n",
       "\t<tr><td>0       </td><td>male  </td><td>  0</td><td>183</td></tr>\n",
       "\t<tr><td>Aleena  </td><td>male  </td><td> 15</td><td> 79</td></tr>\n",
       "\t<tr><td>Besalisk</td><td>male  </td><td>102</td><td>198</td></tr>\n",
       "\t<tr><td>Cerean  </td><td>male  </td><td> 82</td><td>198</td></tr>\n",
       "\t<tr><td>Chagrian</td><td>male  </td><td>  0</td><td>196</td></tr>\n",
       "</tbody>\n",
       "</table>\n"
      ],
      "text/latex": [
       "A grouped_df: 6 × 4\n",
       "\\begin{tabular}{llll}\n",
       " species & gender & mean(mass) & median(height)\\\\\n",
       " <chr> & <chr> & <dbl> & <dbl>\\\\\n",
       "\\hline\n",
       "\t 0        & female &  16 &  96\\\\\n",
       "\t 0        & male   &   0 & 183\\\\\n",
       "\t Aleena   & male   &  15 &  79\\\\\n",
       "\t Besalisk & male   & 102 & 198\\\\\n",
       "\t Cerean   & male   &  82 & 198\\\\\n",
       "\t Chagrian & male   &   0 & 196\\\\\n",
       "\\end{tabular}\n"
      ],
      "text/markdown": [
       "\n",
       "A grouped_df: 6 × 4\n",
       "\n",
       "| species &lt;chr&gt; | gender &lt;chr&gt; | mean(mass) &lt;dbl&gt; | median(height) &lt;dbl&gt; |\n",
       "|---|---|---|---|\n",
       "| 0        | female |  16 |  96 |\n",
       "| 0        | male   |   0 | 183 |\n",
       "| Aleena   | male   |  15 |  79 |\n",
       "| Besalisk | male   | 102 | 198 |\n",
       "| Cerean   | male   |  82 | 198 |\n",
       "| Chagrian | male   |   0 | 196 |\n",
       "\n"
      ],
      "text/plain": [
       "  species  gender mean(mass) median(height)\n",
       "1 0        female  16         96           \n",
       "2 0        male     0        183           \n",
       "3 Aleena   male    15         79           \n",
       "4 Besalisk male   102        198           \n",
       "5 Cerean   male    82        198           \n",
       "6 Chagrian male     0        196           "
      ]
     },
     "metadata": {},
     "output_type": "display_data"
    }
   ],
   "source": [
    "  starwars[is.na(starwars)] <- 0  # Replacing NA values with 0\n",
    "  starwars %>%                    # Passing the Starwars dataset to next function\n",
    "  group_by(species, gender) %>%          # Grouping by species and gender\n",
    "  summarize( mean(mass), median(height))%>% head()"
   ]
  },
  {
   "cell_type": "code",
   "execution_count": 10,
   "metadata": {},
   "outputs": [
    {
     "data": {
      "text/html": [
       "<table>\n",
       "<caption>A tibble: 1 × 2</caption>\n",
       "<thead>\n",
       "\t<tr><th scope=col>mean(mass)</th><th scope=col>median(height)</th></tr>\n",
       "\t<tr><th scope=col>&lt;dbl&gt;</th><th scope=col>&lt;dbl&gt;</th></tr>\n",
       "</thead>\n",
       "<tbody>\n",
       "\t<tr><td>44.62581</td><td>171</td></tr>\n",
       "</tbody>\n",
       "</table>\n"
      ],
      "text/latex": [
       "A tibble: 1 × 2\n",
       "\\begin{tabular}{ll}\n",
       " mean(mass) & median(height)\\\\\n",
       " <dbl> & <dbl>\\\\\n",
       "\\hline\n",
       "\t 44.62581 & 171\\\\\n",
       "\\end{tabular}\n"
      ],
      "text/markdown": [
       "\n",
       "A tibble: 1 × 2\n",
       "\n",
       "| mean(mass) &lt;dbl&gt; | median(height) &lt;dbl&gt; |\n",
       "|---|---|\n",
       "| 44.62581 | 171 |\n",
       "\n"
      ],
      "text/plain": [
       "  mean(mass) median(height)\n",
       "1 44.62581   171           "
      ]
     },
     "metadata": {},
     "output_type": "display_data"
    }
   ],
   "source": [
    "  starwars[is.na(starwars)] <- 0  # Replacing NA values with 0\n",
    "  starwars %>%                    # Passing the Starwars dataset to next function\n",
    "  filter(hair_color == \"black\" | hair_color == \"brown\" )  %>%   # Filtering hair color by black or brown\n",
    "  summarize( mean(mass), median(height))"
   ]
  },
  {
   "cell_type": "code",
   "execution_count": 11,
   "metadata": {},
   "outputs": [
    {
     "data": {
      "text/html": [
       "<table>\n",
       "<caption>A tibble: 1 × 2</caption>\n",
       "<thead>\n",
       "\t<tr><th scope=col>mean(mass)</th><th scope=col>median(height)</th></tr>\n",
       "\t<tr><th scope=col>&lt;dbl&gt;</th><th scope=col>&lt;dbl&gt;</th></tr>\n",
       "</thead>\n",
       "<tbody>\n",
       "\t<tr><td>15</td><td>165</td></tr>\n",
       "</tbody>\n",
       "</table>\n"
      ],
      "text/latex": [
       "A tibble: 1 × 2\n",
       "\\begin{tabular}{ll}\n",
       " mean(mass) & median(height)\\\\\n",
       " <dbl> & <dbl>\\\\\n",
       "\\hline\n",
       "\t 15 & 165\\\\\n",
       "\\end{tabular}\n"
      ],
      "text/markdown": [
       "\n",
       "A tibble: 1 × 2\n",
       "\n",
       "| mean(mass) &lt;dbl&gt; | median(height) &lt;dbl&gt; |\n",
       "|---|---|\n",
       "| 15 | 165 |\n",
       "\n"
      ],
      "text/plain": [
       "  mean(mass) median(height)\n",
       "1 15         165           "
      ]
     },
     "metadata": {},
     "output_type": "display_data"
    }
   ],
   "source": [
    " starwars[is.na(starwars)] <- 0  # Replacing NA values with 0\n",
    "  starwars %>%                    # Passing the Starwars dataset to next function\n",
    "  filter( gender == \"female\" & homeworld == \"Naboo\" )  %>%   # Filtering by female gender and naboo homeworld\n",
    "  summarize( mean(mass), median(height))"
   ]
  },
  {
   "cell_type": "code",
   "execution_count": 16,
   "metadata": {},
   "outputs": [
    {
     "data": {
      "text/html": [
       "<table>\n",
       "<caption>A tibble: 6 × 2</caption>\n",
       "<thead>\n",
       "\t<tr><th scope=col>homeworld</th><th scope=col>height_feet</th></tr>\n",
       "\t<tr><th scope=col>&lt;chr&gt;</th><th scope=col>&lt;dbl&gt;</th></tr>\n",
       "</thead>\n",
       "<tbody>\n",
       "\t<tr><td>0             </td><td>1.820866</td></tr>\n",
       "\t<tr><td>Alderaan      </td><td>5.785214</td></tr>\n",
       "\t<tr><td>Aleen Minor   </td><td>2.591864</td></tr>\n",
       "\t<tr><td>Bespin        </td><td>5.741470</td></tr>\n",
       "\t<tr><td>Bestine IV    </td><td>5.905512</td></tr>\n",
       "\t<tr><td>Cato Neimoidia</td><td>6.266404</td></tr>\n",
       "</tbody>\n",
       "</table>\n"
      ],
      "text/latex": [
       "A tibble: 6 × 2\n",
       "\\begin{tabular}{ll}\n",
       " homeworld & height\\_feet\\\\\n",
       " <chr> & <dbl>\\\\\n",
       "\\hline\n",
       "\t 0              & 1.820866\\\\\n",
       "\t Alderaan       & 5.785214\\\\\n",
       "\t Aleen Minor    & 2.591864\\\\\n",
       "\t Bespin         & 5.741470\\\\\n",
       "\t Bestine IV     & 5.905512\\\\\n",
       "\t Cato Neimoidia & 6.266404\\\\\n",
       "\\end{tabular}\n"
      ],
      "text/markdown": [
       "\n",
       "A tibble: 6 × 2\n",
       "\n",
       "| homeworld &lt;chr&gt; | height_feet &lt;dbl&gt; |\n",
       "|---|---|\n",
       "| 0              | 1.820866 |\n",
       "| Alderaan       | 5.785214 |\n",
       "| Aleen Minor    | 2.591864 |\n",
       "| Bespin         | 5.741470 |\n",
       "| Bestine IV     | 5.905512 |\n",
       "| Cato Neimoidia | 6.266404 |\n",
       "\n"
      ],
      "text/plain": [
       "  homeworld      height_feet\n",
       "1 0              1.820866   \n",
       "2 Alderaan       5.785214   \n",
       "3 Aleen Minor    2.591864   \n",
       "4 Bespin         5.741470   \n",
       "5 Bestine IV     5.905512   \n",
       "6 Cato Neimoidia 6.266404   "
      ]
     },
     "metadata": {},
     "output_type": "display_data"
    }
   ],
   "source": [
    "  starwars[is.na(starwars)] <- 0  # Replacing NA values with 0\n",
    "  starwars %>%                    # Passing the Starwars dataset to next function\n",
    "  group_by(homeworld) %>%         # Grouping by homeworld\n",
    "    summarize( height_feet = mean(height/30.48))%>% head()"
   ]
  },
  {
   "cell_type": "code",
   "execution_count": 18,
   "metadata": {},
   "outputs": [
    {
     "data": {
      "text/html": [
       "<table>\n",
       "<caption>A tibble: 6 × 13</caption>\n",
       "<thead>\n",
       "\t<tr><th scope=col>name</th><th scope=col>height</th><th scope=col>mass</th><th scope=col>hair_color</th><th scope=col>skin_color</th><th scope=col>eye_color</th><th scope=col>birth_year</th><th scope=col>gender</th><th scope=col>homeworld</th><th scope=col>species</th><th scope=col>films</th><th scope=col>vehicles</th><th scope=col>starships</th></tr>\n",
       "\t<tr><th scope=col>&lt;chr&gt;</th><th scope=col>&lt;dbl&gt;</th><th scope=col>&lt;dbl&gt;</th><th scope=col>&lt;chr&gt;</th><th scope=col>&lt;chr&gt;</th><th scope=col>&lt;chr&gt;</th><th scope=col>&lt;dbl&gt;</th><th scope=col>&lt;chr&gt;</th><th scope=col>&lt;chr&gt;</th><th scope=col>&lt;chr&gt;</th><th scope=col>&lt;list&gt;</th><th scope=col>&lt;list&gt;</th><th scope=col>&lt;list&gt;</th></tr>\n",
       "</thead>\n",
       "<tbody>\n",
       "\t<tr><td>Arvel Crynyd  </td><td>0</td><td>0</td><td>brown  </td><td>fair   </td><td>brown  </td><td>0</td><td>male  </td><td>0</td><td>Human</td><td>Return of the Jedi</td><td></td><td>A-wing</td></tr>\n",
       "\t<tr><td>Finn          </td><td>0</td><td>0</td><td>black  </td><td>dark   </td><td>dark   </td><td>0</td><td>male  </td><td>0</td><td>Human</td><td>The Force Awakens</td><td></td><td></td></tr>\n",
       "\t<tr><td>Rey           </td><td>0</td><td>0</td><td>brown  </td><td>light  </td><td>hazel  </td><td>0</td><td>female</td><td>0</td><td>Human</td><td>The Force Awakens</td><td></td><td></td></tr>\n",
       "\t<tr><td>Poe Dameron   </td><td>0</td><td>0</td><td>brown  </td><td>light  </td><td>brown  </td><td>0</td><td>male  </td><td>0</td><td>Human</td><td>The Force Awakens</td><td></td><td>T-70 X-wing fighter</td></tr>\n",
       "\t<tr><td>BB8           </td><td>0</td><td>0</td><td>none   </td><td>none   </td><td>black  </td><td>0</td><td>none  </td><td>0</td><td>Droid</td><td>The Force Awakens</td><td></td><td></td></tr>\n",
       "\t<tr><td>Captain Phasma</td><td>0</td><td>0</td><td>unknown</td><td>unknown</td><td>unknown</td><td>0</td><td>female</td><td>0</td><td>0    </td><td>The Force Awakens</td><td></td><td></td></tr>\n",
       "</tbody>\n",
       "</table>\n"
      ],
      "text/latex": [
       "A tibble: 6 × 13\n",
       "\\begin{tabular}{lllllllllllll}\n",
       " name & height & mass & hair\\_color & skin\\_color & eye\\_color & birth\\_year & gender & homeworld & species & films & vehicles & starships\\\\\n",
       " <chr> & <dbl> & <dbl> & <chr> & <chr> & <chr> & <dbl> & <chr> & <chr> & <chr> & <list> & <list> & <list>\\\\\n",
       "\\hline\n",
       "\t Arvel Crynyd   & 0 & 0 & brown   & fair    & brown   & 0 & male   & 0 & Human & Return of the Jedi &  & A-wing\\\\\n",
       "\t Finn           & 0 & 0 & black   & dark    & dark    & 0 & male   & 0 & Human & The Force Awakens &  & \\\\\n",
       "\t Rey            & 0 & 0 & brown   & light   & hazel   & 0 & female & 0 & Human & The Force Awakens &  & \\\\\n",
       "\t Poe Dameron    & 0 & 0 & brown   & light   & brown   & 0 & male   & 0 & Human & The Force Awakens &  & T-70 X-wing fighter\\\\\n",
       "\t BB8            & 0 & 0 & none    & none    & black   & 0 & none   & 0 & Droid & The Force Awakens &  & \\\\\n",
       "\t Captain Phasma & 0 & 0 & unknown & unknown & unknown & 0 & female & 0 & 0     & The Force Awakens &  & \\\\\n",
       "\\end{tabular}\n"
      ],
      "text/markdown": [
       "\n",
       "A tibble: 6 × 13\n",
       "\n",
       "| name &lt;chr&gt; | height &lt;dbl&gt; | mass &lt;dbl&gt; | hair_color &lt;chr&gt; | skin_color &lt;chr&gt; | eye_color &lt;chr&gt; | birth_year &lt;dbl&gt; | gender &lt;chr&gt; | homeworld &lt;chr&gt; | species &lt;chr&gt; | films &lt;list&gt; | vehicles &lt;list&gt; | starships &lt;list&gt; |\n",
       "|---|---|---|---|---|---|---|---|---|---|---|---|---|\n",
       "| Arvel Crynyd   | 0 | 0 | brown   | fair    | brown   | 0 | male   | 0 | Human | Return of the Jedi | <!----> | A-wing |\n",
       "| Finn           | 0 | 0 | black   | dark    | dark    | 0 | male   | 0 | Human | The Force Awakens | <!----> | <!----> |\n",
       "| Rey            | 0 | 0 | brown   | light   | hazel   | 0 | female | 0 | Human | The Force Awakens | <!----> | <!----> |\n",
       "| Poe Dameron    | 0 | 0 | brown   | light   | brown   | 0 | male   | 0 | Human | The Force Awakens | <!----> | T-70 X-wing fighter |\n",
       "| BB8            | 0 | 0 | none    | none    | black   | 0 | none   | 0 | Droid | The Force Awakens | <!----> | <!----> |\n",
       "| Captain Phasma | 0 | 0 | unknown | unknown | unknown | 0 | female | 0 | 0     | The Force Awakens | <!----> | <!----> |\n",
       "\n"
      ],
      "text/plain": [
       "  name           height mass hair_color skin_color eye_color birth_year gender\n",
       "1 Arvel Crynyd   0      0    brown      fair       brown     0          male  \n",
       "2 Finn           0      0    black      dark       dark      0          male  \n",
       "3 Rey            0      0    brown      light      hazel     0          female\n",
       "4 Poe Dameron    0      0    brown      light      brown     0          male  \n",
       "5 BB8            0      0    none       none       black     0          none  \n",
       "6 Captain Phasma 0      0    unknown    unknown    unknown   0          female\n",
       "  homeworld species films              vehicles starships          \n",
       "1 0         Human   Return of the Jedi          A-wing             \n",
       "2 0         Human   The Force Awakens                              \n",
       "3 0         Human   The Force Awakens                              \n",
       "4 0         Human   The Force Awakens           T-70 X-wing fighter\n",
       "5 0         Droid   The Force Awakens                              \n",
       "6 0         0       The Force Awakens                              "
      ]
     },
     "metadata": {},
     "output_type": "display_data"
    }
   ],
   "source": [
    "  starwars[is.na(starwars)] <- 0  # Replacing NA values with 0\n",
    "  arrange(starwars, height, mass)%>%head()"
   ]
  },
  {
   "cell_type": "code",
   "execution_count": 19,
   "metadata": {},
   "outputs": [
    {
     "data": {
      "text/html": [
       "<table>\n",
       "<caption>A tibble: 6 × 13</caption>\n",
       "<thead>\n",
       "\t<tr><th scope=col>name</th><th scope=col>height</th><th scope=col>mass</th><th scope=col>hair_color</th><th scope=col>skin_color</th><th scope=col>eye_color</th><th scope=col>birth_year</th><th scope=col>gender</th><th scope=col>homeworld</th><th scope=col>species</th><th scope=col>films</th><th scope=col>vehicles</th><th scope=col>starships</th></tr>\n",
       "\t<tr><th scope=col>&lt;chr&gt;</th><th scope=col>&lt;dbl&gt;</th><th scope=col>&lt;dbl&gt;</th><th scope=col>&lt;chr&gt;</th><th scope=col>&lt;chr&gt;</th><th scope=col>&lt;chr&gt;</th><th scope=col>&lt;dbl&gt;</th><th scope=col>&lt;chr&gt;</th><th scope=col>&lt;chr&gt;</th><th scope=col>&lt;chr&gt;</th><th scope=col>&lt;list&gt;</th><th scope=col>&lt;list&gt;</th><th scope=col>&lt;list&gt;</th></tr>\n",
       "</thead>\n",
       "<tbody>\n",
       "\t<tr><td>Yarael Poof </td><td>264</td><td>  0</td><td>none </td><td>white       </td><td>yellow       </td><td>  0</td><td>male</td><td>Quermia </td><td>Quermian</td><td>The Phantom Menace</td><td></td><td></td></tr>\n",
       "\t<tr><td>Tarfful     </td><td>234</td><td>136</td><td>brown</td><td>brown       </td><td>blue         </td><td>  0</td><td>male</td><td>Kashyyyk</td><td>Wookiee </td><td>Revenge of the Sith</td><td></td><td></td></tr>\n",
       "\t<tr><td>Lama Su     </td><td>229</td><td> 88</td><td>none </td><td>grey        </td><td>black        </td><td>  0</td><td>male</td><td>Kamino  </td><td>Kaminoan</td><td>Attack of the Clones</td><td></td><td></td></tr>\n",
       "\t<tr><td>Chewbacca   </td><td>228</td><td>112</td><td>brown</td><td>unknown     </td><td>blue         </td><td>200</td><td>male</td><td>Kashyyyk</td><td>Wookiee </td><td>Revenge of the Sith    , Return of the Jedi     , The Empire Strikes Back, A New Hope             , The Force Awakens      </td><td>AT-ST</td><td>Millennium Falcon, Imperial shuttle </td></tr>\n",
       "\t<tr><td>Roos Tarpals</td><td>224</td><td> 82</td><td>none </td><td>grey        </td><td>orange       </td><td>  0</td><td>male</td><td>Naboo   </td><td>Gungan  </td><td>The Phantom Menace</td><td></td><td></td></tr>\n",
       "\t<tr><td>Grievous    </td><td>216</td><td>159</td><td>none </td><td>brown, white</td><td>green, yellow</td><td>  0</td><td>male</td><td>Kalee   </td><td>Kaleesh </td><td>Revenge of the Sith</td><td>Tsmeu-6 personal wheel bike</td><td>Belbullab-22 starfighter</td></tr>\n",
       "</tbody>\n",
       "</table>\n"
      ],
      "text/latex": [
       "A tibble: 6 × 13\n",
       "\\begin{tabular}{lllllllllllll}\n",
       " name & height & mass & hair\\_color & skin\\_color & eye\\_color & birth\\_year & gender & homeworld & species & films & vehicles & starships\\\\\n",
       " <chr> & <dbl> & <dbl> & <chr> & <chr> & <chr> & <dbl> & <chr> & <chr> & <chr> & <list> & <list> & <list>\\\\\n",
       "\\hline\n",
       "\t Yarael Poof  & 264 &   0 & none  & white        & yellow        &   0 & male & Quermia  & Quermian & The Phantom Menace &  & \\\\\n",
       "\t Tarfful      & 234 & 136 & brown & brown        & blue          &   0 & male & Kashyyyk & Wookiee  & Revenge of the Sith &  & \\\\\n",
       "\t Lama Su      & 229 &  88 & none  & grey         & black         &   0 & male & Kamino   & Kaminoan & Attack of the Clones &  & \\\\\n",
       "\t Chewbacca    & 228 & 112 & brown & unknown      & blue          & 200 & male & Kashyyyk & Wookiee  & Revenge of the Sith    , Return of the Jedi     , The Empire Strikes Back, A New Hope             , The Force Awakens       & AT-ST & Millennium Falcon, Imperial shuttle \\\\\n",
       "\t Roos Tarpals & 224 &  82 & none  & grey         & orange        &   0 & male & Naboo    & Gungan   & The Phantom Menace &  & \\\\\n",
       "\t Grievous     & 216 & 159 & none  & brown, white & green, yellow &   0 & male & Kalee    & Kaleesh  & Revenge of the Sith & Tsmeu-6 personal wheel bike & Belbullab-22 starfighter\\\\\n",
       "\\end{tabular}\n"
      ],
      "text/markdown": [
       "\n",
       "A tibble: 6 × 13\n",
       "\n",
       "| name &lt;chr&gt; | height &lt;dbl&gt; | mass &lt;dbl&gt; | hair_color &lt;chr&gt; | skin_color &lt;chr&gt; | eye_color &lt;chr&gt; | birth_year &lt;dbl&gt; | gender &lt;chr&gt; | homeworld &lt;chr&gt; | species &lt;chr&gt; | films &lt;list&gt; | vehicles &lt;list&gt; | starships &lt;list&gt; |\n",
       "|---|---|---|---|---|---|---|---|---|---|---|---|---|\n",
       "| Yarael Poof  | 264 |   0 | none  | white        | yellow        |   0 | male | Quermia  | Quermian | The Phantom Menace | <!----> | <!----> |\n",
       "| Tarfful      | 234 | 136 | brown | brown        | blue          |   0 | male | Kashyyyk | Wookiee  | Revenge of the Sith | <!----> | <!----> |\n",
       "| Lama Su      | 229 |  88 | none  | grey         | black         |   0 | male | Kamino   | Kaminoan | Attack of the Clones | <!----> | <!----> |\n",
       "| Chewbacca    | 228 | 112 | brown | unknown      | blue          | 200 | male | Kashyyyk | Wookiee  | Revenge of the Sith    , Return of the Jedi     , The Empire Strikes Back, A New Hope             , The Force Awakens       | AT-ST | Millennium Falcon, Imperial shuttle  |\n",
       "| Roos Tarpals | 224 |  82 | none  | grey         | orange        |   0 | male | Naboo    | Gungan   | The Phantom Menace | <!----> | <!----> |\n",
       "| Grievous     | 216 | 159 | none  | brown, white | green, yellow |   0 | male | Kalee    | Kaleesh  | Revenge of the Sith | Tsmeu-6 personal wheel bike | Belbullab-22 starfighter |\n",
       "\n"
      ],
      "text/plain": [
       "  name         height mass hair_color skin_color   eye_color     birth_year\n",
       "1 Yarael Poof  264      0  none       white        yellow          0       \n",
       "2 Tarfful      234    136  brown      brown        blue            0       \n",
       "3 Lama Su      229     88  none       grey         black           0       \n",
       "4 Chewbacca    228    112  brown      unknown      blue          200       \n",
       "5 Roos Tarpals 224     82  none       grey         orange          0       \n",
       "6 Grievous     216    159  none       brown, white green, yellow   0       \n",
       "  gender homeworld species \n",
       "1 male   Quermia   Quermian\n",
       "2 male   Kashyyyk  Wookiee \n",
       "3 male   Kamino    Kaminoan\n",
       "4 male   Kashyyyk  Wookiee \n",
       "5 male   Naboo     Gungan  \n",
       "6 male   Kalee     Kaleesh \n",
       "  films                                                                                                                      \n",
       "1 The Phantom Menace                                                                                                         \n",
       "2 Revenge of the Sith                                                                                                        \n",
       "3 Attack of the Clones                                                                                                       \n",
       "4 Revenge of the Sith    , Return of the Jedi     , The Empire Strikes Back, A New Hope             , The Force Awakens      \n",
       "5 The Phantom Menace                                                                                                         \n",
       "6 Revenge of the Sith                                                                                                        \n",
       "  vehicles                    starships                           \n",
       "1                                                                 \n",
       "2                                                                 \n",
       "3                                                                 \n",
       "4 AT-ST                       Millennium Falcon, Imperial shuttle \n",
       "5                                                                 \n",
       "6 Tsmeu-6 personal wheel bike Belbullab-22 starfighter            "
      ]
     },
     "metadata": {},
     "output_type": "display_data"
    }
   ],
   "source": [
    "  starwars[is.na(starwars)] <- 0  # Replacing NA values with 0\n",
    "  arrange(starwars, desc(height))%>%head()"
   ]
  },
  {
   "cell_type": "code",
   "execution_count": 23,
   "metadata": {},
   "outputs": [
    {
     "data": {
      "text/html": [
       "<table>\n",
       "<caption>A tibble: 6 × 3</caption>\n",
       "<thead>\n",
       "\t<tr><th scope=col>species</th><th scope=col>mass</th><th scope=col>height</th></tr>\n",
       "\t<tr><th scope=col>&lt;chr&gt;</th><th scope=col>&lt;dbl&gt;</th><th scope=col>&lt;dbl&gt;</th></tr>\n",
       "</thead>\n",
       "<tbody>\n",
       "\t<tr><td>Hutt      </td><td>1358</td><td>175</td></tr>\n",
       "\t<tr><td>Kaleesh   </td><td> 159</td><td>216</td></tr>\n",
       "\t<tr><td>Wookiee   </td><td> 124</td><td>231</td></tr>\n",
       "\t<tr><td>Trandoshan</td><td> 113</td><td>190</td></tr>\n",
       "\t<tr><td>Besalisk  </td><td> 102</td><td>198</td></tr>\n",
       "\t<tr><td>Neimodian </td><td>  90</td><td>191</td></tr>\n",
       "</tbody>\n",
       "</table>\n"
      ],
      "text/latex": [
       "A tibble: 6 × 3\n",
       "\\begin{tabular}{lll}\n",
       " species & mass & height\\\\\n",
       " <chr> & <dbl> & <dbl>\\\\\n",
       "\\hline\n",
       "\t Hutt       & 1358 & 175\\\\\n",
       "\t Kaleesh    &  159 & 216\\\\\n",
       "\t Wookiee    &  124 & 231\\\\\n",
       "\t Trandoshan &  113 & 190\\\\\n",
       "\t Besalisk   &  102 & 198\\\\\n",
       "\t Neimodian  &   90 & 191\\\\\n",
       "\\end{tabular}\n"
      ],
      "text/markdown": [
       "\n",
       "A tibble: 6 × 3\n",
       "\n",
       "| species &lt;chr&gt; | mass &lt;dbl&gt; | height &lt;dbl&gt; |\n",
       "|---|---|---|\n",
       "| Hutt       | 1358 | 175 |\n",
       "| Kaleesh    |  159 | 216 |\n",
       "| Wookiee    |  124 | 231 |\n",
       "| Trandoshan |  113 | 190 |\n",
       "| Besalisk   |  102 | 198 |\n",
       "| Neimodian  |   90 | 191 |\n",
       "\n"
      ],
      "text/plain": [
       "  species    mass height\n",
       "1 Hutt       1358 175   \n",
       "2 Kaleesh     159 216   \n",
       "3 Wookiee     124 231   \n",
       "4 Trandoshan  113 190   \n",
       "5 Besalisk    102 198   \n",
       "6 Neimodian    90 191   "
      ]
     },
     "metadata": {},
     "output_type": "display_data"
    }
   ],
   "source": [
    "  starwars[is.na(starwars)] <- 0  # Replacing NA values with 0\n",
    "  pivot <- starwars %>%           # Saving the data in table called pivot\n",
    "  group_by(species) %>%          # Grouping by species\n",
    "  summarize( mass = mean(mass), height = median(height))\n",
    "  arrange(pivot, desc(mass))  %>%head()"
   ]
  },
  {
   "cell_type": "code",
   "execution_count": 25,
   "metadata": {},
   "outputs": [
    {
     "data": {
      "text/html": [
       "<table>\n",
       "<caption>A tibble: 6 × 14</caption>\n",
       "<thead>\n",
       "\t<tr><th scope=col>name</th><th scope=col>height</th><th scope=col>mass</th><th scope=col>hair_color</th><th scope=col>skin_color</th><th scope=col>eye_color</th><th scope=col>birth_year</th><th scope=col>gender</th><th scope=col>homeworld</th><th scope=col>species</th><th scope=col>films</th><th scope=col>vehicles</th><th scope=col>starships</th><th scope=col>age</th></tr>\n",
       "\t<tr><th scope=col>&lt;chr&gt;</th><th scope=col>&lt;dbl&gt;</th><th scope=col>&lt;dbl&gt;</th><th scope=col>&lt;chr&gt;</th><th scope=col>&lt;chr&gt;</th><th scope=col>&lt;chr&gt;</th><th scope=col>&lt;dbl&gt;</th><th scope=col>&lt;chr&gt;</th><th scope=col>&lt;chr&gt;</th><th scope=col>&lt;chr&gt;</th><th scope=col>&lt;list&gt;</th><th scope=col>&lt;list&gt;</th><th scope=col>&lt;list&gt;</th><th scope=col>&lt;dbl&gt;</th></tr>\n",
       "</thead>\n",
       "<tbody>\n",
       "\t<tr><td>Luke Skywalker</td><td>172</td><td> 77</td><td>blond      </td><td>fair       </td><td>blue  </td><td> 19.0</td><td>male  </td><td>Tatooine</td><td>Human</td><td>Revenge of the Sith    , Return of the Jedi     , The Empire Strikes Back, A New Hope             , The Force Awakens      </td><td>Snowspeeder          , Imperial Speeder Bike</td><td>X-wing          , Imperial shuttle</td><td>2000.0</td></tr>\n",
       "\t<tr><td>C-3PO         </td><td>167</td><td> 75</td><td>0          </td><td>gold       </td><td>yellow</td><td>112.0</td><td>0     </td><td>Tatooine</td><td>Droid</td><td>Attack of the Clones   , The Phantom Menace     , Revenge of the Sith    , Return of the Jedi     , The Empire Strikes Back, A New Hope             </td><td></td><td></td><td>1907.0</td></tr>\n",
       "\t<tr><td>R2-D2         </td><td> 96</td><td> 32</td><td>0          </td><td>white, blue</td><td>red   </td><td> 33.0</td><td>0     </td><td>Naboo   </td><td>Droid</td><td>Attack of the Clones   , The Phantom Menace     , Revenge of the Sith    , Return of the Jedi     , The Empire Strikes Back, A New Hope             , The Force Awakens      </td><td></td><td></td><td>1986.0</td></tr>\n",
       "\t<tr><td>Darth Vader   </td><td>202</td><td>136</td><td>none       </td><td>white      </td><td>yellow</td><td> 41.9</td><td>male  </td><td>Tatooine</td><td>Human</td><td>Revenge of the Sith    , Return of the Jedi     , The Empire Strikes Back, A New Hope             </td><td></td><td>TIE Advanced x1</td><td>1977.1</td></tr>\n",
       "\t<tr><td>Leia Organa   </td><td>150</td><td> 49</td><td>brown      </td><td>light      </td><td>brown </td><td> 19.0</td><td>female</td><td>Alderaan</td><td>Human</td><td>Revenge of the Sith    , Return of the Jedi     , The Empire Strikes Back, A New Hope             , The Force Awakens      </td><td>Imperial Speeder Bike</td><td></td><td>2000.0</td></tr>\n",
       "\t<tr><td>Owen Lars     </td><td>178</td><td>120</td><td>brown, grey</td><td>light      </td><td>blue  </td><td> 52.0</td><td>male  </td><td>Tatooine</td><td>Human</td><td>Attack of the Clones, Revenge of the Sith , A New Hope          </td><td></td><td></td><td>1967.0</td></tr>\n",
       "</tbody>\n",
       "</table>\n"
      ],
      "text/latex": [
       "A tibble: 6 × 14\n",
       "\\begin{tabular}{llllllllllllll}\n",
       " name & height & mass & hair\\_color & skin\\_color & eye\\_color & birth\\_year & gender & homeworld & species & films & vehicles & starships & age\\\\\n",
       " <chr> & <dbl> & <dbl> & <chr> & <chr> & <chr> & <dbl> & <chr> & <chr> & <chr> & <list> & <list> & <list> & <dbl>\\\\\n",
       "\\hline\n",
       "\t Luke Skywalker & 172 &  77 & blond       & fair        & blue   &  19.0 & male   & Tatooine & Human & Revenge of the Sith    , Return of the Jedi     , The Empire Strikes Back, A New Hope             , The Force Awakens       & Snowspeeder          , Imperial Speeder Bike & X-wing          , Imperial shuttle & 2000.0\\\\\n",
       "\t C-3PO          & 167 &  75 & 0           & gold        & yellow & 112.0 & 0      & Tatooine & Droid & Attack of the Clones   , The Phantom Menace     , Revenge of the Sith    , Return of the Jedi     , The Empire Strikes Back, A New Hope              &  &  & 1907.0\\\\\n",
       "\t R2-D2          &  96 &  32 & 0           & white, blue & red    &  33.0 & 0      & Naboo    & Droid & Attack of the Clones   , The Phantom Menace     , Revenge of the Sith    , Return of the Jedi     , The Empire Strikes Back, A New Hope             , The Force Awakens       &  &  & 1986.0\\\\\n",
       "\t Darth Vader    & 202 & 136 & none        & white       & yellow &  41.9 & male   & Tatooine & Human & Revenge of the Sith    , Return of the Jedi     , The Empire Strikes Back, A New Hope              &  & TIE Advanced x1 & 1977.1\\\\\n",
       "\t Leia Organa    & 150 &  49 & brown       & light       & brown  &  19.0 & female & Alderaan & Human & Revenge of the Sith    , Return of the Jedi     , The Empire Strikes Back, A New Hope             , The Force Awakens       & Imperial Speeder Bike &  & 2000.0\\\\\n",
       "\t Owen Lars      & 178 & 120 & brown, grey & light       & blue   &  52.0 & male   & Tatooine & Human & Attack of the Clones, Revenge of the Sith , A New Hope           &  &  & 1967.0\\\\\n",
       "\\end{tabular}\n"
      ],
      "text/markdown": [
       "\n",
       "A tibble: 6 × 14\n",
       "\n",
       "| name &lt;chr&gt; | height &lt;dbl&gt; | mass &lt;dbl&gt; | hair_color &lt;chr&gt; | skin_color &lt;chr&gt; | eye_color &lt;chr&gt; | birth_year &lt;dbl&gt; | gender &lt;chr&gt; | homeworld &lt;chr&gt; | species &lt;chr&gt; | films &lt;list&gt; | vehicles &lt;list&gt; | starships &lt;list&gt; | age &lt;dbl&gt; |\n",
       "|---|---|---|---|---|---|---|---|---|---|---|---|---|---|\n",
       "| Luke Skywalker | 172 |  77 | blond       | fair        | blue   |  19.0 | male   | Tatooine | Human | Revenge of the Sith    , Return of the Jedi     , The Empire Strikes Back, A New Hope             , The Force Awakens       | Snowspeeder          , Imperial Speeder Bike | X-wing          , Imperial shuttle | 2000.0 |\n",
       "| C-3PO          | 167 |  75 | 0           | gold        | yellow | 112.0 | 0      | Tatooine | Droid | Attack of the Clones   , The Phantom Menace     , Revenge of the Sith    , Return of the Jedi     , The Empire Strikes Back, A New Hope              | <!----> | <!----> | 1907.0 |\n",
       "| R2-D2          |  96 |  32 | 0           | white, blue | red    |  33.0 | 0      | Naboo    | Droid | Attack of the Clones   , The Phantom Menace     , Revenge of the Sith    , Return of the Jedi     , The Empire Strikes Back, A New Hope             , The Force Awakens       | <!----> | <!----> | 1986.0 |\n",
       "| Darth Vader    | 202 | 136 | none        | white       | yellow |  41.9 | male   | Tatooine | Human | Revenge of the Sith    , Return of the Jedi     , The Empire Strikes Back, A New Hope              | <!----> | TIE Advanced x1 | 1977.1 |\n",
       "| Leia Organa    | 150 |  49 | brown       | light       | brown  |  19.0 | female | Alderaan | Human | Revenge of the Sith    , Return of the Jedi     , The Empire Strikes Back, A New Hope             , The Force Awakens       | Imperial Speeder Bike | <!----> | 2000.0 |\n",
       "| Owen Lars      | 178 | 120 | brown, grey | light       | blue   |  52.0 | male   | Tatooine | Human | Attack of the Clones, Revenge of the Sith , A New Hope           | <!----> | <!----> | 1967.0 |\n",
       "\n"
      ],
      "text/plain": [
       "  name           height mass hair_color  skin_color  eye_color birth_year\n",
       "1 Luke Skywalker 172     77  blond       fair        blue       19.0     \n",
       "2 C-3PO          167     75  0           gold        yellow    112.0     \n",
       "3 R2-D2           96     32  0           white, blue red        33.0     \n",
       "4 Darth Vader    202    136  none        white       yellow     41.9     \n",
       "5 Leia Organa    150     49  brown       light       brown      19.0     \n",
       "6 Owen Lars      178    120  brown, grey light       blue       52.0     \n",
       "  gender homeworld species\n",
       "1 male   Tatooine  Human  \n",
       "2 0      Tatooine  Droid  \n",
       "3 0      Naboo     Droid  \n",
       "4 male   Tatooine  Human  \n",
       "5 female Alderaan  Human  \n",
       "6 male   Tatooine  Human  \n",
       "  films                                                                                                                                                                        \n",
       "1 Revenge of the Sith    , Return of the Jedi     , The Empire Strikes Back, A New Hope             , The Force Awakens                                                        \n",
       "2 Attack of the Clones   , The Phantom Menace     , Revenge of the Sith    , Return of the Jedi     , The Empire Strikes Back, A New Hope                                      \n",
       "3 Attack of the Clones   , The Phantom Menace     , Revenge of the Sith    , Return of the Jedi     , The Empire Strikes Back, A New Hope             , The Force Awakens      \n",
       "4 Revenge of the Sith    , Return of the Jedi     , The Empire Strikes Back, A New Hope                                                                                        \n",
       "5 Revenge of the Sith    , Return of the Jedi     , The Empire Strikes Back, A New Hope             , The Force Awakens                                                        \n",
       "6 Attack of the Clones, Revenge of the Sith , A New Hope                                                                                                                       \n",
       "  vehicles                                    \n",
       "1 Snowspeeder          , Imperial Speeder Bike\n",
       "2                                             \n",
       "3                                             \n",
       "4                                             \n",
       "5 Imperial Speeder Bike                       \n",
       "6                                             \n",
       "  starships                          age   \n",
       "1 X-wing          , Imperial shuttle 2000.0\n",
       "2                                    1907.0\n",
       "3                                    1986.0\n",
       "4 TIE Advanced x1                    1977.1\n",
       "5                                    2000.0\n",
       "6                                    1967.0"
      ]
     },
     "metadata": {},
     "output_type": "display_data"
    }
   ],
   "source": [
    "new_starwars <- mutate(starwars, age= 2019 - birth_year)\n",
    "head(new_starwars)"
   ]
  },
  {
   "cell_type": "code",
   "execution_count": null,
   "metadata": {},
   "outputs": [],
   "source": []
  },
  {
   "cell_type": "code",
   "execution_count": null,
   "metadata": {},
   "outputs": [],
   "source": []
  },
  {
   "cell_type": "code",
   "execution_count": null,
   "metadata": {},
   "outputs": [],
   "source": []
  },
  {
   "cell_type": "code",
   "execution_count": 37,
   "metadata": {},
   "outputs": [
    {
     "name": "stderr",
     "output_type": "stream",
     "text": [
      "Loading required package: lattice\n",
      "\n",
      "Warning message:\n",
      "“package ‘lattice’ was built under R version 3.4.4”\n",
      "\n",
      "Attaching package: ‘caret’\n",
      "\n",
      "\n",
      "The following object is masked from ‘package:purrr’:\n",
      "\n",
      "    lift\n",
      "\n",
      "\n"
     ]
    }
   ],
   "source": [
    "library(mlbench)\n",
    "library(caret)"
   ]
  },
  {
   "cell_type": "code",
   "execution_count": 38,
   "metadata": {},
   "outputs": [],
   "source": [
    "# setup cross validation and control parameters\n",
    "control <- trainControl(method=\"repeatedcv\", number=3, repeats = 3, verbose = TRUE, search = \"grid\")\n",
    "tuneLength <- 3"
   ]
  },
  {
   "cell_type": "code",
   "execution_count": 39,
   "metadata": {},
   "outputs": [
    {
     "data": {
      "text/html": [
       "<ol class=list-inline>\n",
       "\t<li>768</li>\n",
       "\t<li>9</li>\n",
       "</ol>\n"
      ],
      "text/latex": [
       "\\begin{enumerate*}\n",
       "\\item 768\n",
       "\\item 9\n",
       "\\end{enumerate*}\n"
      ],
      "text/markdown": [
       "1. 768\n",
       "2. 9\n",
       "\n",
       "\n"
      ],
      "text/plain": [
       "[1] 768   9"
      ]
     },
     "metadata": {},
     "output_type": "display_data"
    },
    {
     "data": {
      "text/html": [
       "<dl class=dl-horizontal>\n",
       "\t<dt>pregnant</dt>\n",
       "\t\t<dd>'numeric'</dd>\n",
       "\t<dt>glucose</dt>\n",
       "\t\t<dd>'numeric'</dd>\n",
       "\t<dt>pressure</dt>\n",
       "\t\t<dd>'numeric'</dd>\n",
       "\t<dt>triceps</dt>\n",
       "\t\t<dd>'numeric'</dd>\n",
       "\t<dt>insulin</dt>\n",
       "\t\t<dd>'numeric'</dd>\n",
       "\t<dt>mass</dt>\n",
       "\t\t<dd>'numeric'</dd>\n",
       "\t<dt>pedigree</dt>\n",
       "\t\t<dd>'numeric'</dd>\n",
       "\t<dt>age</dt>\n",
       "\t\t<dd>'numeric'</dd>\n",
       "\t<dt>diabetes</dt>\n",
       "\t\t<dd>'factor'</dd>\n",
       "</dl>\n"
      ],
      "text/latex": [
       "\\begin{description*}\n",
       "\\item[pregnant] 'numeric'\n",
       "\\item[glucose] 'numeric'\n",
       "\\item[pressure] 'numeric'\n",
       "\\item[triceps] 'numeric'\n",
       "\\item[insulin] 'numeric'\n",
       "\\item[mass] 'numeric'\n",
       "\\item[pedigree] 'numeric'\n",
       "\\item[age] 'numeric'\n",
       "\\item[diabetes] 'factor'\n",
       "\\end{description*}\n"
      ],
      "text/markdown": [
       "pregnant\n",
       ":   'numeric'glucose\n",
       ":   'numeric'pressure\n",
       ":   'numeric'triceps\n",
       ":   'numeric'insulin\n",
       ":   'numeric'mass\n",
       ":   'numeric'pedigree\n",
       ":   'numeric'age\n",
       ":   'numeric'diabetes\n",
       ":   'factor'\n",
       "\n"
      ],
      "text/plain": [
       " pregnant   glucose  pressure   triceps   insulin      mass  pedigree       age \n",
       "\"numeric\" \"numeric\" \"numeric\" \"numeric\" \"numeric\" \"numeric\" \"numeric\" \"numeric\" \n",
       " diabetes \n",
       " \"factor\" "
      ]
     },
     "metadata": {},
     "output_type": "display_data"
    }
   ],
   "source": [
    "## Classification\n",
    "data(PimaIndiansDiabetes)\n",
    "# rename dataset to keep code below generic\n",
    "dataset <- PimaIndiansDiabetes\n",
    "dim(dataset)\n",
    "sapply(dataset, class)"
   ]
  },
  {
   "cell_type": "code",
   "execution_count": 40,
   "metadata": {},
   "outputs": [
    {
     "name": "stdout",
     "output_type": "stream",
     "text": [
      "+ Fold1.Rep1: lambda=0e+00, alpha=0e+00, nrounds= 50, eta=0.3 \n",
      "- Fold1.Rep1: lambda=0e+00, alpha=0e+00, nrounds= 50, eta=0.3 \n",
      "+ Fold1.Rep1: lambda=1e-01, alpha=0e+00, nrounds= 50, eta=0.3 \n",
      "- Fold1.Rep1: lambda=1e-01, alpha=0e+00, nrounds= 50, eta=0.3 \n",
      "+ Fold1.Rep1: lambda=1e-04, alpha=0e+00, nrounds= 50, eta=0.3 \n",
      "- Fold1.Rep1: lambda=1e-04, alpha=0e+00, nrounds= 50, eta=0.3 \n",
      "+ Fold1.Rep1: lambda=0e+00, alpha=1e-01, nrounds= 50, eta=0.3 \n",
      "- Fold1.Rep1: lambda=0e+00, alpha=1e-01, nrounds= 50, eta=0.3 \n",
      "+ Fold1.Rep1: lambda=1e-01, alpha=1e-01, nrounds= 50, eta=0.3 \n",
      "- Fold1.Rep1: lambda=1e-01, alpha=1e-01, nrounds= 50, eta=0.3 \n",
      "+ Fold1.Rep1: lambda=1e-04, alpha=1e-01, nrounds= 50, eta=0.3 \n",
      "- Fold1.Rep1: lambda=1e-04, alpha=1e-01, nrounds= 50, eta=0.3 \n",
      "+ Fold1.Rep1: lambda=0e+00, alpha=1e-04, nrounds= 50, eta=0.3 \n",
      "- Fold1.Rep1: lambda=0e+00, alpha=1e-04, nrounds= 50, eta=0.3 \n",
      "+ Fold1.Rep1: lambda=1e-01, alpha=1e-04, nrounds= 50, eta=0.3 \n",
      "- Fold1.Rep1: lambda=1e-01, alpha=1e-04, nrounds= 50, eta=0.3 \n",
      "+ Fold1.Rep1: lambda=1e-04, alpha=1e-04, nrounds= 50, eta=0.3 \n",
      "- Fold1.Rep1: lambda=1e-04, alpha=1e-04, nrounds= 50, eta=0.3 \n",
      "+ Fold1.Rep1: lambda=0e+00, alpha=0e+00, nrounds=100, eta=0.3 \n",
      "- Fold1.Rep1: lambda=0e+00, alpha=0e+00, nrounds=100, eta=0.3 \n",
      "+ Fold1.Rep1: lambda=1e-01, alpha=0e+00, nrounds=100, eta=0.3 \n",
      "- Fold1.Rep1: lambda=1e-01, alpha=0e+00, nrounds=100, eta=0.3 \n",
      "+ Fold1.Rep1: lambda=1e-04, alpha=0e+00, nrounds=100, eta=0.3 \n",
      "- Fold1.Rep1: lambda=1e-04, alpha=0e+00, nrounds=100, eta=0.3 \n",
      "+ Fold1.Rep1: lambda=0e+00, alpha=1e-01, nrounds=100, eta=0.3 \n",
      "- Fold1.Rep1: lambda=0e+00, alpha=1e-01, nrounds=100, eta=0.3 \n",
      "+ Fold1.Rep1: lambda=1e-01, alpha=1e-01, nrounds=100, eta=0.3 \n",
      "- Fold1.Rep1: lambda=1e-01, alpha=1e-01, nrounds=100, eta=0.3 \n",
      "+ Fold1.Rep1: lambda=1e-04, alpha=1e-01, nrounds=100, eta=0.3 \n",
      "- Fold1.Rep1: lambda=1e-04, alpha=1e-01, nrounds=100, eta=0.3 \n",
      "+ Fold1.Rep1: lambda=0e+00, alpha=1e-04, nrounds=100, eta=0.3 \n",
      "- Fold1.Rep1: lambda=0e+00, alpha=1e-04, nrounds=100, eta=0.3 \n",
      "+ Fold1.Rep1: lambda=1e-01, alpha=1e-04, nrounds=100, eta=0.3 \n",
      "- Fold1.Rep1: lambda=1e-01, alpha=1e-04, nrounds=100, eta=0.3 \n",
      "+ Fold1.Rep1: lambda=1e-04, alpha=1e-04, nrounds=100, eta=0.3 \n",
      "- Fold1.Rep1: lambda=1e-04, alpha=1e-04, nrounds=100, eta=0.3 \n",
      "+ Fold1.Rep1: lambda=0e+00, alpha=0e+00, nrounds=150, eta=0.3 \n",
      "- Fold1.Rep1: lambda=0e+00, alpha=0e+00, nrounds=150, eta=0.3 \n",
      "+ Fold1.Rep1: lambda=1e-01, alpha=0e+00, nrounds=150, eta=0.3 \n",
      "- Fold1.Rep1: lambda=1e-01, alpha=0e+00, nrounds=150, eta=0.3 \n",
      "+ Fold1.Rep1: lambda=1e-04, alpha=0e+00, nrounds=150, eta=0.3 \n",
      "- Fold1.Rep1: lambda=1e-04, alpha=0e+00, nrounds=150, eta=0.3 \n",
      "+ Fold1.Rep1: lambda=0e+00, alpha=1e-01, nrounds=150, eta=0.3 \n",
      "- Fold1.Rep1: lambda=0e+00, alpha=1e-01, nrounds=150, eta=0.3 \n",
      "+ Fold1.Rep1: lambda=1e-01, alpha=1e-01, nrounds=150, eta=0.3 \n",
      "- Fold1.Rep1: lambda=1e-01, alpha=1e-01, nrounds=150, eta=0.3 \n",
      "+ Fold1.Rep1: lambda=1e-04, alpha=1e-01, nrounds=150, eta=0.3 \n",
      "- Fold1.Rep1: lambda=1e-04, alpha=1e-01, nrounds=150, eta=0.3 \n",
      "+ Fold1.Rep1: lambda=0e+00, alpha=1e-04, nrounds=150, eta=0.3 \n",
      "- Fold1.Rep1: lambda=0e+00, alpha=1e-04, nrounds=150, eta=0.3 \n",
      "+ Fold1.Rep1: lambda=1e-01, alpha=1e-04, nrounds=150, eta=0.3 \n",
      "- Fold1.Rep1: lambda=1e-01, alpha=1e-04, nrounds=150, eta=0.3 \n",
      "+ Fold1.Rep1: lambda=1e-04, alpha=1e-04, nrounds=150, eta=0.3 \n",
      "- Fold1.Rep1: lambda=1e-04, alpha=1e-04, nrounds=150, eta=0.3 \n",
      "+ Fold2.Rep1: lambda=0e+00, alpha=0e+00, nrounds= 50, eta=0.3 \n",
      "- Fold2.Rep1: lambda=0e+00, alpha=0e+00, nrounds= 50, eta=0.3 \n",
      "+ Fold2.Rep1: lambda=1e-01, alpha=0e+00, nrounds= 50, eta=0.3 \n",
      "- Fold2.Rep1: lambda=1e-01, alpha=0e+00, nrounds= 50, eta=0.3 \n",
      "+ Fold2.Rep1: lambda=1e-04, alpha=0e+00, nrounds= 50, eta=0.3 \n",
      "- Fold2.Rep1: lambda=1e-04, alpha=0e+00, nrounds= 50, eta=0.3 \n",
      "+ Fold2.Rep1: lambda=0e+00, alpha=1e-01, nrounds= 50, eta=0.3 \n",
      "- Fold2.Rep1: lambda=0e+00, alpha=1e-01, nrounds= 50, eta=0.3 \n",
      "+ Fold2.Rep1: lambda=1e-01, alpha=1e-01, nrounds= 50, eta=0.3 \n",
      "- Fold2.Rep1: lambda=1e-01, alpha=1e-01, nrounds= 50, eta=0.3 \n",
      "+ Fold2.Rep1: lambda=1e-04, alpha=1e-01, nrounds= 50, eta=0.3 \n",
      "- Fold2.Rep1: lambda=1e-04, alpha=1e-01, nrounds= 50, eta=0.3 \n",
      "+ Fold2.Rep1: lambda=0e+00, alpha=1e-04, nrounds= 50, eta=0.3 \n",
      "- Fold2.Rep1: lambda=0e+00, alpha=1e-04, nrounds= 50, eta=0.3 \n",
      "+ Fold2.Rep1: lambda=1e-01, alpha=1e-04, nrounds= 50, eta=0.3 \n",
      "- Fold2.Rep1: lambda=1e-01, alpha=1e-04, nrounds= 50, eta=0.3 \n",
      "+ Fold2.Rep1: lambda=1e-04, alpha=1e-04, nrounds= 50, eta=0.3 \n",
      "- Fold2.Rep1: lambda=1e-04, alpha=1e-04, nrounds= 50, eta=0.3 \n",
      "+ Fold2.Rep1: lambda=0e+00, alpha=0e+00, nrounds=100, eta=0.3 \n",
      "- Fold2.Rep1: lambda=0e+00, alpha=0e+00, nrounds=100, eta=0.3 \n",
      "+ Fold2.Rep1: lambda=1e-01, alpha=0e+00, nrounds=100, eta=0.3 \n",
      "- Fold2.Rep1: lambda=1e-01, alpha=0e+00, nrounds=100, eta=0.3 \n",
      "+ Fold2.Rep1: lambda=1e-04, alpha=0e+00, nrounds=100, eta=0.3 \n",
      "- Fold2.Rep1: lambda=1e-04, alpha=0e+00, nrounds=100, eta=0.3 \n",
      "+ Fold2.Rep1: lambda=0e+00, alpha=1e-01, nrounds=100, eta=0.3 \n",
      "- Fold2.Rep1: lambda=0e+00, alpha=1e-01, nrounds=100, eta=0.3 \n",
      "+ Fold2.Rep1: lambda=1e-01, alpha=1e-01, nrounds=100, eta=0.3 \n",
      "- Fold2.Rep1: lambda=1e-01, alpha=1e-01, nrounds=100, eta=0.3 \n",
      "+ Fold2.Rep1: lambda=1e-04, alpha=1e-01, nrounds=100, eta=0.3 \n",
      "- Fold2.Rep1: lambda=1e-04, alpha=1e-01, nrounds=100, eta=0.3 \n",
      "+ Fold2.Rep1: lambda=0e+00, alpha=1e-04, nrounds=100, eta=0.3 \n",
      "- Fold2.Rep1: lambda=0e+00, alpha=1e-04, nrounds=100, eta=0.3 \n",
      "+ Fold2.Rep1: lambda=1e-01, alpha=1e-04, nrounds=100, eta=0.3 \n",
      "- Fold2.Rep1: lambda=1e-01, alpha=1e-04, nrounds=100, eta=0.3 \n",
      "+ Fold2.Rep1: lambda=1e-04, alpha=1e-04, nrounds=100, eta=0.3 \n",
      "- Fold2.Rep1: lambda=1e-04, alpha=1e-04, nrounds=100, eta=0.3 \n",
      "+ Fold2.Rep1: lambda=0e+00, alpha=0e+00, nrounds=150, eta=0.3 \n",
      "- Fold2.Rep1: lambda=0e+00, alpha=0e+00, nrounds=150, eta=0.3 \n",
      "+ Fold2.Rep1: lambda=1e-01, alpha=0e+00, nrounds=150, eta=0.3 \n",
      "- Fold2.Rep1: lambda=1e-01, alpha=0e+00, nrounds=150, eta=0.3 \n",
      "+ Fold2.Rep1: lambda=1e-04, alpha=0e+00, nrounds=150, eta=0.3 \n",
      "- Fold2.Rep1: lambda=1e-04, alpha=0e+00, nrounds=150, eta=0.3 \n",
      "+ Fold2.Rep1: lambda=0e+00, alpha=1e-01, nrounds=150, eta=0.3 \n",
      "- Fold2.Rep1: lambda=0e+00, alpha=1e-01, nrounds=150, eta=0.3 \n",
      "+ Fold2.Rep1: lambda=1e-01, alpha=1e-01, nrounds=150, eta=0.3 \n",
      "- Fold2.Rep1: lambda=1e-01, alpha=1e-01, nrounds=150, eta=0.3 \n",
      "+ Fold2.Rep1: lambda=1e-04, alpha=1e-01, nrounds=150, eta=0.3 \n",
      "- Fold2.Rep1: lambda=1e-04, alpha=1e-01, nrounds=150, eta=0.3 \n",
      "+ Fold2.Rep1: lambda=0e+00, alpha=1e-04, nrounds=150, eta=0.3 \n",
      "- Fold2.Rep1: lambda=0e+00, alpha=1e-04, nrounds=150, eta=0.3 \n",
      "+ Fold2.Rep1: lambda=1e-01, alpha=1e-04, nrounds=150, eta=0.3 \n",
      "- Fold2.Rep1: lambda=1e-01, alpha=1e-04, nrounds=150, eta=0.3 \n",
      "+ Fold2.Rep1: lambda=1e-04, alpha=1e-04, nrounds=150, eta=0.3 \n",
      "- Fold2.Rep1: lambda=1e-04, alpha=1e-04, nrounds=150, eta=0.3 \n",
      "+ Fold3.Rep1: lambda=0e+00, alpha=0e+00, nrounds= 50, eta=0.3 \n",
      "- Fold3.Rep1: lambda=0e+00, alpha=0e+00, nrounds= 50, eta=0.3 \n",
      "+ Fold3.Rep1: lambda=1e-01, alpha=0e+00, nrounds= 50, eta=0.3 \n",
      "- Fold3.Rep1: lambda=1e-01, alpha=0e+00, nrounds= 50, eta=0.3 \n",
      "+ Fold3.Rep1: lambda=1e-04, alpha=0e+00, nrounds= 50, eta=0.3 \n",
      "- Fold3.Rep1: lambda=1e-04, alpha=0e+00, nrounds= 50, eta=0.3 \n",
      "+ Fold3.Rep1: lambda=0e+00, alpha=1e-01, nrounds= 50, eta=0.3 \n",
      "- Fold3.Rep1: lambda=0e+00, alpha=1e-01, nrounds= 50, eta=0.3 \n",
      "+ Fold3.Rep1: lambda=1e-01, alpha=1e-01, nrounds= 50, eta=0.3 \n",
      "- Fold3.Rep1: lambda=1e-01, alpha=1e-01, nrounds= 50, eta=0.3 \n",
      "+ Fold3.Rep1: lambda=1e-04, alpha=1e-01, nrounds= 50, eta=0.3 \n",
      "- Fold3.Rep1: lambda=1e-04, alpha=1e-01, nrounds= 50, eta=0.3 \n",
      "+ Fold3.Rep1: lambda=0e+00, alpha=1e-04, nrounds= 50, eta=0.3 \n",
      "- Fold3.Rep1: lambda=0e+00, alpha=1e-04, nrounds= 50, eta=0.3 \n",
      "+ Fold3.Rep1: lambda=1e-01, alpha=1e-04, nrounds= 50, eta=0.3 \n",
      "- Fold3.Rep1: lambda=1e-01, alpha=1e-04, nrounds= 50, eta=0.3 \n",
      "+ Fold3.Rep1: lambda=1e-04, alpha=1e-04, nrounds= 50, eta=0.3 \n",
      "- Fold3.Rep1: lambda=1e-04, alpha=1e-04, nrounds= 50, eta=0.3 \n",
      "+ Fold3.Rep1: lambda=0e+00, alpha=0e+00, nrounds=100, eta=0.3 \n",
      "- Fold3.Rep1: lambda=0e+00, alpha=0e+00, nrounds=100, eta=0.3 \n",
      "+ Fold3.Rep1: lambda=1e-01, alpha=0e+00, nrounds=100, eta=0.3 \n",
      "- Fold3.Rep1: lambda=1e-01, alpha=0e+00, nrounds=100, eta=0.3 \n",
      "+ Fold3.Rep1: lambda=1e-04, alpha=0e+00, nrounds=100, eta=0.3 \n",
      "- Fold3.Rep1: lambda=1e-04, alpha=0e+00, nrounds=100, eta=0.3 \n",
      "+ Fold3.Rep1: lambda=0e+00, alpha=1e-01, nrounds=100, eta=0.3 \n",
      "- Fold3.Rep1: lambda=0e+00, alpha=1e-01, nrounds=100, eta=0.3 \n",
      "+ Fold3.Rep1: lambda=1e-01, alpha=1e-01, nrounds=100, eta=0.3 \n",
      "- Fold3.Rep1: lambda=1e-01, alpha=1e-01, nrounds=100, eta=0.3 \n",
      "+ Fold3.Rep1: lambda=1e-04, alpha=1e-01, nrounds=100, eta=0.3 \n",
      "- Fold3.Rep1: lambda=1e-04, alpha=1e-01, nrounds=100, eta=0.3 \n",
      "+ Fold3.Rep1: lambda=0e+00, alpha=1e-04, nrounds=100, eta=0.3 \n",
      "- Fold3.Rep1: lambda=0e+00, alpha=1e-04, nrounds=100, eta=0.3 \n",
      "+ Fold3.Rep1: lambda=1e-01, alpha=1e-04, nrounds=100, eta=0.3 \n",
      "- Fold3.Rep1: lambda=1e-01, alpha=1e-04, nrounds=100, eta=0.3 \n",
      "+ Fold3.Rep1: lambda=1e-04, alpha=1e-04, nrounds=100, eta=0.3 \n",
      "- Fold3.Rep1: lambda=1e-04, alpha=1e-04, nrounds=100, eta=0.3 \n",
      "+ Fold3.Rep1: lambda=0e+00, alpha=0e+00, nrounds=150, eta=0.3 \n",
      "- Fold3.Rep1: lambda=0e+00, alpha=0e+00, nrounds=150, eta=0.3 \n",
      "+ Fold3.Rep1: lambda=1e-01, alpha=0e+00, nrounds=150, eta=0.3 \n",
      "- Fold3.Rep1: lambda=1e-01, alpha=0e+00, nrounds=150, eta=0.3 \n",
      "+ Fold3.Rep1: lambda=1e-04, alpha=0e+00, nrounds=150, eta=0.3 \n",
      "- Fold3.Rep1: lambda=1e-04, alpha=0e+00, nrounds=150, eta=0.3 \n",
      "+ Fold3.Rep1: lambda=0e+00, alpha=1e-01, nrounds=150, eta=0.3 \n",
      "- Fold3.Rep1: lambda=0e+00, alpha=1e-01, nrounds=150, eta=0.3 \n",
      "+ Fold3.Rep1: lambda=1e-01, alpha=1e-01, nrounds=150, eta=0.3 \n",
      "- Fold3.Rep1: lambda=1e-01, alpha=1e-01, nrounds=150, eta=0.3 \n",
      "+ Fold3.Rep1: lambda=1e-04, alpha=1e-01, nrounds=150, eta=0.3 \n",
      "- Fold3.Rep1: lambda=1e-04, alpha=1e-01, nrounds=150, eta=0.3 \n",
      "+ Fold3.Rep1: lambda=0e+00, alpha=1e-04, nrounds=150, eta=0.3 \n",
      "- Fold3.Rep1: lambda=0e+00, alpha=1e-04, nrounds=150, eta=0.3 \n",
      "+ Fold3.Rep1: lambda=1e-01, alpha=1e-04, nrounds=150, eta=0.3 \n",
      "- Fold3.Rep1: lambda=1e-01, alpha=1e-04, nrounds=150, eta=0.3 \n",
      "+ Fold3.Rep1: lambda=1e-04, alpha=1e-04, nrounds=150, eta=0.3 \n",
      "- Fold3.Rep1: lambda=1e-04, alpha=1e-04, nrounds=150, eta=0.3 \n",
      "+ Fold1.Rep2: lambda=0e+00, alpha=0e+00, nrounds= 50, eta=0.3 \n",
      "- Fold1.Rep2: lambda=0e+00, alpha=0e+00, nrounds= 50, eta=0.3 \n",
      "+ Fold1.Rep2: lambda=1e-01, alpha=0e+00, nrounds= 50, eta=0.3 \n",
      "- Fold1.Rep2: lambda=1e-01, alpha=0e+00, nrounds= 50, eta=0.3 \n",
      "+ Fold1.Rep2: lambda=1e-04, alpha=0e+00, nrounds= 50, eta=0.3 \n",
      "- Fold1.Rep2: lambda=1e-04, alpha=0e+00, nrounds= 50, eta=0.3 \n",
      "+ Fold1.Rep2: lambda=0e+00, alpha=1e-01, nrounds= 50, eta=0.3 \n",
      "- Fold1.Rep2: lambda=0e+00, alpha=1e-01, nrounds= 50, eta=0.3 \n",
      "+ Fold1.Rep2: lambda=1e-01, alpha=1e-01, nrounds= 50, eta=0.3 \n",
      "- Fold1.Rep2: lambda=1e-01, alpha=1e-01, nrounds= 50, eta=0.3 \n",
      "+ Fold1.Rep2: lambda=1e-04, alpha=1e-01, nrounds= 50, eta=0.3 \n",
      "- Fold1.Rep2: lambda=1e-04, alpha=1e-01, nrounds= 50, eta=0.3 \n",
      "+ Fold1.Rep2: lambda=0e+00, alpha=1e-04, nrounds= 50, eta=0.3 \n",
      "- Fold1.Rep2: lambda=0e+00, alpha=1e-04, nrounds= 50, eta=0.3 \n",
      "+ Fold1.Rep2: lambda=1e-01, alpha=1e-04, nrounds= 50, eta=0.3 \n",
      "- Fold1.Rep2: lambda=1e-01, alpha=1e-04, nrounds= 50, eta=0.3 \n",
      "+ Fold1.Rep2: lambda=1e-04, alpha=1e-04, nrounds= 50, eta=0.3 \n",
      "- Fold1.Rep2: lambda=1e-04, alpha=1e-04, nrounds= 50, eta=0.3 \n",
      "+ Fold1.Rep2: lambda=0e+00, alpha=0e+00, nrounds=100, eta=0.3 \n",
      "- Fold1.Rep2: lambda=0e+00, alpha=0e+00, nrounds=100, eta=0.3 \n",
      "+ Fold1.Rep2: lambda=1e-01, alpha=0e+00, nrounds=100, eta=0.3 \n",
      "- Fold1.Rep2: lambda=1e-01, alpha=0e+00, nrounds=100, eta=0.3 \n",
      "+ Fold1.Rep2: lambda=1e-04, alpha=0e+00, nrounds=100, eta=0.3 \n",
      "- Fold1.Rep2: lambda=1e-04, alpha=0e+00, nrounds=100, eta=0.3 \n",
      "+ Fold1.Rep2: lambda=0e+00, alpha=1e-01, nrounds=100, eta=0.3 \n",
      "- Fold1.Rep2: lambda=0e+00, alpha=1e-01, nrounds=100, eta=0.3 \n",
      "+ Fold1.Rep2: lambda=1e-01, alpha=1e-01, nrounds=100, eta=0.3 \n",
      "- Fold1.Rep2: lambda=1e-01, alpha=1e-01, nrounds=100, eta=0.3 \n",
      "+ Fold1.Rep2: lambda=1e-04, alpha=1e-01, nrounds=100, eta=0.3 \n",
      "- Fold1.Rep2: lambda=1e-04, alpha=1e-01, nrounds=100, eta=0.3 \n",
      "+ Fold1.Rep2: lambda=0e+00, alpha=1e-04, nrounds=100, eta=0.3 \n",
      "- Fold1.Rep2: lambda=0e+00, alpha=1e-04, nrounds=100, eta=0.3 \n",
      "+ Fold1.Rep2: lambda=1e-01, alpha=1e-04, nrounds=100, eta=0.3 \n",
      "- Fold1.Rep2: lambda=1e-01, alpha=1e-04, nrounds=100, eta=0.3 \n",
      "+ Fold1.Rep2: lambda=1e-04, alpha=1e-04, nrounds=100, eta=0.3 \n",
      "- Fold1.Rep2: lambda=1e-04, alpha=1e-04, nrounds=100, eta=0.3 \n",
      "+ Fold1.Rep2: lambda=0e+00, alpha=0e+00, nrounds=150, eta=0.3 \n",
      "- Fold1.Rep2: lambda=0e+00, alpha=0e+00, nrounds=150, eta=0.3 \n",
      "+ Fold1.Rep2: lambda=1e-01, alpha=0e+00, nrounds=150, eta=0.3 \n",
      "- Fold1.Rep2: lambda=1e-01, alpha=0e+00, nrounds=150, eta=0.3 \n",
      "+ Fold1.Rep2: lambda=1e-04, alpha=0e+00, nrounds=150, eta=0.3 \n",
      "- Fold1.Rep2: lambda=1e-04, alpha=0e+00, nrounds=150, eta=0.3 \n",
      "+ Fold1.Rep2: lambda=0e+00, alpha=1e-01, nrounds=150, eta=0.3 \n",
      "- Fold1.Rep2: lambda=0e+00, alpha=1e-01, nrounds=150, eta=0.3 \n",
      "+ Fold1.Rep2: lambda=1e-01, alpha=1e-01, nrounds=150, eta=0.3 \n",
      "- Fold1.Rep2: lambda=1e-01, alpha=1e-01, nrounds=150, eta=0.3 \n",
      "+ Fold1.Rep2: lambda=1e-04, alpha=1e-01, nrounds=150, eta=0.3 \n",
      "- Fold1.Rep2: lambda=1e-04, alpha=1e-01, nrounds=150, eta=0.3 \n",
      "+ Fold1.Rep2: lambda=0e+00, alpha=1e-04, nrounds=150, eta=0.3 \n",
      "- Fold1.Rep2: lambda=0e+00, alpha=1e-04, nrounds=150, eta=0.3 \n",
      "+ Fold1.Rep2: lambda=1e-01, alpha=1e-04, nrounds=150, eta=0.3 \n",
      "- Fold1.Rep2: lambda=1e-01, alpha=1e-04, nrounds=150, eta=0.3 \n",
      "+ Fold1.Rep2: lambda=1e-04, alpha=1e-04, nrounds=150, eta=0.3 \n",
      "- Fold1.Rep2: lambda=1e-04, alpha=1e-04, nrounds=150, eta=0.3 \n",
      "+ Fold2.Rep2: lambda=0e+00, alpha=0e+00, nrounds= 50, eta=0.3 \n",
      "- Fold2.Rep2: lambda=0e+00, alpha=0e+00, nrounds= 50, eta=0.3 \n",
      "+ Fold2.Rep2: lambda=1e-01, alpha=0e+00, nrounds= 50, eta=0.3 \n",
      "- Fold2.Rep2: lambda=1e-01, alpha=0e+00, nrounds= 50, eta=0.3 \n",
      "+ Fold2.Rep2: lambda=1e-04, alpha=0e+00, nrounds= 50, eta=0.3 \n",
      "- Fold2.Rep2: lambda=1e-04, alpha=0e+00, nrounds= 50, eta=0.3 \n",
      "+ Fold2.Rep2: lambda=0e+00, alpha=1e-01, nrounds= 50, eta=0.3 \n",
      "- Fold2.Rep2: lambda=0e+00, alpha=1e-01, nrounds= 50, eta=0.3 \n",
      "+ Fold2.Rep2: lambda=1e-01, alpha=1e-01, nrounds= 50, eta=0.3 \n",
      "- Fold2.Rep2: lambda=1e-01, alpha=1e-01, nrounds= 50, eta=0.3 \n",
      "+ Fold2.Rep2: lambda=1e-04, alpha=1e-01, nrounds= 50, eta=0.3 \n",
      "- Fold2.Rep2: lambda=1e-04, alpha=1e-01, nrounds= 50, eta=0.3 \n",
      "+ Fold2.Rep2: lambda=0e+00, alpha=1e-04, nrounds= 50, eta=0.3 \n",
      "- Fold2.Rep2: lambda=0e+00, alpha=1e-04, nrounds= 50, eta=0.3 \n",
      "+ Fold2.Rep2: lambda=1e-01, alpha=1e-04, nrounds= 50, eta=0.3 \n",
      "- Fold2.Rep2: lambda=1e-01, alpha=1e-04, nrounds= 50, eta=0.3 \n",
      "+ Fold2.Rep2: lambda=1e-04, alpha=1e-04, nrounds= 50, eta=0.3 \n",
      "- Fold2.Rep2: lambda=1e-04, alpha=1e-04, nrounds= 50, eta=0.3 \n",
      "+ Fold2.Rep2: lambda=0e+00, alpha=0e+00, nrounds=100, eta=0.3 \n",
      "- Fold2.Rep2: lambda=0e+00, alpha=0e+00, nrounds=100, eta=0.3 \n",
      "+ Fold2.Rep2: lambda=1e-01, alpha=0e+00, nrounds=100, eta=0.3 \n",
      "- Fold2.Rep2: lambda=1e-01, alpha=0e+00, nrounds=100, eta=0.3 \n",
      "+ Fold2.Rep2: lambda=1e-04, alpha=0e+00, nrounds=100, eta=0.3 \n",
      "- Fold2.Rep2: lambda=1e-04, alpha=0e+00, nrounds=100, eta=0.3 \n",
      "+ Fold2.Rep2: lambda=0e+00, alpha=1e-01, nrounds=100, eta=0.3 \n",
      "- Fold2.Rep2: lambda=0e+00, alpha=1e-01, nrounds=100, eta=0.3 \n",
      "+ Fold2.Rep2: lambda=1e-01, alpha=1e-01, nrounds=100, eta=0.3 \n",
      "- Fold2.Rep2: lambda=1e-01, alpha=1e-01, nrounds=100, eta=0.3 \n",
      "+ Fold2.Rep2: lambda=1e-04, alpha=1e-01, nrounds=100, eta=0.3 \n",
      "- Fold2.Rep2: lambda=1e-04, alpha=1e-01, nrounds=100, eta=0.3 \n",
      "+ Fold2.Rep2: lambda=0e+00, alpha=1e-04, nrounds=100, eta=0.3 \n",
      "- Fold2.Rep2: lambda=0e+00, alpha=1e-04, nrounds=100, eta=0.3 \n",
      "+ Fold2.Rep2: lambda=1e-01, alpha=1e-04, nrounds=100, eta=0.3 \n",
      "- Fold2.Rep2: lambda=1e-01, alpha=1e-04, nrounds=100, eta=0.3 \n",
      "+ Fold2.Rep2: lambda=1e-04, alpha=1e-04, nrounds=100, eta=0.3 \n",
      "- Fold2.Rep2: lambda=1e-04, alpha=1e-04, nrounds=100, eta=0.3 \n",
      "+ Fold2.Rep2: lambda=0e+00, alpha=0e+00, nrounds=150, eta=0.3 \n",
      "- Fold2.Rep2: lambda=0e+00, alpha=0e+00, nrounds=150, eta=0.3 \n",
      "+ Fold2.Rep2: lambda=1e-01, alpha=0e+00, nrounds=150, eta=0.3 \n",
      "- Fold2.Rep2: lambda=1e-01, alpha=0e+00, nrounds=150, eta=0.3 \n",
      "+ Fold2.Rep2: lambda=1e-04, alpha=0e+00, nrounds=150, eta=0.3 \n",
      "- Fold2.Rep2: lambda=1e-04, alpha=0e+00, nrounds=150, eta=0.3 \n",
      "+ Fold2.Rep2: lambda=0e+00, alpha=1e-01, nrounds=150, eta=0.3 \n",
      "- Fold2.Rep2: lambda=0e+00, alpha=1e-01, nrounds=150, eta=0.3 \n",
      "+ Fold2.Rep2: lambda=1e-01, alpha=1e-01, nrounds=150, eta=0.3 \n",
      "- Fold2.Rep2: lambda=1e-01, alpha=1e-01, nrounds=150, eta=0.3 \n",
      "+ Fold2.Rep2: lambda=1e-04, alpha=1e-01, nrounds=150, eta=0.3 \n",
      "- Fold2.Rep2: lambda=1e-04, alpha=1e-01, nrounds=150, eta=0.3 \n",
      "+ Fold2.Rep2: lambda=0e+00, alpha=1e-04, nrounds=150, eta=0.3 \n",
      "- Fold2.Rep2: lambda=0e+00, alpha=1e-04, nrounds=150, eta=0.3 \n",
      "+ Fold2.Rep2: lambda=1e-01, alpha=1e-04, nrounds=150, eta=0.3 \n",
      "- Fold2.Rep2: lambda=1e-01, alpha=1e-04, nrounds=150, eta=0.3 \n",
      "+ Fold2.Rep2: lambda=1e-04, alpha=1e-04, nrounds=150, eta=0.3 \n",
      "- Fold2.Rep2: lambda=1e-04, alpha=1e-04, nrounds=150, eta=0.3 \n",
      "+ Fold3.Rep2: lambda=0e+00, alpha=0e+00, nrounds= 50, eta=0.3 \n",
      "- Fold3.Rep2: lambda=0e+00, alpha=0e+00, nrounds= 50, eta=0.3 \n",
      "+ Fold3.Rep2: lambda=1e-01, alpha=0e+00, nrounds= 50, eta=0.3 \n",
      "- Fold3.Rep2: lambda=1e-01, alpha=0e+00, nrounds= 50, eta=0.3 \n",
      "+ Fold3.Rep2: lambda=1e-04, alpha=0e+00, nrounds= 50, eta=0.3 \n",
      "- Fold3.Rep2: lambda=1e-04, alpha=0e+00, nrounds= 50, eta=0.3 \n",
      "+ Fold3.Rep2: lambda=0e+00, alpha=1e-01, nrounds= 50, eta=0.3 \n",
      "- Fold3.Rep2: lambda=0e+00, alpha=1e-01, nrounds= 50, eta=0.3 \n",
      "+ Fold3.Rep2: lambda=1e-01, alpha=1e-01, nrounds= 50, eta=0.3 \n",
      "- Fold3.Rep2: lambda=1e-01, alpha=1e-01, nrounds= 50, eta=0.3 \n",
      "+ Fold3.Rep2: lambda=1e-04, alpha=1e-01, nrounds= 50, eta=0.3 \n",
      "- Fold3.Rep2: lambda=1e-04, alpha=1e-01, nrounds= 50, eta=0.3 \n",
      "+ Fold3.Rep2: lambda=0e+00, alpha=1e-04, nrounds= 50, eta=0.3 \n",
      "- Fold3.Rep2: lambda=0e+00, alpha=1e-04, nrounds= 50, eta=0.3 \n",
      "+ Fold3.Rep2: lambda=1e-01, alpha=1e-04, nrounds= 50, eta=0.3 \n",
      "- Fold3.Rep2: lambda=1e-01, alpha=1e-04, nrounds= 50, eta=0.3 \n",
      "+ Fold3.Rep2: lambda=1e-04, alpha=1e-04, nrounds= 50, eta=0.3 \n",
      "- Fold3.Rep2: lambda=1e-04, alpha=1e-04, nrounds= 50, eta=0.3 \n",
      "+ Fold3.Rep2: lambda=0e+00, alpha=0e+00, nrounds=100, eta=0.3 \n",
      "- Fold3.Rep2: lambda=0e+00, alpha=0e+00, nrounds=100, eta=0.3 \n",
      "+ Fold3.Rep2: lambda=1e-01, alpha=0e+00, nrounds=100, eta=0.3 \n",
      "- Fold3.Rep2: lambda=1e-01, alpha=0e+00, nrounds=100, eta=0.3 \n",
      "+ Fold3.Rep2: lambda=1e-04, alpha=0e+00, nrounds=100, eta=0.3 \n",
      "- Fold3.Rep2: lambda=1e-04, alpha=0e+00, nrounds=100, eta=0.3 \n",
      "+ Fold3.Rep2: lambda=0e+00, alpha=1e-01, nrounds=100, eta=0.3 \n",
      "- Fold3.Rep2: lambda=0e+00, alpha=1e-01, nrounds=100, eta=0.3 \n",
      "+ Fold3.Rep2: lambda=1e-01, alpha=1e-01, nrounds=100, eta=0.3 \n",
      "- Fold3.Rep2: lambda=1e-01, alpha=1e-01, nrounds=100, eta=0.3 \n",
      "+ Fold3.Rep2: lambda=1e-04, alpha=1e-01, nrounds=100, eta=0.3 \n",
      "- Fold3.Rep2: lambda=1e-04, alpha=1e-01, nrounds=100, eta=0.3 \n",
      "+ Fold3.Rep2: lambda=0e+00, alpha=1e-04, nrounds=100, eta=0.3 \n",
      "- Fold3.Rep2: lambda=0e+00, alpha=1e-04, nrounds=100, eta=0.3 \n",
      "+ Fold3.Rep2: lambda=1e-01, alpha=1e-04, nrounds=100, eta=0.3 \n",
      "- Fold3.Rep2: lambda=1e-01, alpha=1e-04, nrounds=100, eta=0.3 \n",
      "+ Fold3.Rep2: lambda=1e-04, alpha=1e-04, nrounds=100, eta=0.3 \n",
      "- Fold3.Rep2: lambda=1e-04, alpha=1e-04, nrounds=100, eta=0.3 \n",
      "+ Fold3.Rep2: lambda=0e+00, alpha=0e+00, nrounds=150, eta=0.3 \n",
      "- Fold3.Rep2: lambda=0e+00, alpha=0e+00, nrounds=150, eta=0.3 \n",
      "+ Fold3.Rep2: lambda=1e-01, alpha=0e+00, nrounds=150, eta=0.3 \n",
      "- Fold3.Rep2: lambda=1e-01, alpha=0e+00, nrounds=150, eta=0.3 \n",
      "+ Fold3.Rep2: lambda=1e-04, alpha=0e+00, nrounds=150, eta=0.3 \n",
      "- Fold3.Rep2: lambda=1e-04, alpha=0e+00, nrounds=150, eta=0.3 \n",
      "+ Fold3.Rep2: lambda=0e+00, alpha=1e-01, nrounds=150, eta=0.3 \n",
      "- Fold3.Rep2: lambda=0e+00, alpha=1e-01, nrounds=150, eta=0.3 \n",
      "+ Fold3.Rep2: lambda=1e-01, alpha=1e-01, nrounds=150, eta=0.3 \n",
      "- Fold3.Rep2: lambda=1e-01, alpha=1e-01, nrounds=150, eta=0.3 \n",
      "+ Fold3.Rep2: lambda=1e-04, alpha=1e-01, nrounds=150, eta=0.3 \n",
      "- Fold3.Rep2: lambda=1e-04, alpha=1e-01, nrounds=150, eta=0.3 \n",
      "+ Fold3.Rep2: lambda=0e+00, alpha=1e-04, nrounds=150, eta=0.3 \n",
      "- Fold3.Rep2: lambda=0e+00, alpha=1e-04, nrounds=150, eta=0.3 \n",
      "+ Fold3.Rep2: lambda=1e-01, alpha=1e-04, nrounds=150, eta=0.3 \n",
      "- Fold3.Rep2: lambda=1e-01, alpha=1e-04, nrounds=150, eta=0.3 \n",
      "+ Fold3.Rep2: lambda=1e-04, alpha=1e-04, nrounds=150, eta=0.3 \n",
      "- Fold3.Rep2: lambda=1e-04, alpha=1e-04, nrounds=150, eta=0.3 \n",
      "+ Fold1.Rep3: lambda=0e+00, alpha=0e+00, nrounds= 50, eta=0.3 \n",
      "- Fold1.Rep3: lambda=0e+00, alpha=0e+00, nrounds= 50, eta=0.3 \n",
      "+ Fold1.Rep3: lambda=1e-01, alpha=0e+00, nrounds= 50, eta=0.3 \n",
      "- Fold1.Rep3: lambda=1e-01, alpha=0e+00, nrounds= 50, eta=0.3 \n",
      "+ Fold1.Rep3: lambda=1e-04, alpha=0e+00, nrounds= 50, eta=0.3 \n",
      "- Fold1.Rep3: lambda=1e-04, alpha=0e+00, nrounds= 50, eta=0.3 \n",
      "+ Fold1.Rep3: lambda=0e+00, alpha=1e-01, nrounds= 50, eta=0.3 \n",
      "- Fold1.Rep3: lambda=0e+00, alpha=1e-01, nrounds= 50, eta=0.3 \n",
      "+ Fold1.Rep3: lambda=1e-01, alpha=1e-01, nrounds= 50, eta=0.3 \n",
      "- Fold1.Rep3: lambda=1e-01, alpha=1e-01, nrounds= 50, eta=0.3 \n",
      "+ Fold1.Rep3: lambda=1e-04, alpha=1e-01, nrounds= 50, eta=0.3 \n",
      "- Fold1.Rep3: lambda=1e-04, alpha=1e-01, nrounds= 50, eta=0.3 \n",
      "+ Fold1.Rep3: lambda=0e+00, alpha=1e-04, nrounds= 50, eta=0.3 \n",
      "- Fold1.Rep3: lambda=0e+00, alpha=1e-04, nrounds= 50, eta=0.3 \n",
      "+ Fold1.Rep3: lambda=1e-01, alpha=1e-04, nrounds= 50, eta=0.3 \n",
      "- Fold1.Rep3: lambda=1e-01, alpha=1e-04, nrounds= 50, eta=0.3 \n",
      "+ Fold1.Rep3: lambda=1e-04, alpha=1e-04, nrounds= 50, eta=0.3 \n",
      "- Fold1.Rep3: lambda=1e-04, alpha=1e-04, nrounds= 50, eta=0.3 \n",
      "+ Fold1.Rep3: lambda=0e+00, alpha=0e+00, nrounds=100, eta=0.3 \n",
      "- Fold1.Rep3: lambda=0e+00, alpha=0e+00, nrounds=100, eta=0.3 \n",
      "+ Fold1.Rep3: lambda=1e-01, alpha=0e+00, nrounds=100, eta=0.3 \n",
      "- Fold1.Rep3: lambda=1e-01, alpha=0e+00, nrounds=100, eta=0.3 \n",
      "+ Fold1.Rep3: lambda=1e-04, alpha=0e+00, nrounds=100, eta=0.3 \n",
      "- Fold1.Rep3: lambda=1e-04, alpha=0e+00, nrounds=100, eta=0.3 \n",
      "+ Fold1.Rep3: lambda=0e+00, alpha=1e-01, nrounds=100, eta=0.3 \n",
      "- Fold1.Rep3: lambda=0e+00, alpha=1e-01, nrounds=100, eta=0.3 \n",
      "+ Fold1.Rep3: lambda=1e-01, alpha=1e-01, nrounds=100, eta=0.3 \n",
      "- Fold1.Rep3: lambda=1e-01, alpha=1e-01, nrounds=100, eta=0.3 \n",
      "+ Fold1.Rep3: lambda=1e-04, alpha=1e-01, nrounds=100, eta=0.3 \n",
      "- Fold1.Rep3: lambda=1e-04, alpha=1e-01, nrounds=100, eta=0.3 \n",
      "+ Fold1.Rep3: lambda=0e+00, alpha=1e-04, nrounds=100, eta=0.3 \n",
      "- Fold1.Rep3: lambda=0e+00, alpha=1e-04, nrounds=100, eta=0.3 \n",
      "+ Fold1.Rep3: lambda=1e-01, alpha=1e-04, nrounds=100, eta=0.3 \n",
      "- Fold1.Rep3: lambda=1e-01, alpha=1e-04, nrounds=100, eta=0.3 \n",
      "+ Fold1.Rep3: lambda=1e-04, alpha=1e-04, nrounds=100, eta=0.3 \n",
      "- Fold1.Rep3: lambda=1e-04, alpha=1e-04, nrounds=100, eta=0.3 \n",
      "+ Fold1.Rep3: lambda=0e+00, alpha=0e+00, nrounds=150, eta=0.3 \n",
      "- Fold1.Rep3: lambda=0e+00, alpha=0e+00, nrounds=150, eta=0.3 \n",
      "+ Fold1.Rep3: lambda=1e-01, alpha=0e+00, nrounds=150, eta=0.3 \n",
      "- Fold1.Rep3: lambda=1e-01, alpha=0e+00, nrounds=150, eta=0.3 \n",
      "+ Fold1.Rep3: lambda=1e-04, alpha=0e+00, nrounds=150, eta=0.3 \n",
      "- Fold1.Rep3: lambda=1e-04, alpha=0e+00, nrounds=150, eta=0.3 \n",
      "+ Fold1.Rep3: lambda=0e+00, alpha=1e-01, nrounds=150, eta=0.3 \n",
      "- Fold1.Rep3: lambda=0e+00, alpha=1e-01, nrounds=150, eta=0.3 \n",
      "+ Fold1.Rep3: lambda=1e-01, alpha=1e-01, nrounds=150, eta=0.3 \n",
      "- Fold1.Rep3: lambda=1e-01, alpha=1e-01, nrounds=150, eta=0.3 \n",
      "+ Fold1.Rep3: lambda=1e-04, alpha=1e-01, nrounds=150, eta=0.3 \n",
      "- Fold1.Rep3: lambda=1e-04, alpha=1e-01, nrounds=150, eta=0.3 \n",
      "+ Fold1.Rep3: lambda=0e+00, alpha=1e-04, nrounds=150, eta=0.3 \n",
      "- Fold1.Rep3: lambda=0e+00, alpha=1e-04, nrounds=150, eta=0.3 \n",
      "+ Fold1.Rep3: lambda=1e-01, alpha=1e-04, nrounds=150, eta=0.3 \n",
      "- Fold1.Rep3: lambda=1e-01, alpha=1e-04, nrounds=150, eta=0.3 \n",
      "+ Fold1.Rep3: lambda=1e-04, alpha=1e-04, nrounds=150, eta=0.3 \n",
      "- Fold1.Rep3: lambda=1e-04, alpha=1e-04, nrounds=150, eta=0.3 \n",
      "+ Fold2.Rep3: lambda=0e+00, alpha=0e+00, nrounds= 50, eta=0.3 \n",
      "- Fold2.Rep3: lambda=0e+00, alpha=0e+00, nrounds= 50, eta=0.3 \n",
      "+ Fold2.Rep3: lambda=1e-01, alpha=0e+00, nrounds= 50, eta=0.3 \n",
      "- Fold2.Rep3: lambda=1e-01, alpha=0e+00, nrounds= 50, eta=0.3 \n",
      "+ Fold2.Rep3: lambda=1e-04, alpha=0e+00, nrounds= 50, eta=0.3 \n",
      "- Fold2.Rep3: lambda=1e-04, alpha=0e+00, nrounds= 50, eta=0.3 \n",
      "+ Fold2.Rep3: lambda=0e+00, alpha=1e-01, nrounds= 50, eta=0.3 \n",
      "- Fold2.Rep3: lambda=0e+00, alpha=1e-01, nrounds= 50, eta=0.3 \n",
      "+ Fold2.Rep3: lambda=1e-01, alpha=1e-01, nrounds= 50, eta=0.3 \n",
      "- Fold2.Rep3: lambda=1e-01, alpha=1e-01, nrounds= 50, eta=0.3 \n",
      "+ Fold2.Rep3: lambda=1e-04, alpha=1e-01, nrounds= 50, eta=0.3 \n",
      "- Fold2.Rep3: lambda=1e-04, alpha=1e-01, nrounds= 50, eta=0.3 \n",
      "+ Fold2.Rep3: lambda=0e+00, alpha=1e-04, nrounds= 50, eta=0.3 \n",
      "- Fold2.Rep3: lambda=0e+00, alpha=1e-04, nrounds= 50, eta=0.3 \n",
      "+ Fold2.Rep3: lambda=1e-01, alpha=1e-04, nrounds= 50, eta=0.3 \n",
      "- Fold2.Rep3: lambda=1e-01, alpha=1e-04, nrounds= 50, eta=0.3 \n",
      "+ Fold2.Rep3: lambda=1e-04, alpha=1e-04, nrounds= 50, eta=0.3 \n",
      "- Fold2.Rep3: lambda=1e-04, alpha=1e-04, nrounds= 50, eta=0.3 \n",
      "+ Fold2.Rep3: lambda=0e+00, alpha=0e+00, nrounds=100, eta=0.3 \n",
      "- Fold2.Rep3: lambda=0e+00, alpha=0e+00, nrounds=100, eta=0.3 \n",
      "+ Fold2.Rep3: lambda=1e-01, alpha=0e+00, nrounds=100, eta=0.3 \n",
      "- Fold2.Rep3: lambda=1e-01, alpha=0e+00, nrounds=100, eta=0.3 \n",
      "+ Fold2.Rep3: lambda=1e-04, alpha=0e+00, nrounds=100, eta=0.3 \n",
      "- Fold2.Rep3: lambda=1e-04, alpha=0e+00, nrounds=100, eta=0.3 \n",
      "+ Fold2.Rep3: lambda=0e+00, alpha=1e-01, nrounds=100, eta=0.3 \n",
      "- Fold2.Rep3: lambda=0e+00, alpha=1e-01, nrounds=100, eta=0.3 \n",
      "+ Fold2.Rep3: lambda=1e-01, alpha=1e-01, nrounds=100, eta=0.3 \n",
      "- Fold2.Rep3: lambda=1e-01, alpha=1e-01, nrounds=100, eta=0.3 \n",
      "+ Fold2.Rep3: lambda=1e-04, alpha=1e-01, nrounds=100, eta=0.3 \n",
      "- Fold2.Rep3: lambda=1e-04, alpha=1e-01, nrounds=100, eta=0.3 \n",
      "+ Fold2.Rep3: lambda=0e+00, alpha=1e-04, nrounds=100, eta=0.3 \n",
      "- Fold2.Rep3: lambda=0e+00, alpha=1e-04, nrounds=100, eta=0.3 \n",
      "+ Fold2.Rep3: lambda=1e-01, alpha=1e-04, nrounds=100, eta=0.3 \n",
      "- Fold2.Rep3: lambda=1e-01, alpha=1e-04, nrounds=100, eta=0.3 \n",
      "+ Fold2.Rep3: lambda=1e-04, alpha=1e-04, nrounds=100, eta=0.3 \n",
      "- Fold2.Rep3: lambda=1e-04, alpha=1e-04, nrounds=100, eta=0.3 \n",
      "+ Fold2.Rep3: lambda=0e+00, alpha=0e+00, nrounds=150, eta=0.3 \n",
      "- Fold2.Rep3: lambda=0e+00, alpha=0e+00, nrounds=150, eta=0.3 \n",
      "+ Fold2.Rep3: lambda=1e-01, alpha=0e+00, nrounds=150, eta=0.3 \n",
      "- Fold2.Rep3: lambda=1e-01, alpha=0e+00, nrounds=150, eta=0.3 \n",
      "+ Fold2.Rep3: lambda=1e-04, alpha=0e+00, nrounds=150, eta=0.3 \n",
      "- Fold2.Rep3: lambda=1e-04, alpha=0e+00, nrounds=150, eta=0.3 \n",
      "+ Fold2.Rep3: lambda=0e+00, alpha=1e-01, nrounds=150, eta=0.3 \n",
      "- Fold2.Rep3: lambda=0e+00, alpha=1e-01, nrounds=150, eta=0.3 \n",
      "+ Fold2.Rep3: lambda=1e-01, alpha=1e-01, nrounds=150, eta=0.3 \n",
      "- Fold2.Rep3: lambda=1e-01, alpha=1e-01, nrounds=150, eta=0.3 \n",
      "+ Fold2.Rep3: lambda=1e-04, alpha=1e-01, nrounds=150, eta=0.3 \n",
      "- Fold2.Rep3: lambda=1e-04, alpha=1e-01, nrounds=150, eta=0.3 \n",
      "+ Fold2.Rep3: lambda=0e+00, alpha=1e-04, nrounds=150, eta=0.3 \n",
      "- Fold2.Rep3: lambda=0e+00, alpha=1e-04, nrounds=150, eta=0.3 \n",
      "+ Fold2.Rep3: lambda=1e-01, alpha=1e-04, nrounds=150, eta=0.3 \n",
      "- Fold2.Rep3: lambda=1e-01, alpha=1e-04, nrounds=150, eta=0.3 \n",
      "+ Fold2.Rep3: lambda=1e-04, alpha=1e-04, nrounds=150, eta=0.3 \n",
      "- Fold2.Rep3: lambda=1e-04, alpha=1e-04, nrounds=150, eta=0.3 \n",
      "+ Fold3.Rep3: lambda=0e+00, alpha=0e+00, nrounds= 50, eta=0.3 \n",
      "- Fold3.Rep3: lambda=0e+00, alpha=0e+00, nrounds= 50, eta=0.3 \n",
      "+ Fold3.Rep3: lambda=1e-01, alpha=0e+00, nrounds= 50, eta=0.3 \n",
      "- Fold3.Rep3: lambda=1e-01, alpha=0e+00, nrounds= 50, eta=0.3 \n",
      "+ Fold3.Rep3: lambda=1e-04, alpha=0e+00, nrounds= 50, eta=0.3 \n",
      "- Fold3.Rep3: lambda=1e-04, alpha=0e+00, nrounds= 50, eta=0.3 \n",
      "+ Fold3.Rep3: lambda=0e+00, alpha=1e-01, nrounds= 50, eta=0.3 \n",
      "- Fold3.Rep3: lambda=0e+00, alpha=1e-01, nrounds= 50, eta=0.3 \n",
      "+ Fold3.Rep3: lambda=1e-01, alpha=1e-01, nrounds= 50, eta=0.3 \n",
      "- Fold3.Rep3: lambda=1e-01, alpha=1e-01, nrounds= 50, eta=0.3 \n",
      "+ Fold3.Rep3: lambda=1e-04, alpha=1e-01, nrounds= 50, eta=0.3 \n",
      "- Fold3.Rep3: lambda=1e-04, alpha=1e-01, nrounds= 50, eta=0.3 \n",
      "+ Fold3.Rep3: lambda=0e+00, alpha=1e-04, nrounds= 50, eta=0.3 \n",
      "- Fold3.Rep3: lambda=0e+00, alpha=1e-04, nrounds= 50, eta=0.3 \n",
      "+ Fold3.Rep3: lambda=1e-01, alpha=1e-04, nrounds= 50, eta=0.3 \n",
      "- Fold3.Rep3: lambda=1e-01, alpha=1e-04, nrounds= 50, eta=0.3 \n",
      "+ Fold3.Rep3: lambda=1e-04, alpha=1e-04, nrounds= 50, eta=0.3 \n",
      "- Fold3.Rep3: lambda=1e-04, alpha=1e-04, nrounds= 50, eta=0.3 \n",
      "+ Fold3.Rep3: lambda=0e+00, alpha=0e+00, nrounds=100, eta=0.3 \n",
      "- Fold3.Rep3: lambda=0e+00, alpha=0e+00, nrounds=100, eta=0.3 \n",
      "+ Fold3.Rep3: lambda=1e-01, alpha=0e+00, nrounds=100, eta=0.3 \n",
      "- Fold3.Rep3: lambda=1e-01, alpha=0e+00, nrounds=100, eta=0.3 \n",
      "+ Fold3.Rep3: lambda=1e-04, alpha=0e+00, nrounds=100, eta=0.3 \n",
      "- Fold3.Rep3: lambda=1e-04, alpha=0e+00, nrounds=100, eta=0.3 \n",
      "+ Fold3.Rep3: lambda=0e+00, alpha=1e-01, nrounds=100, eta=0.3 \n",
      "- Fold3.Rep3: lambda=0e+00, alpha=1e-01, nrounds=100, eta=0.3 \n",
      "+ Fold3.Rep3: lambda=1e-01, alpha=1e-01, nrounds=100, eta=0.3 \n",
      "- Fold3.Rep3: lambda=1e-01, alpha=1e-01, nrounds=100, eta=0.3 \n",
      "+ Fold3.Rep3: lambda=1e-04, alpha=1e-01, nrounds=100, eta=0.3 \n",
      "- Fold3.Rep3: lambda=1e-04, alpha=1e-01, nrounds=100, eta=0.3 \n",
      "+ Fold3.Rep3: lambda=0e+00, alpha=1e-04, nrounds=100, eta=0.3 \n",
      "- Fold3.Rep3: lambda=0e+00, alpha=1e-04, nrounds=100, eta=0.3 \n",
      "+ Fold3.Rep3: lambda=1e-01, alpha=1e-04, nrounds=100, eta=0.3 \n",
      "- Fold3.Rep3: lambda=1e-01, alpha=1e-04, nrounds=100, eta=0.3 \n",
      "+ Fold3.Rep3: lambda=1e-04, alpha=1e-04, nrounds=100, eta=0.3 \n",
      "- Fold3.Rep3: lambda=1e-04, alpha=1e-04, nrounds=100, eta=0.3 \n",
      "+ Fold3.Rep3: lambda=0e+00, alpha=0e+00, nrounds=150, eta=0.3 \n",
      "- Fold3.Rep3: lambda=0e+00, alpha=0e+00, nrounds=150, eta=0.3 \n",
      "+ Fold3.Rep3: lambda=1e-01, alpha=0e+00, nrounds=150, eta=0.3 \n",
      "- Fold3.Rep3: lambda=1e-01, alpha=0e+00, nrounds=150, eta=0.3 \n",
      "+ Fold3.Rep3: lambda=1e-04, alpha=0e+00, nrounds=150, eta=0.3 \n",
      "- Fold3.Rep3: lambda=1e-04, alpha=0e+00, nrounds=150, eta=0.3 \n",
      "+ Fold3.Rep3: lambda=0e+00, alpha=1e-01, nrounds=150, eta=0.3 \n",
      "- Fold3.Rep3: lambda=0e+00, alpha=1e-01, nrounds=150, eta=0.3 \n",
      "+ Fold3.Rep3: lambda=1e-01, alpha=1e-01, nrounds=150, eta=0.3 \n",
      "- Fold3.Rep3: lambda=1e-01, alpha=1e-01, nrounds=150, eta=0.3 \n",
      "+ Fold3.Rep3: lambda=1e-04, alpha=1e-01, nrounds=150, eta=0.3 \n",
      "- Fold3.Rep3: lambda=1e-04, alpha=1e-01, nrounds=150, eta=0.3 \n",
      "+ Fold3.Rep3: lambda=0e+00, alpha=1e-04, nrounds=150, eta=0.3 \n",
      "- Fold3.Rep3: lambda=0e+00, alpha=1e-04, nrounds=150, eta=0.3 \n",
      "+ Fold3.Rep3: lambda=1e-01, alpha=1e-04, nrounds=150, eta=0.3 \n",
      "- Fold3.Rep3: lambda=1e-01, alpha=1e-04, nrounds=150, eta=0.3 \n",
      "+ Fold3.Rep3: lambda=1e-04, alpha=1e-04, nrounds=150, eta=0.3 \n",
      "- Fold3.Rep3: lambda=1e-04, alpha=1e-04, nrounds=150, eta=0.3 \n",
      "Aggregating results\n"
     ]
    },
    {
     "name": "stdout",
     "output_type": "stream",
     "text": [
      "Selecting tuning parameters\n",
      "Fitting nrounds = 50, lambda = 0.1, alpha = 0, eta = 0.3 on full training set\n",
      "eXtreme Gradient Boosting \n",
      "\n",
      "768 samples\n",
      "  8 predictor\n",
      "  2 classes: 'neg', 'pos' \n",
      "\n",
      "Pre-processing: centered (8), scaled (8) \n",
      "Resampling: Cross-Validated (3 fold, repeated 3 times) \n",
      "Summary of sample sizes: 511, 512, 513, 512, 512, 512, ... \n",
      "Resampling results across tuning parameters:\n",
      "\n",
      "  lambda  alpha  nrounds  Accuracy   Kappa    \n",
      "  0e+00   0e+00   50      0.7443576  0.4278013\n",
      "  0e+00   0e+00  100      0.7356770  0.4103497\n",
      "  0e+00   0e+00  150      0.7339408  0.4058776\n",
      "  0e+00   1e-04   50      0.7447916  0.4282413\n",
      "  0e+00   1e-04  100      0.7361144  0.4114656\n",
      "  0e+00   1e-04  150      0.7369740  0.4141634\n",
      "  0e+00   1e-01   50      0.7538995  0.4490319\n",
      "  0e+00   1e-01  100      0.7526127  0.4462675\n",
      "  0e+00   1e-01  150      0.7530416  0.4468926\n",
      "  1e-04   0e+00   50      0.7447916  0.4282413\n",
      "  1e-04   0e+00  100      0.7369791  0.4140870\n",
      "  1e-04   0e+00  150      0.7361076  0.4121957\n",
      "  1e-04   1e-04   50      0.7447899  0.4274905\n",
      "  1e-04   1e-04  100      0.7352344  0.4101988\n",
      "  1e-04   1e-04  150      0.7343681  0.4071718\n",
      "  1e-04   1e-01   50      0.7517243  0.4445163\n",
      "  1e-04   1e-01  100      0.7530433  0.4472623\n",
      "  1e-04   1e-01  150      0.7534756  0.4484137\n",
      "  1e-01   0e+00   50      0.7543505  0.4500831\n",
      "  1e-01   0e+00  100      0.7465311  0.4331731\n",
      "  1e-01   0e+00  150      0.7482724  0.4384614\n",
      "  1e-01   1e-04   50      0.7543505  0.4497264\n",
      "  1e-01   1e-04  100      0.7491387  0.4387462\n",
      "  1e-01   1e-04  150      0.7521786  0.4457280\n",
      "  1e-01   1e-01   50      0.7495422  0.4400211\n",
      "  1e-01   1e-01  100      0.7430352  0.4232518\n",
      "  1e-01   1e-01  150      0.7413008  0.4192936\n",
      "\n",
      "Tuning parameter 'eta' was held constant at a value of 0.3\n",
      "Accuracy was used to select the optimal model using the largest value.\n",
      "The final values used for the model were nrounds = 50, lambda = 0.1, alpha =\n",
      " 0 and eta = 0.3.\n"
     ]
    }
   ],
   "source": [
    "# Training process \n",
    "# Fit / train a Linear Regression model to  dataset\n",
    "fit.xgBoostC <- caret::train(diabetes~., data=dataset, method=\"xgbLinear\", metric=\"Accuracy\", \n",
    "                             preProc=c(\"center\", \"scale\"), trControl=control, tuneLength = tuneLength)\n",
    "print(fit.xgBoostC)"
   ]
  },
  {
   "cell_type": "code",
   "execution_count": 41,
   "metadata": {},
   "outputs": [
    {
     "data": {
      "image/png": "[encoded data removed]",
      "text/plain": [
       "plot without title"
      ]
     },
     "metadata": {
      "image/png": {
       "height": 420,
       "width": 420
      },
      "text/plain": {
       "height": 420,
       "width": 420
      }
     },
     "output_type": "display_data"
    }
   ],
   "source": [
    "plot(fit.xgBoostC)\n"
   ]
  },
  {
   "cell_type": "markdown",
   "metadata": {},
   "source": [
    "# Part II"
   ]
  },
  {
   "cell_type": "code",
   "execution_count": 43,
   "metadata": {},
   "outputs": [
    {
     "name": "stderr",
     "output_type": "stream",
     "text": [
      "Warning message:\n",
      "“unable to access index for repository https://cran.r-project.org/src/contrib:\n",
      "  cannot open URL 'https://cran.r-project.org/src/contrib/PACKAGES'”\n",
      "Warning message:\n",
      "“package ‘doMC’ is not available (for R version 3.4.3)”\n",
      "Warning message:\n",
      "“unable to access index for repository https://cran.r-project.org/bin/macosx/el-capitan/contrib/3.4:\n",
      "  cannot open URL 'https://cran.r-project.org/bin/macosx/el-capitan/contrib/3.4/PACKAGES'”\n"
     ]
    }
   ],
   "source": [
    "#install.packages(\"doMC\")"
   ]
  },
  {
   "cell_type": "code",
   "execution_count": 44,
   "metadata": {},
   "outputs": [
    {
     "data": {
      "text/html": [
       "<ol class=list-inline>\n",
       "\t<li>560</li>\n",
       "\t<li>11</li>\n",
       "</ol>\n"
      ],
      "text/latex": [
       "\\begin{enumerate*}\n",
       "\\item 560\n",
       "\\item 11\n",
       "\\end{enumerate*}\n"
      ],
      "text/markdown": [
       "1. 560\n",
       "2. 11\n",
       "\n",
       "\n"
      ],
      "text/plain": [
       "[1] 560  11"
      ]
     },
     "metadata": {},
     "output_type": "display_data"
    },
    {
     "data": {
      "text/html": [
       "<table>\n",
       "<caption>A data.frame: 20 × 11</caption>\n",
       "<thead>\n",
       "\t<tr><th></th><th scope=col>Id</th><th scope=col>Cl.thickness</th><th scope=col>Cell.size</th><th scope=col>Cell.shape</th><th scope=col>Marg.adhesion</th><th scope=col>Epith.c.size</th><th scope=col>Bare.nuclei</th><th scope=col>Bl.cromatin</th><th scope=col>Normal.nucleoli</th><th scope=col>Mitoses</th><th scope=col>Class</th></tr>\n",
       "\t<tr><th></th><th scope=col>&lt;chr&gt;</th><th scope=col>&lt;ord&gt;</th><th scope=col>&lt;ord&gt;</th><th scope=col>&lt;ord&gt;</th><th scope=col>&lt;ord&gt;</th><th scope=col>&lt;ord&gt;</th><th scope=col>&lt;fct&gt;</th><th scope=col>&lt;fct&gt;</th><th scope=col>&lt;fct&gt;</th><th scope=col>&lt;fct&gt;</th><th scope=col>&lt;fct&gt;</th></tr>\n",
       "</thead>\n",
       "<tbody>\n",
       "\t<tr><th scope=row>2</th><td>1002945</td><td>5 </td><td>4 </td><td>4 </td><td>5 </td><td>7</td><td>10</td><td>3</td><td>2 </td><td>1</td><td>benign   </td></tr>\n",
       "\t<tr><th scope=row>4</th><td>1016277</td><td>6 </td><td>8 </td><td>8 </td><td>1 </td><td>3</td><td>4 </td><td>3</td><td>7 </td><td>1</td><td>benign   </td></tr>\n",
       "\t<tr><th scope=row>5</th><td>1017023</td><td>4 </td><td>1 </td><td>1 </td><td>3 </td><td>2</td><td>1 </td><td>3</td><td>1 </td><td>1</td><td>benign   </td></tr>\n",
       "\t<tr><th scope=row>6</th><td>1017122</td><td>8 </td><td>10</td><td>10</td><td>8 </td><td>7</td><td>10</td><td>9</td><td>7 </td><td>1</td><td>malignant</td></tr>\n",
       "\t<tr><th scope=row>7</th><td>1018099</td><td>1 </td><td>1 </td><td>1 </td><td>1 </td><td>2</td><td>10</td><td>3</td><td>1 </td><td>1</td><td>benign   </td></tr>\n",
       "\t<tr><th scope=row>9</th><td>1033078</td><td>2 </td><td>1 </td><td>1 </td><td>1 </td><td>2</td><td>1 </td><td>1</td><td>1 </td><td>5</td><td>benign   </td></tr>\n",
       "\t<tr><th scope=row>10</th><td>1033078</td><td>4 </td><td>2 </td><td>1 </td><td>1 </td><td>2</td><td>1 </td><td>2</td><td>1 </td><td>1</td><td>benign   </td></tr>\n",
       "\t<tr><th scope=row>11</th><td>1035283</td><td>1 </td><td>1 </td><td>1 </td><td>1 </td><td>1</td><td>1 </td><td>3</td><td>1 </td><td>1</td><td>benign   </td></tr>\n",
       "\t<tr><th scope=row>12</th><td>1036172</td><td>2 </td><td>1 </td><td>1 </td><td>1 </td><td>2</td><td>1 </td><td>2</td><td>1 </td><td>1</td><td>benign   </td></tr>\n",
       "\t<tr><th scope=row>14</th><td>1043999</td><td>1 </td><td>1 </td><td>1 </td><td>1 </td><td>2</td><td>3 </td><td>3</td><td>1 </td><td>1</td><td>benign   </td></tr>\n",
       "\t<tr><th scope=row>15</th><td>1044572</td><td>8 </td><td>7 </td><td>5 </td><td>10</td><td>7</td><td>9 </td><td>5</td><td>5 </td><td>4</td><td>malignant</td></tr>\n",
       "\t<tr><th scope=row>16</th><td>1047630</td><td>7 </td><td>4 </td><td>6 </td><td>4 </td><td>6</td><td>1 </td><td>4</td><td>3 </td><td>1</td><td>malignant</td></tr>\n",
       "\t<tr><th scope=row>17</th><td>1048672</td><td>4 </td><td>1 </td><td>1 </td><td>1 </td><td>2</td><td>1 </td><td>2</td><td>1 </td><td>1</td><td>benign   </td></tr>\n",
       "\t<tr><th scope=row>18</th><td>1049815</td><td>4 </td><td>1 </td><td>1 </td><td>1 </td><td>2</td><td>1 </td><td>3</td><td>1 </td><td>1</td><td>benign   </td></tr>\n",
       "\t<tr><th scope=row>19</th><td>1050670</td><td>10</td><td>7 </td><td>7 </td><td>6 </td><td>4</td><td>10</td><td>4</td><td>1 </td><td>2</td><td>malignant</td></tr>\n",
       "\t<tr><th scope=row>20</th><td>1050718</td><td>6 </td><td>1 </td><td>1 </td><td>1 </td><td>2</td><td>1 </td><td>3</td><td>1 </td><td>1</td><td>benign   </td></tr>\n",
       "\t<tr><th scope=row>21</th><td>1054590</td><td>7 </td><td>3 </td><td>2 </td><td>10</td><td>5</td><td>10</td><td>5</td><td>4 </td><td>4</td><td>malignant</td></tr>\n",
       "\t<tr><th scope=row>22</th><td>1054593</td><td>10</td><td>5 </td><td>5 </td><td>3 </td><td>6</td><td>7 </td><td>7</td><td>10</td><td>1</td><td>malignant</td></tr>\n",
       "\t<tr><th scope=row>23</th><td>1056784</td><td>3 </td><td>1 </td><td>1 </td><td>1 </td><td>2</td><td>1 </td><td>2</td><td>1 </td><td>1</td><td>benign   </td></tr>\n",
       "\t<tr><th scope=row>24</th><td>1057013</td><td>8 </td><td>4 </td><td>5 </td><td>1 </td><td>2</td><td>NA</td><td>7</td><td>3 </td><td>1</td><td>malignant</td></tr>\n",
       "</tbody>\n",
       "</table>\n"
      ],
      "text/latex": [
       "A data.frame: 20 × 11\n",
       "\\begin{tabular}{r|lllllllllll}\n",
       "  & Id & Cl.thickness & Cell.size & Cell.shape & Marg.adhesion & Epith.c.size & Bare.nuclei & Bl.cromatin & Normal.nucleoli & Mitoses & Class\\\\\n",
       "  & <chr> & <ord> & <ord> & <ord> & <ord> & <ord> & <fct> & <fct> & <fct> & <fct> & <fct>\\\\\n",
       "\\hline\n",
       "\t2 & 1002945 & 5  & 4  & 4  & 5  & 7 & 10 & 3 & 2  & 1 & benign   \\\\\n",
       "\t4 & 1016277 & 6  & 8  & 8  & 1  & 3 & 4  & 3 & 7  & 1 & benign   \\\\\n",
       "\t5 & 1017023 & 4  & 1  & 1  & 3  & 2 & 1  & 3 & 1  & 1 & benign   \\\\\n",
       "\t6 & 1017122 & 8  & 10 & 10 & 8  & 7 & 10 & 9 & 7  & 1 & malignant\\\\\n",
       "\t7 & 1018099 & 1  & 1  & 1  & 1  & 2 & 10 & 3 & 1  & 1 & benign   \\\\\n",
       "\t9 & 1033078 & 2  & 1  & 1  & 1  & 2 & 1  & 1 & 1  & 5 & benign   \\\\\n",
       "\t10 & 1033078 & 4  & 2  & 1  & 1  & 2 & 1  & 2 & 1  & 1 & benign   \\\\\n",
       "\t11 & 1035283 & 1  & 1  & 1  & 1  & 1 & 1  & 3 & 1  & 1 & benign   \\\\\n",
       "\t12 & 1036172 & 2  & 1  & 1  & 1  & 2 & 1  & 2 & 1  & 1 & benign   \\\\\n",
       "\t14 & 1043999 & 1  & 1  & 1  & 1  & 2 & 3  & 3 & 1  & 1 & benign   \\\\\n",
       "\t15 & 1044572 & 8  & 7  & 5  & 10 & 7 & 9  & 5 & 5  & 4 & malignant\\\\\n",
       "\t16 & 1047630 & 7  & 4  & 6  & 4  & 6 & 1  & 4 & 3  & 1 & malignant\\\\\n",
       "\t17 & 1048672 & 4  & 1  & 1  & 1  & 2 & 1  & 2 & 1  & 1 & benign   \\\\\n",
       "\t18 & 1049815 & 4  & 1  & 1  & 1  & 2 & 1  & 3 & 1  & 1 & benign   \\\\\n",
       "\t19 & 1050670 & 10 & 7  & 7  & 6  & 4 & 10 & 4 & 1  & 2 & malignant\\\\\n",
       "\t20 & 1050718 & 6  & 1  & 1  & 1  & 2 & 1  & 3 & 1  & 1 & benign   \\\\\n",
       "\t21 & 1054590 & 7  & 3  & 2  & 10 & 5 & 10 & 5 & 4  & 4 & malignant\\\\\n",
       "\t22 & 1054593 & 10 & 5  & 5  & 3  & 6 & 7  & 7 & 10 & 1 & malignant\\\\\n",
       "\t23 & 1056784 & 3  & 1  & 1  & 1  & 2 & 1  & 2 & 1  & 1 & benign   \\\\\n",
       "\t24 & 1057013 & 8  & 4  & 5  & 1  & 2 & NA & 7 & 3  & 1 & malignant\\\\\n",
       "\\end{tabular}\n"
      ],
      "text/markdown": [
       "\n",
       "A data.frame: 20 × 11\n",
       "\n",
       "| <!--/--> | Id &lt;chr&gt; | Cl.thickness &lt;ord&gt; | Cell.size &lt;ord&gt; | Cell.shape &lt;ord&gt; | Marg.adhesion &lt;ord&gt; | Epith.c.size &lt;ord&gt; | Bare.nuclei &lt;fct&gt; | Bl.cromatin &lt;fct&gt; | Normal.nucleoli &lt;fct&gt; | Mitoses &lt;fct&gt; | Class &lt;fct&gt; |\n",
       "|---|---|---|---|---|---|---|---|---|---|---|---|\n",
       "| 2 | 1002945 | 5  | 4  | 4  | 5  | 7 | 10 | 3 | 2  | 1 | benign    |\n",
       "| 4 | 1016277 | 6  | 8  | 8  | 1  | 3 | 4  | 3 | 7  | 1 | benign    |\n",
       "| 5 | 1017023 | 4  | 1  | 1  | 3  | 2 | 1  | 3 | 1  | 1 | benign    |\n",
       "| 6 | 1017122 | 8  | 10 | 10 | 8  | 7 | 10 | 9 | 7  | 1 | malignant |\n",
       "| 7 | 1018099 | 1  | 1  | 1  | 1  | 2 | 10 | 3 | 1  | 1 | benign    |\n",
       "| 9 | 1033078 | 2  | 1  | 1  | 1  | 2 | 1  | 1 | 1  | 5 | benign    |\n",
       "| 10 | 1033078 | 4  | 2  | 1  | 1  | 2 | 1  | 2 | 1  | 1 | benign    |\n",
       "| 11 | 1035283 | 1  | 1  | 1  | 1  | 1 | 1  | 3 | 1  | 1 | benign    |\n",
       "| 12 | 1036172 | 2  | 1  | 1  | 1  | 2 | 1  | 2 | 1  | 1 | benign    |\n",
       "| 14 | 1043999 | 1  | 1  | 1  | 1  | 2 | 3  | 3 | 1  | 1 | benign    |\n",
       "| 15 | 1044572 | 8  | 7  | 5  | 10 | 7 | 9  | 5 | 5  | 4 | malignant |\n",
       "| 16 | 1047630 | 7  | 4  | 6  | 4  | 6 | 1  | 4 | 3  | 1 | malignant |\n",
       "| 17 | 1048672 | 4  | 1  | 1  | 1  | 2 | 1  | 2 | 1  | 1 | benign    |\n",
       "| 18 | 1049815 | 4  | 1  | 1  | 1  | 2 | 1  | 3 | 1  | 1 | benign    |\n",
       "| 19 | 1050670 | 10 | 7  | 7  | 6  | 4 | 10 | 4 | 1  | 2 | malignant |\n",
       "| 20 | 1050718 | 6  | 1  | 1  | 1  | 2 | 1  | 3 | 1  | 1 | benign    |\n",
       "| 21 | 1054590 | 7  | 3  | 2  | 10 | 5 | 10 | 5 | 4  | 4 | malignant |\n",
       "| 22 | 1054593 | 10 | 5  | 5  | 3  | 6 | 7  | 7 | 10 | 1 | malignant |\n",
       "| 23 | 1056784 | 3  | 1  | 1  | 1  | 2 | 1  | 2 | 1  | 1 | benign    |\n",
       "| 24 | 1057013 | 8  | 4  | 5  | 1  | 2 | NA | 7 | 3  | 1 | malignant |\n",
       "\n"
      ],
      "text/plain": [
       "   Id      Cl.thickness Cell.size Cell.shape Marg.adhesion Epith.c.size\n",
       "2  1002945 5            4         4          5             7           \n",
       "4  1016277 6            8         8          1             3           \n",
       "5  1017023 4            1         1          3             2           \n",
       "6  1017122 8            10        10         8             7           \n",
       "7  1018099 1            1         1          1             2           \n",
       "9  1033078 2            1         1          1             2           \n",
       "10 1033078 4            2         1          1             2           \n",
       "11 1035283 1            1         1          1             1           \n",
       "12 1036172 2            1         1          1             2           \n",
       "14 1043999 1            1         1          1             2           \n",
       "15 1044572 8            7         5          10            7           \n",
       "16 1047630 7            4         6          4             6           \n",
       "17 1048672 4            1         1          1             2           \n",
       "18 1049815 4            1         1          1             2           \n",
       "19 1050670 10           7         7          6             4           \n",
       "20 1050718 6            1         1          1             2           \n",
       "21 1054590 7            3         2          10            5           \n",
       "22 1054593 10           5         5          3             6           \n",
       "23 1056784 3            1         1          1             2           \n",
       "24 1057013 8            4         5          1             2           \n",
       "   Bare.nuclei Bl.cromatin Normal.nucleoli Mitoses Class    \n",
       "2  10          3           2               1       benign   \n",
       "4  4           3           7               1       benign   \n",
       "5  1           3           1               1       benign   \n",
       "6  10          9           7               1       malignant\n",
       "7  10          3           1               1       benign   \n",
       "9  1           1           1               5       benign   \n",
       "10 1           2           1               1       benign   \n",
       "11 1           3           1               1       benign   \n",
       "12 1           2           1               1       benign   \n",
       "14 3           3           1               1       benign   \n",
       "15 9           5           5               4       malignant\n",
       "16 1           4           3               1       malignant\n",
       "17 1           2           1               1       benign   \n",
       "18 1           3           1               1       benign   \n",
       "19 10          4           1               2       malignant\n",
       "20 1           3           1               1       benign   \n",
       "21 10          5           4               4       malignant\n",
       "22 7           7           10              1       malignant\n",
       "23 1           2           1               1       benign   \n",
       "24 NA          7           3               1       malignant"
      ]
     },
     "metadata": {},
     "output_type": "display_data"
    },
    {
     "data": {
      "text/html": [
       "<dl>\n",
       "\t<dt>$Id</dt>\n",
       "\t\t<dd>'character'</dd>\n",
       "\t<dt>$Cl.thickness</dt>\n",
       "\t\t<dd><ol class=list-inline>\n",
       "\t<li>'ordered'</li>\n",
       "\t<li>'factor'</li>\n",
       "</ol>\n",
       "</dd>\n",
       "\t<dt>$Cell.size</dt>\n",
       "\t\t<dd><ol class=list-inline>\n",
       "\t<li>'ordered'</li>\n",
       "\t<li>'factor'</li>\n",
       "</ol>\n",
       "</dd>\n",
       "\t<dt>$Cell.shape</dt>\n",
       "\t\t<dd><ol class=list-inline>\n",
       "\t<li>'ordered'</li>\n",
       "\t<li>'factor'</li>\n",
       "</ol>\n",
       "</dd>\n",
       "\t<dt>$Marg.adhesion</dt>\n",
       "\t\t<dd><ol class=list-inline>\n",
       "\t<li>'ordered'</li>\n",
       "\t<li>'factor'</li>\n",
       "</ol>\n",
       "</dd>\n",
       "\t<dt>$Epith.c.size</dt>\n",
       "\t\t<dd><ol class=list-inline>\n",
       "\t<li>'ordered'</li>\n",
       "\t<li>'factor'</li>\n",
       "</ol>\n",
       "</dd>\n",
       "\t<dt>$Bare.nuclei</dt>\n",
       "\t\t<dd>'factor'</dd>\n",
       "\t<dt>$Bl.cromatin</dt>\n",
       "\t\t<dd>'factor'</dd>\n",
       "\t<dt>$Normal.nucleoli</dt>\n",
       "\t\t<dd>'factor'</dd>\n",
       "\t<dt>$Mitoses</dt>\n",
       "\t\t<dd>'factor'</dd>\n",
       "\t<dt>$Class</dt>\n",
       "\t\t<dd>'factor'</dd>\n",
       "</dl>\n"
      ],
      "text/latex": [
       "\\begin{description}\n",
       "\\item[\\$Id] 'character'\n",
       "\\item[\\$Cl.thickness] \\begin{enumerate*}\n",
       "\\item 'ordered'\n",
       "\\item 'factor'\n",
       "\\end{enumerate*}\n",
       "\n",
       "\\item[\\$Cell.size] \\begin{enumerate*}\n",
       "\\item 'ordered'\n",
       "\\item 'factor'\n",
       "\\end{enumerate*}\n",
       "\n",
       "\\item[\\$Cell.shape] \\begin{enumerate*}\n",
       "\\item 'ordered'\n",
       "\\item 'factor'\n",
       "\\end{enumerate*}\n",
       "\n",
       "\\item[\\$Marg.adhesion] \\begin{enumerate*}\n",
       "\\item 'ordered'\n",
       "\\item 'factor'\n",
       "\\end{enumerate*}\n",
       "\n",
       "\\item[\\$Epith.c.size] \\begin{enumerate*}\n",
       "\\item 'ordered'\n",
       "\\item 'factor'\n",
       "\\end{enumerate*}\n",
       "\n",
       "\\item[\\$Bare.nuclei] 'factor'\n",
       "\\item[\\$Bl.cromatin] 'factor'\n",
       "\\item[\\$Normal.nucleoli] 'factor'\n",
       "\\item[\\$Mitoses] 'factor'\n",
       "\\item[\\$Class] 'factor'\n",
       "\\end{description}\n"
      ],
      "text/markdown": [
       "$Id\n",
       ":   'character'\n",
       "$Cl.thickness\n",
       ":   1. 'ordered'\n",
       "2. 'factor'\n",
       "\n",
       "\n",
       "\n",
       "$Cell.size\n",
       ":   1. 'ordered'\n",
       "2. 'factor'\n",
       "\n",
       "\n",
       "\n",
       "$Cell.shape\n",
       ":   1. 'ordered'\n",
       "2. 'factor'\n",
       "\n",
       "\n",
       "\n",
       "$Marg.adhesion\n",
       ":   1. 'ordered'\n",
       "2. 'factor'\n",
       "\n",
       "\n",
       "\n",
       "$Epith.c.size\n",
       ":   1. 'ordered'\n",
       "2. 'factor'\n",
       "\n",
       "\n",
       "\n",
       "$Bare.nuclei\n",
       ":   'factor'\n",
       "$Bl.cromatin\n",
       ":   'factor'\n",
       "$Normal.nucleoli\n",
       ":   'factor'\n",
       "$Mitoses\n",
       ":   'factor'\n",
       "$Class\n",
       ":   'factor'\n",
       "\n",
       "\n"
      ],
      "text/plain": [
       "$Id\n",
       "[1] \"character\"\n",
       "\n",
       "$Cl.thickness\n",
       "[1] \"ordered\" \"factor\" \n",
       "\n",
       "$Cell.size\n",
       "[1] \"ordered\" \"factor\" \n",
       "\n",
       "$Cell.shape\n",
       "[1] \"ordered\" \"factor\" \n",
       "\n",
       "$Marg.adhesion\n",
       "[1] \"ordered\" \"factor\" \n",
       "\n",
       "$Epith.c.size\n",
       "[1] \"ordered\" \"factor\" \n",
       "\n",
       "$Bare.nuclei\n",
       "[1] \"factor\"\n",
       "\n",
       "$Bl.cromatin\n",
       "[1] \"factor\"\n",
       "\n",
       "$Normal.nucleoli\n",
       "[1] \"factor\"\n",
       "\n",
       "$Mitoses\n",
       "[1] \"factor\"\n",
       "\n",
       "$Class\n",
       "[1] \"factor\"\n"
      ]
     },
     "metadata": {},
     "output_type": "display_data"
    }
   ],
   "source": [
    "# Breast Cancer\n",
    "\n",
    "# binary classification, categorical attributes\n",
    "\n",
    "# Description: https://archive.ics.uci.edu/ml/datasets/Breast+Cancer+Wisconsin+(Original)\n",
    "# World-Class Results: http://www.is.umk.pl/projects/datasets.html#Wisconsin\n",
    "\n",
    "# load libraries\n",
    "library(mlbench)\n",
    "library(caret)\n",
    "\n",
    "# use multiple cores\n",
    "# library(doMC)\n",
    "# registerDoMC(cores=8)\n",
    "\n",
    "# Load data\n",
    "data(BreastCancer)\n",
    "\n",
    "# Split out validation dataset\n",
    "# create a list of 80% of the rows in the original dataset we can use for training\n",
    "set.seed(7)\n",
    "validation_index <- createDataPartition(BreastCancer$Class, p=0.80, list=FALSE)\n",
    "# select 20% of the data for validation\n",
    "validation <- BreastCancer[-validation_index,]\n",
    "# use the remaining 80% of data to training and testing the models\n",
    "dataset <- BreastCancer[validation_index,]\n",
    "\n",
    "\n",
    "# data analysis\n",
    "\n",
    "# dimensions of dataaset\n",
    "dim(dataset)\n",
    "\n",
    "# peek\n",
    "head(dataset, n=20)\n",
    "\n",
    "# types\n",
    "sapply(dataset, class)\n",
    "\n",
    "# Tune kNN"
   ]
  },
  {
   "cell_type": "code",
   "execution_count": 45,
   "metadata": {},
   "outputs": [
    {
     "data": {
      "text/plain": [
       "  Cl.thickness      Cell.size        Cell.shape     Marg.adhesion   \n",
       " Min.   : 1.000   Min.   : 1.000   Min.   : 1.000   Min.   : 1.000  \n",
       " 1st Qu.: 2.000   1st Qu.: 1.000   1st Qu.: 1.000   1st Qu.: 1.000  \n",
       " Median : 4.000   Median : 1.000   Median : 2.000   Median : 1.000  \n",
       " Mean   : 4.384   Mean   : 3.116   Mean   : 3.198   Mean   : 2.875  \n",
       " 3rd Qu.: 6.000   3rd Qu.: 5.000   3rd Qu.: 5.000   3rd Qu.: 4.000  \n",
       " Max.   :10.000   Max.   :10.000   Max.   :10.000   Max.   :10.000  \n",
       "                                                                    \n",
       "  Epith.c.size     Bare.nuclei      Bl.cromatin     Normal.nucleoli \n",
       " Min.   : 1.000   Min.   : 1.000   Min.   : 1.000   Min.   : 1.000  \n",
       " 1st Qu.: 2.000   1st Qu.: 1.000   1st Qu.: 2.000   1st Qu.: 1.000  \n",
       " Median : 2.000   Median : 1.000   Median : 3.000   Median : 1.000  \n",
       " Mean   : 3.232   Mean   : 3.468   Mean   : 3.405   Mean   : 2.877  \n",
       " 3rd Qu.: 4.000   3rd Qu.: 5.000   3rd Qu.: 4.250   3rd Qu.: 4.000  \n",
       " Max.   :10.000   Max.   :10.000   Max.   :10.000   Max.   :10.000  \n",
       "                  NA's   :13                                        \n",
       "    Mitoses             Class    \n",
       " Min.   : 1.000   benign   :367  \n",
       " 1st Qu.: 1.000   malignant:193  \n",
       " Median : 1.000                  \n",
       " Mean   : 1.611                  \n",
       " 3rd Qu.: 1.000                  \n",
       " Max.   :10.000                  \n",
       "                                 "
      ]
     },
     "metadata": {},
     "output_type": "display_data"
    }
   ],
   "source": [
    "\n",
    "# Remove redundant variable Id\n",
    "dataset <- dataset[,-1]\n",
    "# convert input values to numeric\n",
    "for(i in 1:9) {\n",
    "    dataset[,i] <- as.numeric(as.character(dataset[,i]))\n",
    "}\n",
    "\n",
    "# summary\n",
    "summary(dataset)"
   ]
  },
  {
   "cell_type": "code",
   "execution_count": 46,
   "metadata": {},
   "outputs": [
    {
     "data": {
      "text/html": [
       "<table>\n",
       "<caption>A matrix: 2 × 2 of type dbl</caption>\n",
       "<thead>\n",
       "\t<tr><th></th><th scope=col>freq</th><th scope=col>percentage</th></tr>\n",
       "</thead>\n",
       "<tbody>\n",
       "\t<tr><th scope=row>benign</th><td>367</td><td>65.53571</td></tr>\n",
       "\t<tr><th scope=row>malignant</th><td>193</td><td>34.46429</td></tr>\n",
       "</tbody>\n",
       "</table>\n"
      ],
      "text/latex": [
       "A matrix: 2 × 2 of type dbl\n",
       "\\begin{tabular}{r|ll}\n",
       "  & freq & percentage\\\\\n",
       "\\hline\n",
       "\tbenign & 367 & 65.53571\\\\\n",
       "\tmalignant & 193 & 34.46429\\\\\n",
       "\\end{tabular}\n"
      ],
      "text/markdown": [
       "\n",
       "A matrix: 2 × 2 of type dbl\n",
       "\n",
       "| <!--/--> | freq | percentage |\n",
       "|---|---|---|\n",
       "| benign | 367 | 65.53571 |\n",
       "| malignant | 193 | 34.46429 |\n",
       "\n"
      ],
      "text/plain": [
       "          freq percentage\n",
       "benign    367  65.53571  \n",
       "malignant 193  34.46429  "
      ]
     },
     "metadata": {},
     "output_type": "display_data"
    },
    {
     "data": {
      "text/html": [
       "<table>\n",
       "<caption>A matrix: 9 × 9 of type dbl</caption>\n",
       "<thead>\n",
       "\t<tr><th></th><th scope=col>Cl.thickness</th><th scope=col>Cell.size</th><th scope=col>Cell.shape</th><th scope=col>Marg.adhesion</th><th scope=col>Epith.c.size</th><th scope=col>Bare.nuclei</th><th scope=col>Bl.cromatin</th><th scope=col>Normal.nucleoli</th><th scope=col>Mitoses</th></tr>\n",
       "</thead>\n",
       "<tbody>\n",
       "\t<tr><th scope=row>Cl.thickness</th><td>1.0000000</td><td>0.6200884</td><td>0.6302917</td><td>0.4741733</td><td>0.5089557</td><td>0.5600770</td><td>0.5290733</td><td>0.5143933</td><td>0.3426018</td></tr>\n",
       "\t<tr><th scope=row>Cell.size</th><td>0.6200884</td><td>1.0000000</td><td>0.9011340</td><td>0.7141150</td><td>0.7404824</td><td>0.6687226</td><td>0.7502700</td><td>0.7072182</td><td>0.4506532</td></tr>\n",
       "\t<tr><th scope=row>Cell.shape</th><td>0.6302917</td><td>0.9011340</td><td>1.0000000</td><td>0.6846206</td><td>0.7043423</td><td>0.6896724</td><td>0.7276114</td><td>0.7127155</td><td>0.4345125</td></tr>\n",
       "\t<tr><th scope=row>Marg.adhesion</th><td>0.4741733</td><td>0.7141150</td><td>0.6846206</td><td>1.0000000</td><td>0.5860660</td><td>0.6660165</td><td>0.6660533</td><td>0.6031036</td><td>0.4314910</td></tr>\n",
       "\t<tr><th scope=row>Epith.c.size</th><td>0.5089557</td><td>0.7404824</td><td>0.7043423</td><td>0.5860660</td><td>1.0000000</td><td>0.5568406</td><td>0.6102032</td><td>0.6433364</td><td>0.4775271</td></tr>\n",
       "\t<tr><th scope=row>Bare.nuclei</th><td>0.5600770</td><td>0.6687226</td><td>0.6896724</td><td>0.6660165</td><td>0.5568406</td><td>1.0000000</td><td>0.6668483</td><td>0.5795794</td><td>0.3539473</td></tr>\n",
       "\t<tr><th scope=row>Bl.cromatin</th><td>0.5290733</td><td>0.7502700</td><td>0.7276114</td><td>0.6660533</td><td>0.6102032</td><td>0.6668483</td><td>1.0000000</td><td>0.6838547</td><td>0.3545122</td></tr>\n",
       "\t<tr><th scope=row>Normal.nucleoli</th><td>0.5143933</td><td>0.7072182</td><td>0.7127155</td><td>0.6031036</td><td>0.6433364</td><td>0.5795794</td><td>0.6838547</td><td>1.0000000</td><td>0.4084127</td></tr>\n",
       "\t<tr><th scope=row>Mitoses</th><td>0.3426018</td><td>0.4506532</td><td>0.4345125</td><td>0.4314910</td><td>0.4775271</td><td>0.3539473</td><td>0.3545122</td><td>0.4084127</td><td>1.0000000</td></tr>\n",
       "</tbody>\n",
       "</table>\n"
      ],
      "text/latex": [
       "A matrix: 9 × 9 of type dbl\n",
       "\\begin{tabular}{r|lllllllll}\n",
       "  & Cl.thickness & Cell.size & Cell.shape & Marg.adhesion & Epith.c.size & Bare.nuclei & Bl.cromatin & Normal.nucleoli & Mitoses\\\\\n",
       "\\hline\n",
       "\tCl.thickness & 1.0000000 & 0.6200884 & 0.6302917 & 0.4741733 & 0.5089557 & 0.5600770 & 0.5290733 & 0.5143933 & 0.3426018\\\\\n",
       "\tCell.size & 0.6200884 & 1.0000000 & 0.9011340 & 0.7141150 & 0.7404824 & 0.6687226 & 0.7502700 & 0.7072182 & 0.4506532\\\\\n",
       "\tCell.shape & 0.6302917 & 0.9011340 & 1.0000000 & 0.6846206 & 0.7043423 & 0.6896724 & 0.7276114 & 0.7127155 & 0.4345125\\\\\n",
       "\tMarg.adhesion & 0.4741733 & 0.7141150 & 0.6846206 & 1.0000000 & 0.5860660 & 0.6660165 & 0.6660533 & 0.6031036 & 0.4314910\\\\\n",
       "\tEpith.c.size & 0.5089557 & 0.7404824 & 0.7043423 & 0.5860660 & 1.0000000 & 0.5568406 & 0.6102032 & 0.6433364 & 0.4775271\\\\\n",
       "\tBare.nuclei & 0.5600770 & 0.6687226 & 0.6896724 & 0.6660165 & 0.5568406 & 1.0000000 & 0.6668483 & 0.5795794 & 0.3539473\\\\\n",
       "\tBl.cromatin & 0.5290733 & 0.7502700 & 0.7276114 & 0.6660533 & 0.6102032 & 0.6668483 & 1.0000000 & 0.6838547 & 0.3545122\\\\\n",
       "\tNormal.nucleoli & 0.5143933 & 0.7072182 & 0.7127155 & 0.6031036 & 0.6433364 & 0.5795794 & 0.6838547 & 1.0000000 & 0.4084127\\\\\n",
       "\tMitoses & 0.3426018 & 0.4506532 & 0.4345125 & 0.4314910 & 0.4775271 & 0.3539473 & 0.3545122 & 0.4084127 & 1.0000000\\\\\n",
       "\\end{tabular}\n"
      ],
      "text/markdown": [
       "\n",
       "A matrix: 9 × 9 of type dbl\n",
       "\n",
       "| <!--/--> | Cl.thickness | Cell.size | Cell.shape | Marg.adhesion | Epith.c.size | Bare.nuclei | Bl.cromatin | Normal.nucleoli | Mitoses |\n",
       "|---|---|---|---|---|---|---|---|---|---|\n",
       "| Cl.thickness | 1.0000000 | 0.6200884 | 0.6302917 | 0.4741733 | 0.5089557 | 0.5600770 | 0.5290733 | 0.5143933 | 0.3426018 |\n",
       "| Cell.size | 0.6200884 | 1.0000000 | 0.9011340 | 0.7141150 | 0.7404824 | 0.6687226 | 0.7502700 | 0.7072182 | 0.4506532 |\n",
       "| Cell.shape | 0.6302917 | 0.9011340 | 1.0000000 | 0.6846206 | 0.7043423 | 0.6896724 | 0.7276114 | 0.7127155 | 0.4345125 |\n",
       "| Marg.adhesion | 0.4741733 | 0.7141150 | 0.6846206 | 1.0000000 | 0.5860660 | 0.6660165 | 0.6660533 | 0.6031036 | 0.4314910 |\n",
       "| Epith.c.size | 0.5089557 | 0.7404824 | 0.7043423 | 0.5860660 | 1.0000000 | 0.5568406 | 0.6102032 | 0.6433364 | 0.4775271 |\n",
       "| Bare.nuclei | 0.5600770 | 0.6687226 | 0.6896724 | 0.6660165 | 0.5568406 | 1.0000000 | 0.6668483 | 0.5795794 | 0.3539473 |\n",
       "| Bl.cromatin | 0.5290733 | 0.7502700 | 0.7276114 | 0.6660533 | 0.6102032 | 0.6668483 | 1.0000000 | 0.6838547 | 0.3545122 |\n",
       "| Normal.nucleoli | 0.5143933 | 0.7072182 | 0.7127155 | 0.6031036 | 0.6433364 | 0.5795794 | 0.6838547 | 1.0000000 | 0.4084127 |\n",
       "| Mitoses | 0.3426018 | 0.4506532 | 0.4345125 | 0.4314910 | 0.4775271 | 0.3539473 | 0.3545122 | 0.4084127 | 1.0000000 |\n",
       "\n"
      ],
      "text/plain": [
       "                Cl.thickness Cell.size Cell.shape Marg.adhesion Epith.c.size\n",
       "Cl.thickness    1.0000000    0.6200884 0.6302917  0.4741733     0.5089557   \n",
       "Cell.size       0.6200884    1.0000000 0.9011340  0.7141150     0.7404824   \n",
       "Cell.shape      0.6302917    0.9011340 1.0000000  0.6846206     0.7043423   \n",
       "Marg.adhesion   0.4741733    0.7141150 0.6846206  1.0000000     0.5860660   \n",
       "Epith.c.size    0.5089557    0.7404824 0.7043423  0.5860660     1.0000000   \n",
       "Bare.nuclei     0.5600770    0.6687226 0.6896724  0.6660165     0.5568406   \n",
       "Bl.cromatin     0.5290733    0.7502700 0.7276114  0.6660533     0.6102032   \n",
       "Normal.nucleoli 0.5143933    0.7072182 0.7127155  0.6031036     0.6433364   \n",
       "Mitoses         0.3426018    0.4506532 0.4345125  0.4314910     0.4775271   \n",
       "                Bare.nuclei Bl.cromatin Normal.nucleoli Mitoses  \n",
       "Cl.thickness    0.5600770   0.5290733   0.5143933       0.3426018\n",
       "Cell.size       0.6687226   0.7502700   0.7072182       0.4506532\n",
       "Cell.shape      0.6896724   0.7276114   0.7127155       0.4345125\n",
       "Marg.adhesion   0.6660165   0.6660533   0.6031036       0.4314910\n",
       "Epith.c.size    0.5568406   0.6102032   0.6433364       0.4775271\n",
       "Bare.nuclei     1.0000000   0.6668483   0.5795794       0.3539473\n",
       "Bl.cromatin     0.6668483   1.0000000   0.6838547       0.3545122\n",
       "Normal.nucleoli 0.5795794   0.6838547   1.0000000       0.4084127\n",
       "Mitoses         0.3539473   0.3545122   0.4084127       1.0000000"
      ]
     },
     "metadata": {},
     "output_type": "display_data"
    },
    {
     "data": {
      "image/png": "[encoded data removed]",
      "text/plain": [
       "Plot with title “Mitoses”"
      ]
     },
     "metadata": {
      "image/png": {
       "height": 420,
       "width": 420
      },
      "text/plain": {
       "height": 420,
       "width": 420
      }
     },
     "output_type": "display_data"
    }
   ],
   "source": [
    "# class distribution\n",
    "cbind(freq=table(dataset$Class), percentage=prop.table(table(dataset$Class))*100)\n",
    "\n",
    "# summarize correlations between input variables\n",
    "complete_cases <- complete.cases(dataset)\n",
    "cor(dataset[complete_cases,1:9])\n",
    "\n",
    "# histograms each attribute\n",
    "par(mfrow=c(3,3))\n",
    "for(i in 1:9) {\n",
    "    hist(dataset[,i], main=names(dataset)[i])\n",
    "}"
   ]
  },
  {
   "cell_type": "code",
   "execution_count": null,
   "metadata": {},
   "outputs": [],
   "source": [
    "\n",
    "# density plot for each attribute\n",
    "par(mfrow=c(3,3))\n",
    "complete_cases <- complete.cases(dataset)\n",
    "for(i in 1:9) {\n",
    "    plot(density(dataset[complete_cases,i]), main=names(dataset)[i])\n",
    "}\n",
    "\n",
    "# boxplots for each attribute\n",
    "par(mfrow=c(3,3))\n",
    "for(i in 1:9) {\n",
    "    boxplot(dataset[,i], main=names(dataset)[i])\n",
    "}\n",
    "\n",
    "# scatterplot matrix\n",
    "jittered_x <- sapply(dataset[,1:9], jitter)\n",
    "pairs(jittered_x, names(dataset[,1:9]), col=dataset$Class)\n",
    "\n",
    "# bar plots of each variable by class\n",
    "par(mfrow=c(3,3))\n",
    "for(i in 1:9) {\n",
    "    barplot(table(dataset$Class,dataset[,i]), main=names(dataset)[i], legend.text=unique(dataset$Class))\n",
    "}\n",
    "\n",
    "\n",
    "\n",
    "# Evaluate Algorithms\n",
    "\n",
    "# 10-fold cross validation with 3 repeats\n",
    "control <- trainControl(method=\"repeatedcv\", number=10, repeats=3)\n",
    "metric <- \"Accuracy\"\n",
    "\n",
    "# LG\n",
    "set.seed(7)\n",
    "fit.glm <- train(Class~., data=dataset, method=\"glm\", metric=metric, trControl=control, na.action=na.omit)\n"
   ]
  },
  {
   "cell_type": "code",
   "execution_count": null,
   "metadata": {},
   "outputs": [],
   "source": [
    "\n",
    "# LDA\n",
    "set.seed(7)\n",
    "fit.lda <- train(Class~., data=dataset, method=\"lda\", metric=metric, trControl=control, na.action=na.omit)\n"
   ]
  },
  {
   "cell_type": "code",
   "execution_count": null,
   "metadata": {},
   "outputs": [],
   "source": [
    "\n",
    "# GLMNET\n",
    "set.seed(7)\n",
    "fit.glmnet <- train(Class~., data=dataset, method=\"glmnet\", metric=metric, trControl=control, na.action=na.omit)\n"
   ]
  },
  {
   "cell_type": "code",
   "execution_count": null,
   "metadata": {},
   "outputs": [],
   "source": [
    "\n",
    "# KNN\n",
    "set.seed(7)\n",
    "fit.knn <- train(Class~., data=dataset, method=\"knn\", metric=metric, trControl=control, na.action=na.omit)\n"
   ]
  },
  {
   "cell_type": "code",
   "execution_count": null,
   "metadata": {},
   "outputs": [],
   "source": [
    "\n",
    "# CART\n",
    "set.seed(7)\n",
    "fit.cart <- train(Class~., data=dataset, method=\"rpart\", metric=metric, trControl=control, na.action=na.omit)\n"
   ]
  },
  {
   "cell_type": "code",
   "execution_count": null,
   "metadata": {},
   "outputs": [],
   "source": [
    "\n",
    "# Naive Bayes\n",
    "set.seed(7)\n",
    "fit.nb <- train(Class~., data=dataset, method=\"nb\", metric=metric, trControl=control, na.action=na.omit)\n"
   ]
  },
  {
   "cell_type": "code",
   "execution_count": null,
   "metadata": {},
   "outputs": [],
   "source": [
    "\n",
    "# SVM\n",
    "set.seed(7)\n",
    "fit.svm <- train(Class~., data=dataset, method=\"svmRadial\", metric=metric, trControl=control, na.action=na.omit)\n"
   ]
  },
  {
   "cell_type": "code",
   "execution_count": null,
   "metadata": {},
   "outputs": [],
   "source": [
    "\n",
    "# Compare algorithms\n",
    "results <- resamples(list(LG=fit.glm, LDA=fit.lda, GLMNET=fit.glmnet, KNN=fit.knn, CART=fit.cart, NB=fit.nb, SVM=fit.svm))\n",
    "summary(results)\n",
    "dotplot(results)\n",
    "\n"
   ]
  },
  {
   "cell_type": "code",
   "execution_count": null,
   "metadata": {},
   "outputs": [],
   "source": [
    "\n",
    "# Evaluate Algorithms Transform\n",
    "\n",
    "# 10-fold cross validation with 3 repeats\n",
    "control <- trainControl(method=\"repeatedcv\", number=10, repeats=3)\n",
    "metric <- \"Accuracy\"\n"
   ]
  },
  {
   "cell_type": "code",
   "execution_count": null,
   "metadata": {},
   "outputs": [],
   "source": [
    "\n",
    "# LG\n",
    "set.seed(7)\n",
    "fit.glm <- train(Class~., data=dataset, method=\"glm\", metric=metric, preProc=c(\"BoxCox\"), trControl=control, na.action=na.omit)\n"
   ]
  },
  {
   "cell_type": "code",
   "execution_count": null,
   "metadata": {},
   "outputs": [],
   "source": [
    "\n",
    "# LDA\n",
    "set.seed(7)\n",
    "fit.lda <- train(Class~., data=dataset, method=\"lda\", metric=metric, preProc=c(\"BoxCox\"), trControl=control, na.action=na.omit)\n"
   ]
  },
  {
   "cell_type": "code",
   "execution_count": null,
   "metadata": {},
   "outputs": [],
   "source": [
    "\n",
    "# GLMNET\n",
    "set.seed(7)\n",
    "fit.glmnet <- train(Class~., data=dataset, method=\"glmnet\", metric=metric, preProc=c(\"BoxCox\"), trControl=control, na.action=na.omit)\n"
   ]
  },
  {
   "cell_type": "code",
   "execution_count": null,
   "metadata": {},
   "outputs": [],
   "source": [
    "\n",
    "# KNN\n",
    "set.seed(7)\n",
    "fit.knn <- train(Class~., data=dataset, method=\"knn\", metric=metric, preProc=c(\"BoxCox\"), trControl=control, na.action=na.omit)\n"
   ]
  },
  {
   "cell_type": "code",
   "execution_count": null,
   "metadata": {},
   "outputs": [],
   "source": [
    "\n",
    "# CART\n",
    "set.seed(7)\n",
    "fit.cart <- train(Class~., data=dataset, method=\"rpart\", metric=metric, preProc=c(\"BoxCox\"), trControl=control, na.action=na.omit)\n"
   ]
  },
  {
   "cell_type": "code",
   "execution_count": null,
   "metadata": {},
   "outputs": [],
   "source": [
    "\n",
    "# Naive Bayes\n",
    "set.seed(7)\n",
    "fit.nb <- train(Class~., data=dataset, method=\"nb\", metric=metric, preProc=c(\"BoxCox\"), trControl=control, na.action=na.omit)\n"
   ]
  },
  {
   "cell_type": "code",
   "execution_count": null,
   "metadata": {},
   "outputs": [],
   "source": [
    "\n",
    "# SVM\n",
    "set.seed(7)\n",
    "fit.svm <- train(Class~., data=dataset, method=\"svmRadial\", metric=metric, preProc=c(\"BoxCox\"), trControl=control, na.action=na.omit)\n"
   ]
  },
  {
   "cell_type": "code",
   "execution_count": null,
   "metadata": {},
   "outputs": [],
   "source": [
    "\n",
    "# Compare algorithms\n",
    "transform_results <- resamples(list(LG=fit.glm, LDA=fit.lda, GLMNET=fit.glmnet, KNN=fit.knn, CART=fit.cart, NB=fit.nb, SVM=fit.svm))\n",
    "summary(transform_results)\n",
    "dotplot(transform_results)\n",
    "\n"
   ]
  },
  {
   "cell_type": "code",
   "execution_count": null,
   "metadata": {},
   "outputs": [],
   "source": [
    "\n",
    "\n",
    "# Tune SVM\n",
    "\n",
    "# 10-fold cross validation with 3 repeats\n",
    "control <- trainControl(method=\"repeatedcv\", number=10, repeats=3)\n",
    "metric <- \"Accuracy\"\n",
    "set.seed(7)\n",
    "grid <- expand.grid(.sigma=c(0.025, 0.05, 0.1, 0.15), .C=seq(1, 10, by=1))\n",
    "fit.svm <- train(Class~., data=dataset, method=\"svmRadial\", metric=metric, tuneGrid=grid, preProc=c(\"BoxCox\"), trControl=control, na.action=na.omit)\n",
    "print(fit.svm)\n",
    "plot(fit.svm)"
   ]
  }
 ],
 "metadata": {
  "kernelspec": {
   "display_name": "R",
   "language": "R",
   "name": "ir"
  },
  "language_info": {
   "codemirror_mode": "r",
   "file_extension": ".r",
   "mimetype": "text/x-r-source",
   "name": "R",
   "pygments_lexer": "r",
   "version": "3.4.3"
  }
 },
 "nbformat": 4,
 "nbformat_minor": 2
}
