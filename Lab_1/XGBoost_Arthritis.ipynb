{
 "cells": [
  {
   "cell_type": "markdown",
   "metadata": {},
   "source": [
    "## Table of Contents\n",
    "\n",
    "- Process of Machine Learning Predictions\n",
    "- Housing Data Set\n",
    "- Understand the problem\n",
    "- Hypothesis Generation\n",
    "- Get Data\n",
    "- Data Exploration\n",
    "- Data Pre-Processing\n",
    "- Feature Engineering - Create 331 new features\n",
    "- Model Training - XGBoost, Neural Network, Lasso\n",
    "- Model Evaluation"
   ]
  },
  {
   "cell_type": "markdown",
   "metadata": {},
   "source": [
    "## Process of Machine Learning Predictions"
   ]
  },
  {
   "cell_type": "code",
   "execution_count": 6,
   "metadata": {},
   "outputs": [
    {
     "name": "stderr",
     "output_type": "stream",
     "text": [
      "Loading required package: xgboost\n",
      "\n",
      "Loading required package: Matrix\n",
      "\n",
      "Warning message:\n",
      "“package ‘Matrix’ was built under R version 3.4.4”\n",
      "Loading required package: data.table\n",
      "\n",
      "Warning message:\n",
      "“package ‘data.table’ was built under R version 3.4.4”\n",
      "Loading required package: vcd\n",
      "\n",
      "Warning message in library(package, lib.loc = lib.loc, character.only = TRUE, logical.return = TRUE, :\n",
      "“there is no package called ‘vcd’”\n",
      "also installing the dependency ‘lmtest’\n",
      "\n",
      "\n"
     ]
    },
    {
     "name": "stdout",
     "output_type": "stream",
     "text": [
      "\n",
      "  There is a binary version available but the source version is later:\n",
      "       binary source needs_compilation\n",
      "lmtest 0.9-36 0.9-37              TRUE\n",
      "\n",
      "\n",
      "The downloaded binary packages are in\n",
      "\t/var/folders/hw/83xf1jxs0b58xft1b6ghk0280000gn/T//RtmpVmLXRv/downloaded_packages\n"
     ]
    },
    {
     "name": "stderr",
     "output_type": "stream",
     "text": [
      "installing the source package ‘lmtest’\n",
      "\n",
      "\n",
      "Warning message in install.packages(\"vcd\"):\n",
      "“installation of package ‘lmtest’ had non-zero exit status”\n"
     ]
    }
   ],
   "source": [
    "require(xgboost)\n",
    "require(Matrix)\n",
    "require(data.table)\n",
    "if (!require('vcd')) install.packages('vcd')"
   ]
  },
  {
   "cell_type": "code",
   "execution_count": 5,
   "metadata": {},
   "outputs": [],
   "source": [
    "help(package = \"datasets\")"
   ]
  },
  {
   "cell_type": "code",
   "execution_count": 7,
   "metadata": {},
   "outputs": [
    {
     "name": "stderr",
     "output_type": "stream",
     "text": [
      "Warning message in data(Arthritis):\n",
      "“data set ‘Arthritis’ not found”\n"
     ]
    },
    {
     "ename": "ERROR",
     "evalue": "Error in data.table(Arthritis, keep.rownames = F): object 'Arthritis' not found\n",
     "output_type": "error",
     "traceback": [
      "Error in data.table(Arthritis, keep.rownames = F): object 'Arthritis' not found\nTraceback:\n",
      "1. data.table(Arthritis, keep.rownames = F)"
     ]
    }
   ],
   "source": [
    "data(Arthritis)\n",
    "df <- data.table(Arthritis, keep.rownames = F)"
   ]
  },
  {
   "cell_type": "code",
   "execution_count": null,
   "metadata": {},
   "outputs": [],
   "source": [
    "head(df)"
   ]
  },
  {
   "cell_type": "code",
   "execution_count": null,
   "metadata": {},
   "outputs": [],
   "source": []
  }
 ],
 "metadata": {
  "kernelspec": {
   "display_name": "R",
   "language": "R",
   "name": "ir"
  },
  "language_info": {
   "codemirror_mode": "r",
   "file_extension": ".r",
   "mimetype": "text/x-r-source",
   "name": "R",
   "pygments_lexer": "r",
   "version": "3.4.3"
  }
 },
 "nbformat": 4,
 "nbformat_minor": 2
}
