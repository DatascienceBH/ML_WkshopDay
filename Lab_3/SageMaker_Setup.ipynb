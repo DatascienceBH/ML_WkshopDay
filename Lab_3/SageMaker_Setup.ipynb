{
 "cells": [
  {
   "cell_type": "markdown",
   "metadata": {},
   "source": [
    "### SageMaker  Setup :\n",
    "![](Aws_sageMaker.jpg)\n",
    "\n",
    "- login to  you aws consol account\n",
    "- **select sagemaker service** \n",
    "<img src=\"sageMaker_1.png\" width=500>\n"
   ]
  },
  {
   "cell_type": "markdown",
   "metadata": {},
   "source": [
    "- **select NoteBook Instances** \n",
    "<img src=\"sageMaker_2.png\" width=300>"
   ]
  },
  {
   "cell_type": "markdown",
   "metadata": {},
   "source": [
    "- **Click on Create NoteBook Instance** \n",
    "<img src=\"sageMaker_3.png\" width=700>"
   ]
  },
  {
   "cell_type": "markdown",
   "metadata": {},
   "source": [
    "- **Give  a name to the NoteBook Instance and select a machine instance too** \n",
    "(Keep the Ec2 instance by default)\n",
    "<img src=\"sageMaker_4.png\" width=300>"
   ]
  },
  {
   "cell_type": "markdown",
   "metadata": {},
   "source": [
    "- **Create a new Role** \n",
    "<img src=\"sageMaker_5.png\" width=300>"
   ]
  },
  {
   "cell_type": "markdown",
   "metadata": {},
   "source": [
    "- **select \"Any S3 bucket** \n",
    "<img src=\"sageMaker_6.png\" width=300>"
   ]
  },
  {
   "cell_type": "markdown",
   "metadata": {},
   "source": [
    "- **Notice the creation of you NoteBook instance** \n",
    "<img src=\"sageMaker_7.png\" width=500>"
   ]
  },
  {
   "cell_type": "markdown",
   "metadata": {},
   "source": [
    "- **Notice the pending status of the new NoteBook Instance** \n",
    "<img src=\"sageMaker_8.png\" width=700>"
   ]
  },
  {
   "cell_type": "markdown",
   "metadata": {},
   "source": [
    "- **Few minutes later the service is available. Click on Open Jupyter** \n",
    "<img src=\"sageMaker_9.png\" width=700>"
   ]
  },
  {
   "cell_type": "markdown",
   "metadata": {},
   "source": [
    "- **Go to github and choose the repository : AWS-ML-SageMaker at the following link :** \n",
    "- https://github.com/DatascienceBH/AWS-ML-SageMaker\n",
    "<img src=\"Git.png\" width=500>"
   ]
  },
  {
   "cell_type": "markdown",
   "metadata": {},
   "source": [
    "-**The repository AWS-ML-SageMaker** \n",
    "<img src=\"Git1.png\" width=700>"
   ]
  },
  {
   "cell_type": "code",
   "execution_count": null,
   "metadata": {
    "scrolled": true
   },
   "outputs": [],
   "source": []
  },
  {
   "cell_type": "markdown",
   "metadata": {},
   "source": [
    "-**Go back to Jupyter Notebook Instance and  clone the Gthub repository** \n",
    "<img src=\"git3.png\" width=750>"
   ]
  },
  {
   "cell_type": "markdown",
   "metadata": {},
   "source": [
    "- **OPen the your Sageamaker Notebook Instance  home page** \n",
    "<img src=\"sgm2.png\" width=300>"
   ]
  },
  {
   "cell_type": "markdown",
   "metadata": {},
   "source": [
    "- **Move to the dowloaded AWS-ML-SageMaker folder  & choose one** \n",
    "<img src=\"sgm1.png\" width=300>"
   ]
  },
  {
   "cell_type": "markdown",
   "metadata": {},
   "source": [
    "- **move to the right folder and click to the  correspondant   ipynb. file** \n",
    "<img src=\"sgm3.png\" width=500>"
   ]
  },
  {
   "cell_type": "code",
   "execution_count": null,
   "metadata": {
    "scrolled": true
   },
   "outputs": [],
   "source": []
  }
 ],
 "metadata": {
  "celltoolbar": "Tags",
  "kernelspec": {
   "display_name": "Python 3",
   "language": "python",
   "name": "python3"
  },
  "language_info": {
   "codemirror_mode": {
    "name": "ipython",
    "version": 3
   },
   "file_extension": ".py",
   "mimetype": "text/x-python",
   "name": "python",
   "nbconvert_exporter": "python",
   "pygments_lexer": "ipython3",
   "version": "3.7.1"
  },
  "notice": "Copyright 2017 Amazon.com, Inc. or its affiliates. All Rights Reserved.  Licensed under the Apache License, Version 2.0 (the \"License\"). You may not use this file except in compliance with the License. A copy of the License is located at http://aws.amazon.com/apache2.0/ or in the \"license\" file accompanying this file. This file is distributed on an \"AS IS\" BASIS, WITHOUT WARRANTIES OR CONDITIONS OF ANY KIND, either express or implied. See the License for the specific language governing permissions and limitations under the License."
 },
 "nbformat": 4,
 "nbformat_minor": 2
}
